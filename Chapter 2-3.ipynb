{
 "cells": [
  {
   "cell_type": "markdown",
   "metadata": {},
   "source": [
    "# 2. Variables and simple data types"
   ]
  },
  {
   "cell_type": "markdown",
   "metadata": {},
   "source": [
    "This is a variable!\n",
    "message is the variable"
   ]
  },
  {
   "cell_type": "markdown",
   "metadata": {},
   "source": [
    "Rules for variables:\n",
    "* only letters\n",
    "* no spaces allowed\n",
    "* avoid pythin keywords\n",
    "* should be short and descriptive\n",
    "* be careful with l and 1"
   ]
  },
  {
   "cell_type": "code",
   "execution_count": null,
   "metadata": {},
   "outputs": [],
   "source": [
    "message = \"Hello python\"\n",
    "print(message)\n",
    "\n",
    "message = \"Hello puta\"\n",
    "print(message)"
   ]
  },
  {
   "cell_type": "markdown",
   "metadata": {},
   "source": [
    "## Strings"
   ]
  },
  {
   "cell_type": "markdown",
   "metadata": {},
   "source": [
    "\"this is a string\"\n",
    "'this is also a sting'\n",
    "'this \"is\" a string too!'"
   ]
  },
  {
   "cell_type": "code",
   "execution_count": 10,
   "metadata": {},
   "outputs": [
    {
     "name": "stdout",
     "output_type": "stream",
     "text": [
      "this is a string\n",
      "this is also a sting\n",
      "this \"is\" a string too!\n"
     ]
    }
   ],
   "source": [
    "print(\"this is a string\")\n",
    "print('this is also a sting') \n",
    "print('this \"is\" a string too!')\n"
   ]
  },
  {
   "cell_type": "markdown",
   "metadata": {},
   "source": [
    "**change the case of the string**\n",
    "* method title() performs this action here\n",
    "* the . (dot) after \"name\" makes the method \"ttitle\" act on \"name\"\n",
    "* after every method are parantheses, because methods can have additional information to do their work\n",
    "* in this case there is not such a need and it is empty\n"
   ]
  },
  {
   "cell_type": "code",
   "execution_count": 6,
   "metadata": {
    "scrolled": true
   },
   "outputs": [
    {
     "name": "stdout",
     "output_type": "stream",
     "text": [
      "Little One\n"
     ]
    }
   ],
   "source": [
    "name = \"little one\"\n",
    "print(name.title())"
   ]
  },
  {
   "cell_type": "markdown",
   "metadata": {},
   "source": [
    "* other useful methods are \"upper\" and \"lower\"\n",
    "* they can change each letter of the string in uppercase or lowercase"
   ]
  },
  {
   "cell_type": "code",
   "execution_count": 7,
   "metadata": {},
   "outputs": [
    {
     "name": "stdout",
     "output_type": "stream",
     "text": [
      "OTHER ONES\n",
      "other ones\n"
     ]
    }
   ],
   "source": [
    "name = \"other ones\"\n",
    "print(name.upper())\n",
    "print(name.lower())"
   ]
  },
  {
   "cell_type": "markdown",
   "metadata": {},
   "source": [
    "combining or *concatenating* string\n",
    "you often want to combine strings "
   ]
  },
  {
   "cell_type": "code",
   "execution_count": 12,
   "metadata": {},
   "outputs": [
    {
     "name": "stdout",
     "output_type": "stream",
     "text": [
      "ugur tigu\n"
     ]
    }
   ],
   "source": [
    "first_name =  \"ugur\"\n",
    "last_name = \"tigu\"\n",
    "full_name = first_name + \" \" + last_name\n",
    "print(full_name)"
   ]
  },
  {
   "cell_type": "code",
   "execution_count": 13,
   "metadata": {},
   "outputs": [
    {
     "name": "stdout",
     "output_type": "stream",
     "text": [
      "Hello, Ugur Tigu!\n"
     ]
    }
   ],
   "source": [
    "first_name =  \"ugur\"\n",
    "last_name = \"tigu\"\n",
    "full_name = first_name + \" \" + last_name\n",
    "print(\"Hello, \" + full_name.title() + \"!\")"
   ]
  },
  {
   "cell_type": "code",
   "execution_count": 14,
   "metadata": {},
   "outputs": [
    {
     "name": "stdout",
     "output_type": "stream",
     "text": [
      "Hello, Ugur Tigu!\n"
     ]
    }
   ],
   "source": [
    "first_name =  \"ugur\"\n",
    "last_name = \"tigu\"\n",
    "full_name = first_name + \" \" + last_name\n",
    "message = \"Hello, \" + full_name.title() + \"!\"\n",
    "print(message)"
   ]
  },
  {
   "cell_type": "markdown",
   "metadata": {},
   "source": [
    "adding whitespace to strings  with tabs or newlines\n",
    "* to add \"tab\" add \"\\t\"\n",
    "* to add \"new line\" add \"\\n\"\n",
    "* you can also combine both"
   ]
  },
  {
   "cell_type": "code",
   "execution_count": 15,
   "metadata": {},
   "outputs": [
    {
     "name": "stdout",
     "output_type": "stream",
     "text": [
      "python\n",
      "\tpython\n"
     ]
    }
   ],
   "source": [
    "print(\"python\")\n",
    "print(\"\\tpython\")"
   ]
  },
  {
   "cell_type": "code",
   "execution_count": 19,
   "metadata": {},
   "outputs": [
    {
     "name": "stdout",
     "output_type": "stream",
     "text": [
      "languages:\n",
      "english\n",
      "german\n",
      "turkish\n"
     ]
    }
   ],
   "source": [
    "print(\"languages:\\nenglish\\ngerman\\nturkish\")"
   ]
  },
  {
   "cell_type": "code",
   "execution_count": 23,
   "metadata": {},
   "outputs": [
    {
     "name": "stdout",
     "output_type": "stream",
     "text": [
      "languages:\n",
      "\tenglish\n",
      "\tgerman\n",
      "\tturkish\n"
     ]
    }
   ],
   "source": [
    "print(\"languages:\\n\\tenglish\\n\\tgerman\\n\\tturkish\")"
   ]
  },
  {
   "cell_type": "markdown",
   "metadata": {},
   "source": [
    "stripping whitespace\n",
    "* 'python' and 'python ' look pretty much the same\n",
    "* To ensure that no whitespace exists at the right end of a string, use the *rstrip()* method\n",
    "\n",
    "\n",
    "we store the fav_lang in a new variable so we can print it directly out without doing the operation in the print method)\n",
    "\n",
    "btw! you can do the same operation with left also! the method is called *lstrip()* method and works pretty much the same way!!"
   ]
  },
  {
   "cell_type": "code",
   "execution_count": 90,
   "metadata": {},
   "outputs": [
    {
     "name": "stdout",
     "output_type": "stream",
     "text": [
      "python a\n",
      "pythona\n",
      "pythona\n"
     ]
    }
   ],
   "source": [
    "fav_lang = 'python '\n",
    "print(fav_lang+'a')\n",
    "print(fav_lang.rstrip()+'a')\n",
    "fav_lang = fav_lang.rstrip()\n",
    "print(fav_lang+'a')\n"
   ]
  },
  {
   "cell_type": "markdown",
   "metadata": {},
   "source": [
    "#### Tasks\n",
    "\n",
    "* 2-3. Personal Message: Store a person’s name in a variable, and print a message to that person . Your message should be simple, such as, “Hello Eric, would you like to learn some Python today?”\n",
    "* 2-4. Name Cases: Store a person’s name in a variable, and then print that person’s name in lowercase, uppercase, and titlecase .\n",
    "* 2-5. Famous Quote: Find a quote from a famous person you admire . Print the quote and the name of its author . Your output should look something like the following, including the quotation marks:\n",
    "Albert Einstein once said, “A person who never made a mistake never tried anything new.”\n",
    "* 2-6. Famous Quote 2: Repeat Exercise 2-5, but this time store the famous per- son’s name in a variable called famous_person . Then compose your message and store it in a new variable called message . Print your message .\n",
    "* 2-7. Stripping Names: Store a person’s name, and include some whitespace characters at the beginning and end of the name . Make sure you use each character combination, \"\\t\" and \"\\n\", at least once. Print the name once, so the whitespace around the name is displayed . Then print the name using each of the three stripping functions, lstrip(), rstrip(), and strip()."
   ]
  },
  {
   "cell_type": "code",
   "execution_count": 93,
   "metadata": {},
   "outputs": [
    {
     "name": "stdout",
     "output_type": "stream",
     "text": [
      "Hello Ugur would you like to learn some Python today?\n"
     ]
    }
   ],
   "source": [
    "#2.3\n",
    "name = \"ugur\"\n",
    "print(\"Hello \" + name.title() + \" would you like to learn some Python today?\")"
   ]
  },
  {
   "cell_type": "code",
   "execution_count": 96,
   "metadata": {},
   "outputs": [
    {
     "name": "stdout",
     "output_type": "stream",
     "text": [
      "ugur\n",
      "UGUR\n",
      "Ugur\n"
     ]
    }
   ],
   "source": [
    "#2.4\n",
    "name = \"ugur\"\n",
    "print(name.lower())\n",
    "print(name.upper())\n",
    "print(name.title())"
   ]
  },
  {
   "cell_type": "code",
   "execution_count": 108,
   "metadata": {},
   "outputs": [
    {
     "name": "stdout",
     "output_type": "stream",
     "text": [
      "Seneca once said: \"As is a tale, so is life: not how long it is, but how good it is, is what matters.\"\n"
     ]
    }
   ],
   "source": [
    "#2.5\n",
    "quote = \"As is a tale, so is life: not how long it is, but how good it is, is what matters.\"\n",
    "name = 'seneca'\n",
    "print(name.title() + \" once said: \" + '\"' + quote + '\"' )"
   ]
  },
  {
   "cell_type": "code",
   "execution_count": 109,
   "metadata": {},
   "outputs": [
    {
     "name": "stdout",
     "output_type": "stream",
     "text": [
      "Seneca once said: \"As is a tale, so is life: not how long it is, but how good it is, is what matters.\"\n"
     ]
    }
   ],
   "source": [
    "#2.6\n",
    "quote = \"As is a tale, so is life: not how long it is, but how good it is, is what matters.\"\n",
    "name = 'seneca'\n",
    "message = name.title() + \" once said: \" + '\"' + quote + '\"' \n",
    "print(message)"
   ]
  },
  {
   "cell_type": "code",
   "execution_count": 116,
   "metadata": {},
   "outputs": [
    {
     "name": "stdout",
     "output_type": "stream",
     "text": [
      "a ugur a\n",
      "augur a\n",
      "a ugura\n",
      "augura\n"
     ]
    }
   ],
   "source": [
    "#2.7\n",
    "name = \" ugur \"\n",
    "print(\"a\"+name+\"a\")\n",
    "print(\"a\"+name.lstrip()+\"a\")\n",
    "print(\"a\"+name.rstrip()+\"a\")\n",
    "print(\"a\"+name.strip()+\"a\")\n"
   ]
  },
  {
   "cell_type": "markdown",
   "metadata": {},
   "source": [
    "## Integers"
   ]
  },
  {
   "cell_type": "markdown",
   "metadata": {},
   "source": [
    "you can add (+) substract (-) multiply (*) and devide (/) integers"
   ]
  },
  {
   "cell_type": "code",
   "execution_count": 40,
   "metadata": {},
   "outputs": [
    {
     "data": {
      "text/plain": [
       "5"
      ]
     },
     "execution_count": 40,
     "metadata": {},
     "output_type": "execute_result"
    }
   ],
   "source": [
    "2+3"
   ]
  },
  {
   "cell_type": "code",
   "execution_count": 41,
   "metadata": {},
   "outputs": [
    {
     "data": {
      "text/plain": [
       "-1"
      ]
     },
     "execution_count": 41,
     "metadata": {},
     "output_type": "execute_result"
    }
   ],
   "source": [
    "2-3"
   ]
  },
  {
   "cell_type": "code",
   "execution_count": 42,
   "metadata": {},
   "outputs": [
    {
     "data": {
      "text/plain": [
       "6"
      ]
     },
     "execution_count": 42,
     "metadata": {},
     "output_type": "execute_result"
    }
   ],
   "source": [
    "2*3"
   ]
  },
  {
   "cell_type": "code",
   "execution_count": 43,
   "metadata": {},
   "outputs": [
    {
     "data": {
      "text/plain": [
       "0.6666666666666666"
      ]
     },
     "execution_count": 43,
     "metadata": {},
     "output_type": "execute_result"
    }
   ],
   "source": [
    "2/3"
   ]
  },
  {
   "cell_type": "markdown",
   "metadata": {},
   "source": [
    "for exponents use **"
   ]
  },
  {
   "cell_type": "code",
   "execution_count": 47,
   "metadata": {},
   "outputs": [
    {
     "data": {
      "text/plain": [
       "8"
      ]
     },
     "execution_count": 47,
     "metadata": {},
     "output_type": "execute_result"
    }
   ],
   "source": [
    "2**3"
   ]
  },
  {
   "cell_type": "markdown",
   "metadata": {},
   "source": [
    "## Floats"
   ]
  },
  {
   "cell_type": "markdown",
   "metadata": {},
   "source": [
    "any number with a decimal is a float"
   ]
  },
  {
   "cell_type": "markdown",
   "metadata": {},
   "source": [
    "avoiding type errors with the *str()* function\n",
    "\n",
    "when use integers and strings together you have to tell that you want the integer as a string"
   ]
  },
  {
   "cell_type": "code",
   "execution_count": 50,
   "metadata": {},
   "outputs": [
    {
     "name": "stdout",
     "output_type": "stream",
     "text": [
      "Happy 30rd Birthday!\n"
     ]
    }
   ],
   "source": [
    "age = 30\n",
    "message = \"Happy \" + str(age) + \"rd Birthday!\"\n",
    "print(message)\n"
   ]
  },
  {
   "cell_type": "markdown",
   "metadata": {},
   "source": [
    "## Comments\n",
    "\n"
   ]
  },
  {
   "cell_type": "markdown",
   "metadata": {},
   "source": [
    "the hash mark (#) you can use as comments"
   ]
  },
  {
   "cell_type": "code",
   "execution_count": 52,
   "metadata": {},
   "outputs": [
    {
     "name": "stdout",
     "output_type": "stream",
     "text": [
      "this and ignore the thing above\n"
     ]
    }
   ],
   "source": [
    "#say hallo\n",
    "print(\"this and ignore the thing above\")"
   ]
  },
  {
   "cell_type": "code",
   "execution_count": 53,
   "metadata": {},
   "outputs": [
    {
     "name": "stdout",
     "output_type": "stream",
     "text": [
      "The Zen of Python, by Tim Peters\n",
      "\n",
      "Beautiful is better than ugly.\n",
      "Explicit is better than implicit.\n",
      "Simple is better than complex.\n",
      "Complex is better than complicated.\n",
      "Flat is better than nested.\n",
      "Sparse is better than dense.\n",
      "Readability counts.\n",
      "Special cases aren't special enough to break the rules.\n",
      "Although practicality beats purity.\n",
      "Errors should never pass silently.\n",
      "Unless explicitly silenced.\n",
      "In the face of ambiguity, refuse the temptation to guess.\n",
      "There should be one-- and preferably only one --obvious way to do it.\n",
      "Although that way may not be obvious at first unless you're Dutch.\n",
      "Now is better than never.\n",
      "Although never is often better than *right* now.\n",
      "If the implementation is hard to explain, it's a bad idea.\n",
      "If the implementation is easy to explain, it may be a good idea.\n",
      "Namespaces are one honking great idea -- let's do more of those!\n"
     ]
    }
   ],
   "source": [
    "import this"
   ]
  },
  {
   "cell_type": "markdown",
   "metadata": {},
   "source": [
    "# 3. Lists"
   ]
  },
  {
   "cell_type": "markdown",
   "metadata": {},
   "source": [
    "* Lists allow you to store sets of information in one place\n",
    "* A list is a collection of items in a particular order\n",
    "* You can make a list that includes the letters of the alphabet\n",
    "* the digits from 0–9\n",
    "* or the names of all the people in your family\n",
    "* it’s a good idea to make the name of your list plural, such as letters, digits, or names\n",
    "* In Python, square brackets ([ ]) indicate a list\n",
    "* and individual elements in the list are separated by commas"
   ]
  },
  {
   "cell_type": "code",
   "execution_count": 54,
   "metadata": {},
   "outputs": [
    {
     "name": "stdout",
     "output_type": "stream",
     "text": [
      "['trek', 'connan', 'redline']\n"
     ]
    }
   ],
   "source": [
    "bikes = ['trek', 'connan', 'redline']\n",
    "print(bikes)"
   ]
  },
  {
   "cell_type": "markdown",
   "metadata": {},
   "source": [
    "### acceccing elements in a list\n",
    "* lists are ordered collections\n",
    "    1. you have to tell the position (or the index) of the desired item\n",
    "    2. to access an element in a list, write the name of the list followed by the index of the item in square brackets"
   ]
  },
  {
   "cell_type": "code",
   "execution_count": 55,
   "metadata": {},
   "outputs": [
    {
     "name": "stdout",
     "output_type": "stream",
     "text": [
      "trek\n"
     ]
    }
   ],
   "source": [
    "bikes = ['trek', 'connan', 'redline']\n",
    "print(bikes[0])"
   ]
  },
  {
   "cell_type": "code",
   "execution_count": 57,
   "metadata": {},
   "outputs": [
    {
     "name": "stdout",
     "output_type": "stream",
     "text": [
      "Trek\n"
     ]
    }
   ],
   "source": [
    "#using the string method title() to format the element to have it capitalized\n",
    "bikes = ['trek', 'connan', 'redline']\n",
    "print(bikes[0].title())"
   ]
  },
  {
   "cell_type": "markdown",
   "metadata": {},
   "source": [
    "index positions start at 0 not 1!!\n",
    "* the first item is always 0 and not 1\n",
    "* if you want to have the 4th item you have to say 3 as index"
   ]
  },
  {
   "cell_type": "code",
   "execution_count": 58,
   "metadata": {},
   "outputs": [
    {
     "name": "stdout",
     "output_type": "stream",
     "text": [
      "redline\n"
     ]
    }
   ],
   "source": [
    "bikes = ['trek', 'connan', 'redline']\n",
    "print(bikes[2])"
   ]
  },
  {
   "cell_type": "markdown",
   "metadata": {},
   "source": [
    "for the last element in a list just ask for the \"-1\" item in the list!"
   ]
  },
  {
   "cell_type": "code",
   "execution_count": 59,
   "metadata": {},
   "outputs": [
    {
     "name": "stdout",
     "output_type": "stream",
     "text": [
      "redline\n"
     ]
    }
   ],
   "source": [
    "bikes = ['trek', 'connan', 'redline']\n",
    "print(bikes[-1])"
   ]
  },
  {
   "cell_type": "markdown",
   "metadata": {},
   "source": [
    "you can go backwards by saying \"-2\" and \"-3\" ..."
   ]
  },
  {
   "cell_type": "code",
   "execution_count": 60,
   "metadata": {},
   "outputs": [
    {
     "name": "stdout",
     "output_type": "stream",
     "text": [
      "connan\n"
     ]
    }
   ],
   "source": [
    "bikes = ['trek', 'connan', 'redline']\n",
    "print(bikes[-2])"
   ]
  },
  {
   "cell_type": "markdown",
   "metadata": {},
   "source": [
    "you can use individual values from a list just like any other variable"
   ]
  },
  {
   "cell_type": "code",
   "execution_count": 62,
   "metadata": {},
   "outputs": [
    {
     "name": "stdout",
     "output_type": "stream",
     "text": [
      "my first bike was a Trek.\n"
     ]
    }
   ],
   "source": [
    "bikes = ['trek', 'connan', 'redline']\n",
    "message = \"my first bike was a \" + bikes[0].title() + \".\"\n",
    "print(message)"
   ]
  },
  {
   "cell_type": "markdown",
   "metadata": {},
   "source": [
    "### changing elements from a list\n",
    "\n",
    "1. use the name of the list\n",
    "2. followed by the index of the element you want to change\n",
    "3. and provide the new value "
   ]
  },
  {
   "cell_type": "code",
   "execution_count": 63,
   "metadata": {},
   "outputs": [
    {
     "name": "stdout",
     "output_type": "stream",
     "text": [
      "['trek', 'connan', 'redline']\n"
     ]
    }
   ],
   "source": [
    "bikes = ['trek', 'connan', 'redline']\n",
    "print(bikes)"
   ]
  },
  {
   "cell_type": "code",
   "execution_count": 65,
   "metadata": {},
   "outputs": [
    {
     "name": "stdout",
     "output_type": "stream",
     "text": [
      "['ducati', 'connan', 'redline']\n"
     ]
    }
   ],
   "source": [
    "bikes = ['trek', 'connan', 'redline']\n",
    "bikes[0] = 'ducati'\n",
    "print(bikes)"
   ]
  },
  {
   "cell_type": "markdown",
   "metadata": {},
   "source": [
    "### adding elements to a list\n",
    "\n",
    "1. append the element to the list by using the append method\n",
    "2. the element will be added to the end of the list"
   ]
  },
  {
   "cell_type": "code",
   "execution_count": 66,
   "metadata": {},
   "outputs": [
    {
     "name": "stdout",
     "output_type": "stream",
     "text": [
      "['trek', 'connan', 'redline']\n",
      "['trek', 'connan', 'redline', 'ducati']\n"
     ]
    }
   ],
   "source": [
    "bikes = ['trek', 'connan', 'redline']\n",
    "print(bikes)\n",
    "\n",
    "bikes.append('ducati')\n",
    "print(bikes)"
   ]
  },
  {
   "cell_type": "markdown",
   "metadata": {},
   "source": [
    "* you can start with a empty list\n",
    "* and add something into the list with the append() method\n",
    "\n",
    "this is a common way to build lists, because you don't know what the data will be in the list"
   ]
  },
  {
   "cell_type": "code",
   "execution_count": 67,
   "metadata": {},
   "outputs": [
    {
     "name": "stdout",
     "output_type": "stream",
     "text": [
      "['bike_a', 'bike_b', 'bike_c']\n"
     ]
    }
   ],
   "source": [
    "bikes = []\n",
    "\n",
    "bikes.append('bike_a')\n",
    "bikes.append('bike_b')\n",
    "bikes.append('bike_c')\n",
    "\n",
    "print(bikes)\n",
    "\n"
   ]
  },
  {
   "cell_type": "markdown",
   "metadata": {},
   "source": [
    "### inserting elements to the list\n",
    "* with the insert() method\n",
    "* you can specify the index of the new element\n",
    "* parameters (index number, element string)"
   ]
  },
  {
   "cell_type": "code",
   "execution_count": 69,
   "metadata": {},
   "outputs": [
    {
     "name": "stdout",
     "output_type": "stream",
     "text": [
      "['ducati', 'trek', 'connan', 'redline']\n"
     ]
    }
   ],
   "source": [
    "bikes = ['trek', 'connan', 'redline']\n",
    "\n",
    "bikes.insert(0, 'ducati')\n",
    "print(bikes)"
   ]
  },
  {
   "cell_type": "code",
   "execution_count": 70,
   "metadata": {
    "scrolled": true
   },
   "outputs": [
    {
     "name": "stdout",
     "output_type": "stream",
     "text": [
      "['trek', 'ducati', 'connan', 'redline']\n"
     ]
    }
   ],
   "source": [
    "bikes = ['trek', 'connan', 'redline']\n",
    "\n",
    "bikes.insert(1, 'ducati')\n",
    "print(bikes)"
   ]
  },
  {
   "cell_type": "markdown",
   "metadata": {},
   "source": [
    "### removing elements from a list with the *del statement*\n",
    "* with the \"del\" statement and the name of the list and the index of the element\n",
    "* you can remove an element according to its position in the list \n",
    "* or according to its value"
   ]
  },
  {
   "cell_type": "code",
   "execution_count": 71,
   "metadata": {},
   "outputs": [
    {
     "name": "stdout",
     "output_type": "stream",
     "text": [
      "['trek', 'connan', 'redline']\n",
      "['connan', 'redline']\n"
     ]
    }
   ],
   "source": [
    "bikes = ['trek', 'connan', 'redline']\n",
    "print(bikes)\n",
    "\n",
    "del bikes[0]\n",
    "print(bikes)"
   ]
  },
  {
   "cell_type": "markdown",
   "metadata": {},
   "source": [
    "### removing elements from a list with the *pop() method*\n",
    "* you want to use the removed element of a list \n",
    "* the *pop() method* removes the last item in a list\n",
    "* but it lets you work with that item after removing it\n",
    "* pop from a stack (from the top) here from the end of the list "
   ]
  },
  {
   "cell_type": "code",
   "execution_count": 73,
   "metadata": {},
   "outputs": [
    {
     "name": "stdout",
     "output_type": "stream",
     "text": [
      "['trek', 'connan', 'redline']\n",
      "['trek', 'connan']\n",
      "redline\n"
     ]
    }
   ],
   "source": [
    "bikes = ['trek', 'connan', 'redline']\n",
    "print(bikes)\n",
    "\n",
    "popped_bikes = bikes.pop()\n",
    "print(bikes)\n",
    "print(popped_bikes)"
   ]
  },
  {
   "cell_type": "code",
   "execution_count": 75,
   "metadata": {},
   "outputs": [
    {
     "name": "stdout",
     "output_type": "stream",
     "text": [
      "The last owned bike is a Redline.\n"
     ]
    }
   ],
   "source": [
    "bikes = ['trek', 'connan', 'redline']\n",
    "last_owned_bike = bikes.pop()\n",
    "print(\"The last owned bike is a \" + last_owned_bike.title() + \".\")"
   ]
  },
  {
   "cell_type": "markdown",
   "metadata": {},
   "source": [
    "* after using the *pop() method* the element is no longer in the list!\n",
    "* if you want to delete the item and not want to use it any more use **del statement**\n",
    "* if you want to delete the item and want to use it again use **pop() method**"
   ]
  },
  {
   "cell_type": "markdown",
   "metadata": {},
   "source": [
    "### removing an item by value\n",
    "* if you only know the value (not the position)\n",
    "* use the **remove() method**"
   ]
  },
  {
   "cell_type": "code",
   "execution_count": 76,
   "metadata": {},
   "outputs": [
    {
     "name": "stdout",
     "output_type": "stream",
     "text": [
      "['trek', 'connan', 'redline']\n",
      "['trek', 'redline']\n"
     ]
    }
   ],
   "source": [
    "bikes = ['trek', 'connan', 'redline']\n",
    "print(bikes)\n",
    "\n",
    "bikes.remove('connan')\n",
    "print(bikes)"
   ]
  },
  {
   "cell_type": "markdown",
   "metadata": {},
   "source": [
    "you can also work with removed item removed via the **remove() method**"
   ]
  },
  {
   "cell_type": "code",
   "execution_count": 81,
   "metadata": {},
   "outputs": [
    {
     "name": "stdout",
     "output_type": "stream",
     "text": [
      "['trek', 'connan', 'redline']\n",
      "['trek', 'redline']\n",
      "\n",
      "A Connan is too expensive for me.\n"
     ]
    }
   ],
   "source": [
    "bikes = ['trek', 'connan', 'redline']\n",
    "print(bikes)\n",
    "\n",
    "too_expensive = 'connan'\n",
    "bikes.remove(too_expensive)\n",
    "print(bikes)\n",
    "print(\"\\A \" + too_expensive.title() + \" is too expensive for me.\")"
   ]
  },
  {
   "cell_type": "markdown",
   "metadata": {},
   "source": [
    "### organizing lists\n",
    "* you can't always control the order of \n",
    "* sometimes you want the original order\n",
    "* sometimes you want to sort them **alphabetically**\n",
    "* the **sort() method** changes the order of the list *permanently*"
   ]
  },
  {
   "cell_type": "code",
   "execution_count": 82,
   "metadata": {},
   "outputs": [
    {
     "name": "stdout",
     "output_type": "stream",
     "text": [
      "['audi', 'bmw', 'subaru', 'toyota']\n"
     ]
    }
   ],
   "source": [
    "cars = ['bmw', 'audi', 'toyota', 'subaru']\n",
    "cars.sort()\n",
    "print(cars)"
   ]
  },
  {
   "cell_type": "markdown",
   "metadata": {},
   "source": [
    "* sort the list reverse alphabetically by passing the argument **reverse = True** to the **sort() method**\n",
    "* the order is permanently changed here, too!"
   ]
  },
  {
   "cell_type": "code",
   "execution_count": 84,
   "metadata": {},
   "outputs": [
    {
     "name": "stdout",
     "output_type": "stream",
     "text": [
      "['toyota', 'subaru', 'bmw', 'audi']\n"
     ]
    }
   ],
   "source": [
    "cars = ['bmw', 'audi', 'toyota', 'subaru']\n",
    "cars.sort(reverse=True)\n",
    "print(cars)"
   ]
  },
  {
   "cell_type": "markdown",
   "metadata": {},
   "source": [
    "* **sorting a list temporarily with the *sorted() function***\n",
    "* the **sorted() function** can also accep **reverse = True** "
   ]
  },
  {
   "cell_type": "code",
   "execution_count": 85,
   "metadata": {},
   "outputs": [
    {
     "name": "stdout",
     "output_type": "stream",
     "text": [
      "Here is the original list:\n",
      "['bmw', 'audi', 'toyota', 'subaru']\n",
      "\n",
      "Here is the sorted list:\n",
      "['audi', 'bmw', 'subaru', 'toyota']\n",
      "\n",
      "Here is the original list again:\n",
      "['bmw', 'audi', 'toyota', 'subaru']\n"
     ]
    }
   ],
   "source": [
    "cars = ['bmw', 'audi', 'toyota', 'subaru']\n",
    "print(\"Here is the original list:\")\n",
    "print(cars)\n",
    "\n",
    "print(\"\\nHere is the sorted list:\")\n",
    "print(sorted(cars))\n",
    "\n",
    "print(\"\\nHere is the original list again:\")\n",
    "print(cars)"
   ]
  },
  {
   "cell_type": "markdown",
   "metadata": {},
   "source": [
    "* **printing in reverse order (chronologically - not alphabetically)**\n",
    "* with the **reverse() method**\n",
    "* you can \"undo\" by applying the same function a second time"
   ]
  },
  {
   "cell_type": "code",
   "execution_count": 86,
   "metadata": {},
   "outputs": [
    {
     "name": "stdout",
     "output_type": "stream",
     "text": [
      "['bmw', 'audi', 'toyota', 'subaru']\n",
      "['subaru', 'toyota', 'audi', 'bmw']\n"
     ]
    }
   ],
   "source": [
    "cars = ['bmw', 'audi', 'toyota', 'subaru']\n",
    "print(cars)\n",
    "\n",
    "cars.reverse()\n",
    "print(cars)"
   ]
  },
  {
   "cell_type": "code",
   "execution_count": 87,
   "metadata": {},
   "outputs": [
    {
     "name": "stdout",
     "output_type": "stream",
     "text": [
      "['bmw', 'audi', 'toyota', 'subaru']\n",
      "['subaru', 'toyota', 'audi', 'bmw']\n",
      "['bmw', 'audi', 'toyota', 'subaru']\n"
     ]
    }
   ],
   "source": [
    "cars = ['bmw', 'audi', 'toyota', 'subaru']\n",
    "print(cars)\n",
    "\n",
    "cars.reverse()\n",
    "print(cars)\n",
    "\n",
    "cars.reverse()\n",
    "print(cars)"
   ]
  },
  {
   "cell_type": "markdown",
   "metadata": {},
   "source": [
    "* **finding the lenght of a list**\n",
    "* with the **len() function**"
   ]
  },
  {
   "cell_type": "code",
   "execution_count": 117,
   "metadata": {},
   "outputs": [
    {
     "data": {
      "text/plain": [
       "4"
      ]
     },
     "execution_count": 117,
     "metadata": {},
     "output_type": "execute_result"
    }
   ],
   "source": [
    "cars = ['bmw', 'audi', 'toyota', 'subaru']\n",
    "len(cars)"
   ]
  },
  {
   "cell_type": "markdown",
   "metadata": {},
   "source": [
    "#### Tasks\n",
    "\n",
    "* 3-1. Names: Store the names of a few of your friends in a list called names . Print each person’s name by accessing each element in the list, one at a time.\n",
    "* 3-2. Greetings: Start with the list you used in Exercise 3-1, but instead of just printing each person’s name, print a message to them. The text of each message should be the same, but each message should be personalized with the person’s name.\n",
    "* 3-3. Your Own List: Think of your favorite mode of transportation, such as a motorcycle or a car, and make a list that stores several examples . Use your list to print a series of statements about these items, such as “I would like to own a Honda motorcycle.”\n",
    "* 3-4. Guest List: If you could invite anyone, living or deceased, to dinner, who would you invite? Make a list that includes at least three people you’d like to invite to dinner . Then use your list to print a message to each person, inviting them to dinner.\n",
    "* 3-5. Changing Guest List: You just heard that one of your guests can’t make the dinner, so you need to send out a new set of invitations . You’ll have to think of someone else to invite.\n",
    "    * Start with your program from Exercise 3-4 . Add a print statement at the end of your program stating the name of the guest who can’t make it.\n",
    "    * Modify your list, replacing the name of the guest who can’t make it with the name of the new person you are inviting.\n",
    "    * Print a second set of invitation messages, one for each person who is still in your list. \n",
    "* 3-6. More Guests: You just found a bigger dinner table, so now more space is available. Think of three more guests to invite to dinner.\n",
    "    * Start with your program from Exercise 3-4 or Exercise 3-5 . Add a print statement to the end of your program informing people that you found a bigger dinner table.\n",
    "    * Use insert() to add one new guest to the beginning of your list.\n",
    "    * Use insert() to add one new guest to the middle of your list.\n",
    "    * Use append() to add one new guest to the end of your list.\n",
    "    * Print a new set of invitation messages, one for each person in your list."
   ]
  },
  {
   "cell_type": "code",
   "execution_count": 119,
   "metadata": {},
   "outputs": [
    {
     "name": "stdout",
     "output_type": "stream",
     "text": [
      "jeff\n",
      "ricardo\n",
      "nina\n",
      "sven\n"
     ]
    }
   ],
   "source": [
    "#3.1\n",
    "friends = ['jeff', 'ricardo', 'nina', 'sven']\n",
    "print(friends[0])\n",
    "print(friends[1])\n",
    "print(friends[2])\n",
    "print(friends[3])"
   ]
  },
  {
   "cell_type": "code",
   "execution_count": 121,
   "metadata": {},
   "outputs": [
    {
     "name": "stdout",
     "output_type": "stream",
     "text": [
      "Hello my friend Jeff!\n",
      "Hello my friend Ricardo!\n",
      "Hello my friend Nina!\n",
      "Hello my friend Sven!\n"
     ]
    }
   ],
   "source": [
    "#3.2\n",
    "friends = ['jeff', 'ricardo', 'nina', 'sven']\n",
    "print(\"Hello my friend \" + friends[0].title() + \"!\")\n",
    "print(\"Hello my friend \" + friends[1].title() + \"!\")\n",
    "print(\"Hello my friend \" + friends[2].title() + \"!\")\n",
    "print(\"Hello my friend \" + friends[3].title() + \"!\")"
   ]
  },
  {
   "cell_type": "code",
   "execution_count": 123,
   "metadata": {},
   "outputs": [
    {
     "name": "stdout",
     "output_type": "stream",
     "text": [
      "I would like to drive a Benz!\n"
     ]
    }
   ],
   "source": [
    "#3.3\n",
    "cars = ['audi', 'benz', 'bentley', 'smart']\n",
    "print(\"I would like to drive a \" + cars[1].title() + \"!\")"
   ]
  },
  {
   "cell_type": "code",
   "execution_count": 126,
   "metadata": {},
   "outputs": [
    {
     "name": "stdout",
     "output_type": "stream",
     "text": [
      "I would like to invite Hitler to dinner!\n",
      "I would like to invite Saddam to dinner!\n",
      "I would like to invite Hitlers Wife to dinner!\n"
     ]
    }
   ],
   "source": [
    "#3.4\n",
    "persons = ['hitler', 'saddam', 'hitlers wife']\n",
    "print(\"I would like to invite \" + persons[0].title() + \" to dinner!\")\n",
    "print(\"I would like to invite \" + persons[1].title() + \" to dinner!\")\n",
    "print(\"I would like to invite \" + persons[2].title() + \" to dinner!\")"
   ]
  },
  {
   "cell_type": "code",
   "execution_count": 146,
   "metadata": {},
   "outputs": [
    {
     "name": "stdout",
     "output_type": "stream",
     "text": [
      "['saddam', 'hitlers wife']\n",
      "\n",
      "My friend Hitler is not coming tonight!\n",
      "['saddam', 'hitlers wife']\n",
      "['saddam', 'merkel', 'hitlers wife']\n",
      "I would like to invite Saddam to dinner!\n",
      "I would like to invite Merkel to dinner!\n",
      "I would like to invite Hitlers Wife to dinner!\n"
     ]
    }
   ],
   "source": [
    "#3.5\n",
    "persons = ['hitler', 'saddam', 'hitlers wife']\n",
    "not_coming = 'hitler'\n",
    "persons.remove(not_coming)\n",
    "print(persons)\n",
    "print(\"\\nMy friend \" + not_coming.title() + \" is not coming tonight!\")\n",
    "print(persons)\n",
    "persons.insert(1, 'merkel')\n",
    "print(persons)\n",
    "print(\"I would like to invite \" + persons[0].title() + \" to dinner!\")\n",
    "print(\"I would like to invite \" + persons[1].title() + \" to dinner!\")\n",
    "print(\"I would like to invite \" + persons[2].title() + \" to dinner!\")"
   ]
  },
  {
   "cell_type": "code",
   "execution_count": 155,
   "metadata": {},
   "outputs": [
    {
     "name": "stdout",
     "output_type": "stream",
     "text": [
      "Hey Hitler, I found a bigger table!\n",
      "Hey Saddam, I found a bigger table!\n",
      "Hey Hitlers Wife, I found a bigger table!\n",
      "['merkel', 'hitler', 'saddam', 'hitlers wife', 'atatürk']\n",
      "\n",
      "Hey Merkel, I found a bigger table!\n",
      "Hey Hitler, I found a bigger table!\n",
      "Hey Saddam, I found a bigger table!\n",
      "Hey Hitlers Wife, I found a bigger table!\n",
      "Hey Atatürk, I found a bigger table!\n"
     ]
    }
   ],
   "source": [
    "#3.6\n",
    "persons = ['hitler', 'saddam', 'hitlers wife']\n",
    "print(\"Hey \" + persons[0].title() + \", I found a bigger table!\")\n",
    "print(\"Hey \" + persons[1].title() + \", I found a bigger table!\")\n",
    "print(\"Hey \" + persons[2].title() + \", I found a bigger table!\")\n",
    "persons.insert(0, 'merkel')\n",
    "persons.insert(4, 'atatürk')\n",
    "print(persons)\n",
    "\n",
    "print(\"\\nHey \" + persons[0].title() + \", I found a bigger table!\")\n",
    "print(\"Hey \" + persons[1].title() + \", I found a bigger table!\")\n",
    "print(\"Hey \" + persons[2].title() + \", I found a bigger table!\")\n",
    "print(\"Hey \" + persons[3].title() + \", I found a bigger table!\")\n",
    "print(\"Hey \" + persons[4].title() + \", I found a bigger table!\")"
   ]
  },
  {
   "cell_type": "markdown",
   "metadata": {},
   "source": [
    "#### Tasks\n",
    "\n",
    "* 3-7. Shrinking Guest List: You just found out that your new dinner table won’t arrive in time for the dinner, and you have space for only two guests .\n",
    "    * Start with your program from Exercise 3-6 . Add a new line that prints a message saying that you can invite only two people for dinner .\n",
    "    * Use pop() to remove guests from your list one at a time until only two names remain in your list . Each time you pop a name from your list, print a message to that person letting them know you’re sorry you can’t invite them to dinner .\n",
    "    * Print a message to each of the two people still on your list, letting them know they’re still invited .\n",
    "    * Use del to remove the last two names from your list, so you have an empty list . Print your list to make sure you actually have an empty list at the end of your program .\n"
   ]
  },
  {
   "cell_type": "code",
   "execution_count": 177,
   "metadata": {},
   "outputs": [
    {
     "name": "stdout",
     "output_type": "stream",
     "text": [
      "\n",
      "Hey, I can invite just 2 people!\n",
      "The person who goes out is: Hitlers Wife!\n",
      "The person who goes out is: Saddam!\n",
      "\n",
      "My friend Hitler is invited!\n",
      "['hitler']\n",
      "[]\n"
     ]
    }
   ],
   "source": [
    "#3.7\n",
    "persons = ['hitler', 'saddam', 'hitlers wife']\n",
    "print(\"\\nHey, I can invite just 2 people!\")\n",
    "\n",
    "person_goes_out = persons.pop()\n",
    "print(\"The person who goes out is: \" + person_goes_out.title() + \"!\")\n",
    "person_goes_out = persons.pop()\n",
    "print(\"The person who goes out is: \" + person_goes_out.title() + \"!\")\n",
    "last_name = persons[-1]\n",
    "print(\"\\nMy friend \" + last_name.title() + \" is invited!\")\n",
    "print(persons)\n",
    "del persons[-1]\n",
    "print(persons)\n",
    "\n",
    "\n"
   ]
  },
  {
   "cell_type": "markdown",
   "metadata": {},
   "source": [
    "#### Tasks\n",
    "\n",
    "* 3-8. Seeing the World: Think of at least five places in the world you’d like to visit.\n",
    "    * Store the locations in a list . Make sure the list is not in alphabetical order.\n",
    "    * Print your list in its original order . Don’t worry about printing the list neatly, just print it as a raw Python list.\n",
    "    * Use sorted() to print your list in alphabetical order without modifying the actual list.\n",
    "Show that your list is still in its original order by printing it.\n",
    "    * Use sorted() to print your list in reverse alphabetical order without changing the order of the original list. Show that your list is still in its original order by printing it again.\n",
    "    * Use reverse() to change the order of your list . Print the list to show that its order has changed.\n",
    "    * Use reverse() to change the order of your list again . Print the list to show it’s back to its original order.\n",
    "    * Use sort() to change your list so it’s stored in alphabetical order. Print the list to show that its order has been changed.\n",
    "    * Use sort() to change your list so it’s stored in reverse alphabetical order . Print the list to show that its order has changed.\n",
    "* 3-9. Dinner Guests: Working with one of the programs from Exercises 3-4 through 3-7 (page 46), use len() to print a message indicating the number of people you are inviting to dinner.\n",
    "* 3-10. Every Function: Think of something you could store in a list. For example, you could make a list of mountains, rivers, countries, cities, languages, or anything else you’d like. Write a program that creates a list containing these items and then uses each function introduced in this chapter at least once."
   ]
  },
  {
   "cell_type": "code",
   "execution_count": 178,
   "metadata": {},
   "outputs": [
    {
     "name": "stdout",
     "output_type": "stream",
     "text": [
      "['rio', 'kabul', 'tokio', 'new york', 'san fransisco']\n"
     ]
    }
   ],
   "source": [
    "#3.8\n",
    "locations = ['rio', 'kabul', 'tokio', 'new york', 'san fransisco']\n",
    "print(locations)"
   ]
  },
  {
   "cell_type": "code",
   "execution_count": 179,
   "metadata": {},
   "outputs": [
    {
     "name": "stdout",
     "output_type": "stream",
     "text": [
      "['kabul', 'new york', 'rio', 'san fransisco', 'tokio']\n"
     ]
    }
   ],
   "source": [
    "print(sorted(locations))"
   ]
  },
  {
   "cell_type": "code",
   "execution_count": 180,
   "metadata": {},
   "outputs": [
    {
     "name": "stdout",
     "output_type": "stream",
     "text": [
      "['tokio', 'san fransisco', 'rio', 'new york', 'kabul']\n"
     ]
    }
   ],
   "source": [
    "print(sorted(locations, reverse=True))"
   ]
  },
  {
   "cell_type": "code",
   "execution_count": 181,
   "metadata": {},
   "outputs": [
    {
     "name": "stdout",
     "output_type": "stream",
     "text": [
      "['kabul', 'new york', 'rio', 'san fransisco', 'tokio']\n"
     ]
    }
   ],
   "source": [
    "print(sorted(locations))"
   ]
  },
  {
   "cell_type": "code",
   "execution_count": 186,
   "metadata": {},
   "outputs": [
    {
     "name": "stdout",
     "output_type": "stream",
     "text": [
      "['san fransisco', 'new york', 'tokio', 'kabul', 'rio']\n",
      "['rio', 'kabul', 'tokio', 'new york', 'san fransisco']\n",
      "['san fransisco', 'new york', 'tokio', 'kabul', 'rio']\n"
     ]
    }
   ],
   "source": [
    "print(locations)\n",
    "locations.reverse()\n",
    "print(locations)\n",
    "locations.reverse()\n",
    "print(locations)"
   ]
  },
  {
   "cell_type": "code",
   "execution_count": 188,
   "metadata": {},
   "outputs": [
    {
     "name": "stdout",
     "output_type": "stream",
     "text": [
      "['kabul', 'new york', 'rio', 'san fransisco', 'tokio']\n",
      "['kabul', 'new york', 'rio', 'san fransisco', 'tokio']\n",
      "['tokio', 'san fransisco', 'rio', 'new york', 'kabul']\n"
     ]
    }
   ],
   "source": [
    "print(locations)\n",
    "locations.sort()\n",
    "print(locations)\n",
    "locations.sort(reverse=True)\n",
    "print(locations)"
   ]
  },
  {
   "cell_type": "code",
   "execution_count": 189,
   "metadata": {},
   "outputs": [
    {
     "name": "stdout",
     "output_type": "stream",
     "text": [
      "We have 3 people!\n"
     ]
    }
   ],
   "source": [
    "#3.9\n",
    "persons = ['hitler', 'saddam', 'hitlers wife']\n",
    "num_persons = len(persons)\n",
    "print(\"We have \" + str(num_persons) + \" people!\")"
   ]
  },
  {
   "cell_type": "code",
   "execution_count": null,
   "metadata": {},
   "outputs": [],
   "source": [
    "#3.10\n"
   ]
  }
 ],
 "metadata": {
  "kernelspec": {
   "display_name": "Python 3",
   "language": "python",
   "name": "python3"
  },
  "language_info": {
   "codemirror_mode": {
    "name": "ipython",
    "version": 3
   },
   "file_extension": ".py",
   "mimetype": "text/x-python",
   "name": "python",
   "nbconvert_exporter": "python",
   "pygments_lexer": "ipython3",
   "version": "3.7.3"
  }
 },
 "nbformat": 4,
 "nbformat_minor": 2
}
