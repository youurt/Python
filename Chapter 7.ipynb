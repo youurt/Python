{
 "cells": [
  {
   "cell_type": "markdown",
   "metadata": {},
   "source": [
    "# 7. User Input and While Loops"
   ]
  },
  {
   "cell_type": "markdown",
   "metadata": {},
   "source": [
    "## How the input() function works"
   ]
  },
  {
   "cell_type": "code",
   "execution_count": 3,
   "metadata": {},
   "outputs": [
    {
     "name": "stdout",
     "output_type": "stream",
     "text": [
      "Tell me something, and I will repeat it back to you: Hi\n",
      "Hi\n"
     ]
    }
   ],
   "source": [
    "message = input(\"Tell me something, and I will repeat it back to you: \")\n",
    "print(message)"
   ]
  },
  {
   "cell_type": "markdown",
   "metadata": {},
   "source": [
    "* the **input() function** pauses the program and waits for the user to enter some text\n",
    "* once the program receives the user's input it stores it in a variable (message)"
   ]
  },
  {
   "cell_type": "code",
   "execution_count": 4,
   "metadata": {},
   "outputs": [
    {
     "name": "stdout",
     "output_type": "stream",
     "text": [
      "Please enter your name: Ugur\n",
      "Hello, Ugur!\n"
     ]
    }
   ],
   "source": [
    "name = input(\"Please enter your name: \")\n",
    "print(\"Hello, \" + name + \"!\")"
   ]
  },
  {
   "cell_type": "markdown",
   "metadata": {},
   "source": [
    "* The promt message should be clear, easy-to-follow\n",
    "* which tells the user exactly what kind of information it needs\n",
    "* add space after the promt"
   ]
  },
  {
   "cell_type": "code",
   "execution_count": 5,
   "metadata": {},
   "outputs": [
    {
     "name": "stdout",
     "output_type": "stream",
     "text": [
      "If you tell us who you are, we can personalize the messages you see.\n",
      "What is your first name? Ugur\n",
      "\n",
      "Hello, Ugur!\n"
     ]
    }
   ],
   "source": [
    "promt = \"If you tell us who you are, we can personalize the messages you see.\"\n",
    "promt += \"\\nWhat is your first name? \"\n",
    "\n",
    "name = input(promt)\n",
    "print(\"\\nHello, \" + name + \"!\")"
   ]
  },
  {
   "cell_type": "markdown",
   "metadata": {},
   "source": [
    "* Here we biuld a multi-line string\n",
    "* the first line is the part of the message\n",
    "* the \"**+=**\" operator take the string that was stored in \"**promt**\" and adds the new string onto the end\n",
    "* now we have two lines"
   ]
  },
  {
   "cell_type": "code",
   "execution_count": 6,
   "metadata": {},
   "outputs": [
    {
     "name": "stdout",
     "output_type": "stream",
     "text": [
      "How old are you? 30\n"
     ]
    }
   ],
   "source": [
    "age = input(\"How old are you? \")"
   ]
  },
  {
   "cell_type": "code",
   "execution_count": 7,
   "metadata": {},
   "outputs": [
    {
     "data": {
      "text/plain": [
       "str"
      ]
     },
     "execution_count": 7,
     "metadata": {},
     "output_type": "execute_result"
    }
   ],
   "source": [
    "type(age)"
   ]
  },
  {
   "cell_type": "markdown",
   "metadata": {},
   "source": [
    "* the input function interprets everything as **string**"
   ]
  },
  {
   "cell_type": "code",
   "execution_count": null,
   "metadata": {},
   "outputs": [],
   "source": []
  },
  {
   "cell_type": "code",
   "execution_count": 8,
   "metadata": {},
   "outputs": [
    {
     "name": "stdout",
     "output_type": "stream",
     "text": [
      "How old are you? 30\n"
     ]
    }
   ],
   "source": [
    "age = input(\"How old are you? \")\n",
    "age = int(age)\n"
   ]
  },
  {
   "cell_type": "code",
   "execution_count": 9,
   "metadata": {},
   "outputs": [
    {
     "data": {
      "text/plain": [
       "int"
      ]
     },
     "execution_count": 9,
     "metadata": {},
     "output_type": "execute_result"
    }
   ],
   "source": [
    "type(age)"
   ]
  },
  {
   "cell_type": "markdown",
   "metadata": {},
   "source": [
    "* we can resolve this ussue by using the **int() function**\n",
    "* which tells python to threat the input as a numerical value"
   ]
  },
  {
   "cell_type": "code",
   "execution_count": 10,
   "metadata": {},
   "outputs": [
    {
     "name": "stdout",
     "output_type": "stream",
     "text": [
      "How tall are you, in cm? 184\n",
      "\n",
      "You are tall enough to ride!\n"
     ]
    }
   ],
   "source": [
    "height = input(\"How tall are you, in cm? \")\n",
    "height = int(height)\n",
    "\n",
    "if height >= 150:\n",
    "    print(\"\\nYou are tall enough to ride!\")\n",
    "else:\n",
    "    print(\"\\nYou are too small buddy!\")"
   ]
  },
  {
   "cell_type": "markdown",
   "metadata": {},
   "source": [
    "* an example for using the input in a program"
   ]
  },
  {
   "cell_type": "code",
   "execution_count": 11,
   "metadata": {},
   "outputs": [
    {
     "data": {
      "text/plain": [
       "1"
      ]
     },
     "execution_count": 11,
     "metadata": {},
     "output_type": "execute_result"
    }
   ],
   "source": [
    "4%3"
   ]
  },
  {
   "cell_type": "code",
   "execution_count": 12,
   "metadata": {},
   "outputs": [
    {
     "data": {
      "text/plain": [
       "2"
      ]
     },
     "execution_count": 12,
     "metadata": {},
     "output_type": "execute_result"
    }
   ],
   "source": [
    "5%3"
   ]
  },
  {
   "cell_type": "code",
   "execution_count": 13,
   "metadata": {},
   "outputs": [
    {
     "data": {
      "text/plain": [
       "0"
      ]
     },
     "execution_count": 13,
     "metadata": {},
     "output_type": "execute_result"
    }
   ],
   "source": [
    "6%3"
   ]
  },
  {
   "cell_type": "code",
   "execution_count": 14,
   "metadata": {},
   "outputs": [
    {
     "data": {
      "text/plain": [
       "1"
      ]
     },
     "execution_count": 14,
     "metadata": {},
     "output_type": "execute_result"
    }
   ],
   "source": [
    "7%3"
   ]
  },
  {
   "cell_type": "markdown",
   "metadata": {},
   "source": [
    "* the **modulo operator** doesn't tell you how many times one number fits into another\n",
    "* it just tells you what the remainder is\n",
    "* when a number is divisible by another number, the remainder is 0\n",
    "* you can use this fact to determine if a number is even or odd:"
   ]
  },
  {
   "cell_type": "code",
   "execution_count": 15,
   "metadata": {},
   "outputs": [
    {
     "name": "stdout",
     "output_type": "stream",
     "text": [
      "Enter a number, and I'll tell you if it's even or odd: 2\n",
      "\n",
      "The number 2 is even!\n"
     ]
    }
   ],
   "source": [
    "number = input(\"Enter a number, and I'll tell you if it's even or odd: \")\n",
    "number = int(number)\n",
    "\n",
    "if number % 2 == 0:\n",
    "    print(\"\\nThe number \" + str(number) + \" is even!\")\n",
    "else:\n",
    "    print(\"\\nThe number \" + str(number) + \" is odd!\")"
   ]
  },
  {
   "cell_type": "markdown",
   "metadata": {},
   "source": [
    "* **even numbers are always divisible by two**\n",
    "* so if the modulo of a number and two is zero (the conditional test is true)\n",
    "    * the number is even\n",
    "* else:\n",
    "    * the number is odd"
   ]
  },
  {
   "cell_type": "markdown",
   "metadata": {},
   "source": [
    "#### Tasks"
   ]
  },
  {
   "cell_type": "markdown",
   "metadata": {},
   "source": [
    "* 7-1. Rental Car: Write a program that asks the user what kind of rental car they would like. Print a message about that car, such as “Let me see if I can find you a Subaru.”\n",
    "* 7-2. Restaurant Seating: Write a program that asks the user how many people are in their dinner group. If the answer is more than eight, print a message saying they’ll have to wait for a table. Otherwise, report that their table is ready.\n",
    "* 7-3. Multiples of Ten: Ask the user for a number, and then report whether the number is a multiple of 10 or not."
   ]
  },
  {
   "cell_type": "code",
   "execution_count": 75,
   "metadata": {},
   "outputs": [
    {
     "name": "stdout",
     "output_type": "stream",
     "text": [
      "What car do you want to drive? Opel\n",
      "\n",
      "Let me see if I can find a Opel.\n"
     ]
    }
   ],
   "source": [
    "# 7.1\n",
    "prompt = \"What car do you want to drive? \"\n",
    "car = input(prompt)\n",
    "print(\"\\nLet me see if I can find a \" + car + \".\")"
   ]
  },
  {
   "cell_type": "code",
   "execution_count": 79,
   "metadata": {},
   "outputs": [
    {
     "name": "stdout",
     "output_type": "stream",
     "text": [
      "How many people are in the dinner group? 9\n",
      "You have to wait for a table!\n"
     ]
    }
   ],
   "source": [
    "# 7.2\n",
    "prompt = \"How many people are in the dinner group? \"\n",
    "number = input(prompt)\n",
    "number = int(number)\n",
    "if number > 8:\n",
    "    print(\"You have to wait for a table!\")\n",
    "else:\n",
    "    print(\"Your table is ready!\")"
   ]
  },
  {
   "cell_type": "code",
   "execution_count": 83,
   "metadata": {},
   "outputs": [
    {
     "name": "stdout",
     "output_type": "stream",
     "text": [
      "Say a number: 30\n",
      "The number: 30 is a multiple of 10!\n"
     ]
    }
   ],
   "source": [
    "#7.3\n",
    "prompt = \"Say a number: \"\n",
    "number = input(prompt)\n",
    "number = int(number)\n",
    "if number % 10 == 0:\n",
    "    print(\"The number: \" + str(number) + \" is a multiple of 10!\")\n",
    "else:\n",
    "    print(\"The number: \" + str(number) + \" is not a multiple of 10!\")"
   ]
  },
  {
   "cell_type": "markdown",
   "metadata": {},
   "source": [
    "## Introducing while Loops"
   ]
  },
  {
   "cell_type": "code",
   "execution_count": 16,
   "metadata": {},
   "outputs": [
    {
     "name": "stdout",
     "output_type": "stream",
     "text": [
      "1\n",
      "2\n",
      "3\n",
      "4\n",
      "5\n"
     ]
    }
   ],
   "source": [
    "current_number = 1\n",
    "while current_number <= 5:\n",
    "    print(current_number)\n",
    "    current_number += 1"
   ]
  },
  {
   "cell_type": "markdown",
   "metadata": {},
   "source": [
    "* the *for loop* takes a collection of items and executes a block of code once for each item\n",
    "* the *while loop* runs as long as, or \"while\", a certain condition is *true*\n",
    "* we have a variable which is 1\n",
    "* while the conditional test is true (means when the number is <= 5 which makes it true)\n",
    "* we have a loop which does here 2 things:\n",
    "    * while the number is <= 5 we print the current number\n",
    "    * and the increment the current_number with 1\n",
    "* so at the end we reach 6 which is **not** <= 5 and the conditional test will get **False** so the loop stops\n",
    "* if we don't have the last statement, we will have a loop which will go for ever, because the number would stay 1 all the time (no increment, which will not make the statement False, which will be the reason fo looping for ever) --> \"endless loop\""
   ]
  },
  {
   "cell_type": "code",
   "execution_count": 24,
   "metadata": {},
   "outputs": [
    {
     "name": "stdout",
     "output_type": "stream",
     "text": [
      "\n",
      "Tell me something, and I will repeat it back to you:\n",
      "Enter 'quit' to end the program. hallo\n",
      "hallo\n",
      "\n",
      "Tell me something, and I will repeat it back to you:\n",
      "Enter 'quit' to end the program. hallo2\n",
      "hallo2\n",
      "\n",
      "Tell me something, and I will repeat it back to you:\n",
      "Enter 'quit' to end the program. quit\n",
      "quit\n"
     ]
    }
   ],
   "source": [
    "promt = \"\\nTell me something, and I will repeat it back to you:\"\n",
    "promt += \"\\nEnter 'quit' to end the program. \"\n",
    "\n",
    "message = \"\"\n",
    "while message != 'quit':\n",
    "    message = input(promt)\n",
    "    print(message)\n",
    "    "
   ]
  },
  {
   "cell_type": "markdown",
   "metadata": {},
   "source": [
    "* **letting the user choose when to quit**\n",
    "* we defined two promts, which tells us what to do\n",
    "* we have a empty message\n",
    "* while the user **doesn't** entet **'quit'** the while loop is true and does (means the message is not 'quit'):\n",
    "    * store the input from the promt in the variable message\n",
    "    \n",
    "\n"
   ]
  },
  {
   "cell_type": "code",
   "execution_count": 26,
   "metadata": {},
   "outputs": [
    {
     "name": "stdout",
     "output_type": "stream",
     "text": [
      "\n",
      "Tell me something, and I will repeat it back to you:\n",
      "Enter 'quit' to end the program. hallo\n",
      "hallo\n",
      "\n",
      "Tell me something, and I will repeat it back to you:\n",
      "Enter 'quit' to end the program. hallo2\n",
      "hallo2\n",
      "\n",
      "Tell me something, and I will repeat it back to you:\n",
      "Enter 'quit' to end the program. quit\n"
     ]
    }
   ],
   "source": [
    "promt = \"\\nTell me something, and I will repeat it back to you:\"\n",
    "promt += \"\\nEnter 'quit' to end the program. \"\n",
    "\n",
    "message = \"\"\n",
    "while message != 'quit':\n",
    "    message = input(promt)\n",
    "    \n",
    "    if message != 'quit':\n",
    "        print(message)"
   ]
  },
  {
   "cell_type": "markdown",
   "metadata": {},
   "source": [
    "* now the program makes a quick test before printing out the 'quit' which is not a message, just a command\n",
    "* if the user does **not** enter quit the message will be displayed (which is true whenever the user enters something else than 'quit' "
   ]
  },
  {
   "cell_type": "code",
   "execution_count": 27,
   "metadata": {},
   "outputs": [
    {
     "name": "stdout",
     "output_type": "stream",
     "text": [
      "\n",
      "Tell me something, and I will repeat it back to you:\n",
      "Enter 'quit' to end the program. hi\n",
      "hi\n",
      "\n",
      "Tell me something, and I will repeat it back to you:\n",
      "Enter 'quit' to end the program. quit\n"
     ]
    }
   ],
   "source": [
    "promt = \"\\nTell me something, and I will repeat it back to you:\"\n",
    "promt += \"\\nEnter 'quit' to end the program. \"\n",
    "\n",
    "active = True\n",
    "while active:\n",
    "    message = input(promt)\n",
    "    \n",
    "    if message == 'quit':\n",
    "        active = False\n",
    "    else:\n",
    "        print(message)"
   ]
  },
  {
   "cell_type": "markdown",
   "metadata": {},
   "source": [
    "* **using a flag**\n",
    "* we set the variable active to True, so the program starts in active state\n",
    "* the while statement has no condition means it runs\n",
    "* as long as the active variable stays True the loop will continue\n",
    "* if the if statement inside the loop is True (which is True when the user enters 'quit' the active variable will be False\n",
    "* otherwise the program will print the message\n",
    "* in the previous example we did the conditional test directly inside the while statemnent\n",
    "* but now we have a flag, which gives us the same result but the flag variable is an indicator for running the while loop (making it True)\n",
    "* we can now build more conditions inside the while loop one which will be useful for complicated programs, in which there may be many events that should make the program stop running\n",
    "* when any of these events causes the active flag to become False, the main variable will be false and the while loop will stop"
   ]
  },
  {
   "cell_type": "code",
   "execution_count": 28,
   "metadata": {},
   "outputs": [
    {
     "name": "stdout",
     "output_type": "stream",
     "text": [
      "\n",
      "Please enter the name of a city you visited:\n",
      "(Enter 'quit' when you are finished. Prag\n",
      "I'd love to go to Prag!\n",
      "\n",
      "Please enter the name of a city you visited:\n",
      "(Enter 'quit' when you are finished. quit\n"
     ]
    }
   ],
   "source": [
    "promt = \"\\nPlease enter the name of a city you visited:\"\n",
    "promt += \"\\n(Enter 'quit' when you are finished. \"\n",
    "\n",
    "while True:\n",
    "    city = input(promt)\n",
    "    \n",
    "    if city == 'quit':\n",
    "        break\n",
    "    else:\n",
    "        print(\"I'd love to go to \" + city.title() + \"!\")\n"
   ]
  },
  {
   "cell_type": "markdown",
   "metadata": {},
   "source": [
    "* **using break to exit a loop**\n",
    "* a loop with **while True** will run forever unless it reaches a break statement\n",
    "* which will be the case for, if the conditional test for city == 'quit' is True"
   ]
  },
  {
   "cell_type": "code",
   "execution_count": 31,
   "metadata": {},
   "outputs": [
    {
     "name": "stdout",
     "output_type": "stream",
     "text": [
      "1\n",
      "3\n",
      "5\n",
      "7\n",
      "9\n"
     ]
    }
   ],
   "source": [
    "current_number = 0\n",
    "while current_number < 10:\n",
    "    current_number += 1\n",
    "    if current_number % 2 == 0:\n",
    "        continue\n",
    "        \n",
    "    print(current_number)"
   ]
  },
  {
   "cell_type": "markdown",
   "metadata": {},
   "source": [
    "* **using continue in a loop**\n",
    "* continue statment will return to the beginning of the loop based on the result of the conditional test\n",
    "* we have a variable number stored \n",
    "* our while loop is True untill we reach 10 and does\n",
    "    * incrementing the current number + 1\n",
    "    * has a conditional test which is true when we have odd numbers (odd numbers we have when the modulo of the number is equal to 0)\n",
    "        * our if statement will continue if its True means\n",
    "        * it will return to the beginning of the loop\n",
    "        \n",
    "* our if statement is True means it will ignore the rest and go to the beginning (which is case when the number is even)\n",
    "* when the if statemen is False it will not continue, means it will print the odd numbers"
   ]
  },
  {
   "cell_type": "code",
   "execution_count": 65,
   "metadata": {},
   "outputs": [
    {
     "name": "stdout",
     "output_type": "stream",
     "text": [
      "The equation: 0 / 2 is = 0.0\n",
      "0 is a even number\n",
      "So 0 %2 is 0!\n",
      "\n",
      "The equation: 1 / 2 is 0.5\n",
      "1 is an odd number\n",
      "So 1 % 2 is 1!\n",
      "\n",
      "The equation: 2 / 2 is = 1.0\n",
      "2 is a even number\n",
      "So 2 %2 is 0!\n",
      "\n",
      "The equation: 3 / 2 is 1.5\n",
      "3 is an odd number\n",
      "So 3 % 2 is 1!\n",
      "\n",
      "The equation: 4 / 2 is = 2.0\n",
      "4 is a even number\n",
      "So 4 %2 is 0!\n",
      "\n",
      "The equation: 5 / 2 is 2.5\n",
      "5 is an odd number\n",
      "So 5 % 2 is 1!\n",
      "\n",
      "The equation: 6 / 2 is = 3.0\n",
      "6 is a even number\n",
      "So 6 %2 is 0!\n",
      "\n",
      "The equation: 7 / 2 is 3.5\n",
      "7 is an odd number\n",
      "So 7 % 2 is 1!\n",
      "\n",
      "The equation: 8 / 2 is = 4.0\n",
      "8 is a even number\n",
      "So 8 %2 is 0!\n",
      "\n",
      "The equation: 9 / 2 is 4.5\n",
      "9 is an odd number\n",
      "So 9 % 2 is 1!\n",
      "\n",
      "The equation: 10 / 2 is = 5.0\n",
      "10 is a even number\n",
      "So 10 %2 is 0!\n",
      "\n"
     ]
    }
   ],
   "source": [
    "numbers = range (0, 11)\n",
    "for number in numbers:\n",
    "    if number % 2 == 0:\n",
    "        print(\"The equation: \" + str(number) + \" / 2 is = \" + str(number / 2 ))\n",
    "        print(str(number) + \" is a even number\")\n",
    "        print(\"So \" + str(number) + \" %2 is 0!\\n\")\n",
    "        \n",
    "    else:\n",
    "        print(\"The equation: \" + str(number) + \" / 2 is \" + str(number / 2 ))\n",
    "        print(str(number) + \" is an odd number\")\n",
    "        print(\"So \" + str(number) + \" % 2 is 1!\\n\")\n",
    "        "
   ]
  },
  {
   "cell_type": "markdown",
   "metadata": {},
   "source": [
    "* **excursion**\n",
    "* made a program which explains modulo and remainder"
   ]
  },
  {
   "cell_type": "code",
   "execution_count": 66,
   "metadata": {},
   "outputs": [
    {
     "name": "stdout",
     "output_type": "stream",
     "text": [
      "1\n",
      "2\n",
      "3\n",
      "4\n",
      "5\n"
     ]
    }
   ],
   "source": [
    "x = 1\n",
    "while x <= 5:\n",
    "    print(x)\n",
    "    x += 1"
   ]
  },
  {
   "cell_type": "markdown",
   "metadata": {},
   "source": [
    "* **avoiding infinite loops**\n",
    "* this will run from 1 to 5\n",
    "* because we have the increment which counts to 5\n",
    "* otherwise it would count for ever because it would be true for ever\n",
    "* we need a condition which makes the while loop false\n",
    "* this will be the case after 5 \n",
    "* we reach that just by incrementing the x variable"
   ]
  },
  {
   "cell_type": "markdown",
   "metadata": {},
   "source": [
    "#### Tasks"
   ]
  },
  {
   "cell_type": "markdown",
   "metadata": {},
   "source": [
    "* 7-4. Pizza Toppings: Write a loop that prompts the user to enter a series of pizza toppings until they enter a 'quit' value. As they enter each topping, print a message saying you’ll add that topping to their pizza.\n",
    "* 7-5. Movie Tickets: A movie theater charges different ticket prices depending on a person’s age. If a person is under the age of 3, the ticket is free; if they are between 3 and 12, the ticket is 10 dollar; and if they are over age 12, the ticket is 15 dollar. Write a loop in which you ask users their age, and then tell them the cost of their movie ticket.\n",
    "* 7-6. Three Exits: Write different versions of either Exercise 7-4 or Exercise 7-5 that do each of the following at least once:\n",
    "    * Use a conditional test in the while statement to stop the loop.\n",
    "    * Use an active variable to control how long the loop runs.\n",
    "    * Use a break statement to exit the loop when the user enters a 'quit' value.\n",
    "* 7-7. Infinity: Write a loop that never ends, and run it. (To end the loop, press ctrl-C or close the window displaying the output.)"
   ]
  },
  {
   "cell_type": "code",
   "execution_count": 86,
   "metadata": {},
   "outputs": [
    {
     "name": "stdout",
     "output_type": "stream",
     "text": [
      "\n",
      "Tell me, which Toppings you like: \n",
      "Enter 'quit' to end the program. cheese\n",
      "I'll add that to you Pizza!\n",
      "cheese\n",
      "\n",
      "Tell me, which Toppings you like: \n",
      "Enter 'quit' to end the program. ham#\n",
      "I'll add that to you Pizza!\n",
      "ham#\n",
      "\n",
      "Tell me, which Toppings you like: \n",
      "Enter 'quit' to end the program. quit\n",
      "I'll add that to you Pizza!\n"
     ]
    }
   ],
   "source": [
    "#7.4\n",
    "promt = \"\\nTell me, which Toppings you like: \"\n",
    "promt += \"\\nEnter 'quit' to end the program. \"\n",
    "\n",
    "message = \"\"\n",
    "while message != 'quit':\n",
    "    message = input(promt)\n",
    "    print(\"I'll add that to you Pizza!\")\n",
    "    if message != 'quit':\n",
    "        print(message)"
   ]
  },
  {
   "cell_type": "code",
   "execution_count": 116,
   "metadata": {
    "scrolled": true
   },
   "outputs": [
    {
     "name": "stdout",
     "output_type": "stream",
     "text": [
      "\n",
      "Tell me your age: 12\n",
      "The price is: $15\n"
     ]
    }
   ],
   "source": [
    "#7.5\n",
    "prompt = \"\\nTell me your age: \"\n",
    "\n",
    "\n",
    "while True:\n",
    "    age = input(prompt)\n",
    "    age = int(age)\n",
    "    if age < 3:\n",
    "        price = 0\n",
    "        print(\"The price is: \" + \"$\" + str(price))\n",
    "        break\n",
    "    elif age < 12:\n",
    "        price = 10\n",
    "        print(\"The price is: \" + \"$\" + str(price))\n",
    "        break\n",
    "    elif age >= 12:\n",
    "        price = 15\n",
    "        print(\"The price is: \" + \"$\" + str(price))\n",
    "        break"
   ]
  },
  {
   "cell_type": "markdown",
   "metadata": {},
   "source": [
    "## Using a while loop with Lists and Dictionaries"
   ]
  },
  {
   "cell_type": "code",
   "execution_count": 69,
   "metadata": {},
   "outputs": [
    {
     "name": "stdout",
     "output_type": "stream",
     "text": [
      "Verifying user: Candace\n",
      "Verifying user: Brian\n",
      "Verifying user: Alice\n",
      "\n",
      "The following users have been confirmed:\n",
      "Candace\n",
      "Brian\n",
      "Alice\n"
     ]
    }
   ],
   "source": [
    "# Start with users that need to be verified,\n",
    "# and an empty list to hold conformed users.\n",
    "\n",
    "unconfirmed_users = ['alice', 'brian', 'candace']\n",
    "confirmed_users = []\n",
    "\n",
    "# Verify each user until there are nor more uncorfirmed users.\n",
    "# Move each verified user into the list of confirmed users.\n",
    "\n",
    "while unconfirmed_users:\n",
    "    current_user = unconfirmed_users.pop()\n",
    "    \n",
    "    print(\"Verifying user: \" + current_user.title())\n",
    "    confirmed_users.append(current_user)\n",
    "    \n",
    "# Display all confirmed users.\n",
    "\n",
    "print(\"\\nThe following users have been confirmed:\")\n",
    "for confirmed_user in confirmed_users:\n",
    "    print(confirmed_user.title())"
   ]
  },
  {
   "cell_type": "markdown",
   "metadata": {},
   "source": [
    "* **moving items from one list to another**\n",
    "* the while loop is True\n",
    "* we have two lists one of them is empty\n",
    "* the while loop is True default and does:\n",
    "    * stores the last element from the uncormied list with the **pop() function** in the variable current_user\n",
    "    * prints this variable out\n",
    "    * with the **append() function** we store the popped element in the confirmed_users list\n",
    "* we have a for loop which does basically:\n",
    "    * printing all confirmed users, which we generated with the while loop before in our new list confirmed_users"
   ]
  },
  {
   "cell_type": "code",
   "execution_count": 70,
   "metadata": {},
   "outputs": [
    {
     "name": "stdout",
     "output_type": "stream",
     "text": [
      "['dog', 'cat', 'dog', 'goldfish', 'cat', 'rabbit', 'cat']\n",
      "['dog', 'dog', 'goldfish', 'rabbit']\n"
     ]
    }
   ],
   "source": [
    "pets = ['dog', 'cat', 'dog', 'goldfish', 'cat', 'rabbit', 'cat']\n",
    "print(pets)\n",
    "\n",
    "while 'cat' in pets:\n",
    "    pets.remove('cat')\n",
    "    \n",
    "print(pets)"
   ]
  },
  {
   "cell_type": "markdown",
   "metadata": {},
   "source": [
    "* **removing all instances of specific values from a list**\n",
    "* we have a list containing several instances of the element 'cat'\n",
    "* we want to remove all of them\n",
    "* our while loop is True when there is 'cat' in our list and if that's the case it simply does:\n",
    "    * remove the 'cat' element from the list with the **remove()** function from our list pets"
   ]
  },
  {
   "cell_type": "code",
   "execution_count": 72,
   "metadata": {},
   "outputs": [
    {
     "name": "stdout",
     "output_type": "stream",
     "text": [
      "\n",
      "What is you name? Ugur\n",
      "Which mountain would you like to climb someday? Erciyes\n",
      "Would you like to let another person respond? (yes/ no)yes\n",
      "\n",
      "What is you name? Nico\n",
      "Which mountain would you like to climb someday? Mount Everest\n",
      "Would you like to let another person respond? (yes/ no)no\n",
      "\n",
      "--- Poll Results ---\n",
      "Ugur would like to climb Erciyes.\n",
      "Nico would like to climb Mount Everest.\n"
     ]
    }
   ],
   "source": [
    "responses = {}\n",
    "\n",
    "# Set a flag to indicate that polling is active\n",
    "polling_active = True\n",
    "\n",
    "while polling_active:\n",
    "    # Promt for the Person's name and response.\n",
    "    name = input(\"\\nWhat is you name? \")\n",
    "    response = input(\"Which mountain would you like to climb someday? \")\n",
    "    \n",
    "    # Store the respinse in the dictionary:\n",
    "    responses[name] = response\n",
    "    \n",
    "    # Find out if anyone else is going to take the poll.\n",
    "    repeat = input(\"Would you like to let another person respond? (yes/ no)\")\n",
    "    if repeat == 'no':\n",
    "        polling_active = False\n",
    "\n",
    "# Polling is complete. Show the results.\n",
    "print(\"\\n--- Poll Results ---\")\n",
    "for name, response in responses.items():\n",
    "    print(name + \" would like to climb \" + response + \".\")"
   ]
  },
  {
   "cell_type": "markdown",
   "metadata": {},
   "source": [
    "* **filling a dictionary with user input**\n",
    "* we want to connect each user with a response\n",
    "* we need an dictionary therefore\n",
    "* we set the flag of the while to *True*\n",
    "* our while loop stores the input *name* and *response* in two seperate variables\n",
    "* out if statement is False when the User types 'no' so this makes our flag False and this will stop our while loop\n",
    "* at the end we make a for loop to print out the items from our generated new dictionary responses, which now has some items in it"
   ]
  },
  {
   "cell_type": "markdown",
   "metadata": {},
   "source": [
    "#### Tasks"
   ]
  },
  {
   "cell_type": "markdown",
   "metadata": {},
   "source": [
    "* 7-8. Deli: Make a list called sandwich_orders and fill it with the names of various sandwiches. Then make an empty list called finished_sandwiches. Loop through the list of sandwich orders and print a message for each order, such as I made your tuna sandwich. As each sandwich is made, move it to the list of finished sandwiches. After all the sandwiches have been made, print a message listing each sandwich that was made.\n",
    "* 7-9. No Pastrami: Using the list sandwich_orders from Exercise 7-8, make sure the sandwich 'pastrami' appears in the list at least three times. Add code near the beginning of your program to print a message saying the deli has run out of pastrami, and then use a while loop to remove all occurrences of 'pastrami' from sandwich_orders. Make sure no pastrami sandwiches end up in finished_sandwiches.\n",
    "* 7-10. Dream Vacation: Write a program that polls users about their dream vacation. Write a prompt similar to If you could visit one place in the world, where would you go? Include a block of code that prints the results of the poll."
   ]
  },
  {
   "cell_type": "code",
   "execution_count": 119,
   "metadata": {},
   "outputs": [
    {
     "name": "stdout",
     "output_type": "stream",
     "text": [
      "Doing Sandwich: Cheese\n",
      "Doing Sandwich: Egg\n",
      "Doing Sandwich: Vegan\n",
      "Doing Sandwich: Salami\n",
      "Doing Sandwich: Tuna\n",
      "\n",
      "The following sandwiches have been done:\n",
      "Cheese\n",
      "Egg\n",
      "Vegan\n",
      "Salami\n",
      "Tuna\n"
     ]
    }
   ],
   "source": [
    "#7.8\n",
    "# Start with sandwiches that need to be done,\n",
    "# and an empty list to hold made sandwiches.\n",
    "\n",
    "sandwiches = ['tuna', 'salami', 'vegan', 'egg', 'cheese']\n",
    "finished_sandwiches = []\n",
    "\n",
    "# Make each sandwich until there are nor more sandwiches to do.\n",
    "# Move each done sandwich into the list of finished sandwiches.\n",
    "\n",
    "while sandwiches:\n",
    "    current_sandwich = sandwiches.pop()\n",
    "    \n",
    "    print(\"Doing Sandwich: \" + current_sandwich.title())\n",
    "    finished_sandwiches.append(current_sandwich)\n",
    " \n",
    "# Display all done sandwiches.\n",
    "\n",
    "print(\"\\nThe following sandwiches have been done:\")\n",
    "for finished_sandwich in finished_sandwiches:\n",
    "    print(finished_sandwich.title())"
   ]
  },
  {
   "cell_type": "code",
   "execution_count": 144,
   "metadata": {},
   "outputs": [
    {
     "name": "stdout",
     "output_type": "stream",
     "text": [
      "We are out of Pastrami!\n",
      "We just have Tuna, Salami, Vegan, Egg and Cheese Sandwiches!\n"
     ]
    }
   ],
   "source": [
    "#7.9\n",
    "sandwiches = ['pastrami', 'tuna', 'pastrami', 'salami', 'pastrami', 'vegan', 'egg', 'cheese']\n",
    "print(\"We are out of Pastrami!\")\n",
    "\n",
    "while 'pastrami' in sandwiches:\n",
    "    sandwiches.remove('pastrami')\n",
    "    \n",
    "my_sep = \", \"\n",
    "x = my_sep.join(sandwiches[:-1])\n",
    "y = my_sep.join(sandwiches[-1:])\n",
    "print(\"We just have \" + str(x).title() + \" and \" + str(y).title() + \" Sandwiches!\")"
   ]
  },
  {
   "cell_type": "markdown",
   "metadata": {},
   "source": [
    "* 7-10. Dream Vacation: Write a program that polls users about their dream vacation. Write a prompt similar to If you could visit one place in the world, where would you go? Include a block of code that prints the results of the poll."
   ]
  },
  {
   "cell_type": "code",
   "execution_count": 145,
   "metadata": {},
   "outputs": [
    {
     "name": "stdout",
     "output_type": "stream",
     "text": [
      "\n",
      "What is your name? Ugur\n",
      "Where is you dream vacation?Italy\n",
      "Would you like to let another person respond? (yes/ no)yes\n",
      "\n",
      "What is your name? Nora\n",
      "Where is you dream vacation?Germany\n",
      "Would you like to let another person respond? (yes/ no)no\n",
      "\n",
      "--- Poll Results ---\n",
      "Ugur would like to go Italy.\n",
      "Nora would like to go Germany.\n"
     ]
    }
   ],
   "source": [
    "#7.10\n",
    "\n",
    "responses = {}\n",
    "\n",
    "# Set a flag to indicate that polling is active!\n",
    "polling_active = True\n",
    "\n",
    "while polling_active:\n",
    "    # Prompt for the Person's name and response.\n",
    "    name = input(\"\\nWhat is your name? \")\n",
    "    response = input(\"Where is you dream vacation?\")\n",
    "    \n",
    "    # Store the response in the dictionary:\n",
    "    responses[name] = response\n",
    "    \n",
    "    # Find out if anyone else is going to take the poll.\n",
    "    repeat = input(\"Would you like to let another person respond? (yes/ no)\")\n",
    "    if repeat == 'no':\n",
    "        polling_active = False\n",
    "\n",
    "# Polling is complete. Show the results.\n",
    "print(\"\\n--- Poll Results ---\")\n",
    "for name, response in responses.items():\n",
    "    print(name + \" would like to go \" + response + \".\")"
   ]
  }
 ],
 "metadata": {
  "kernelspec": {
   "display_name": "Python 3",
   "language": "python",
   "name": "python3"
  },
  "language_info": {
   "codemirror_mode": {
    "name": "ipython",
    "version": 3
   },
   "file_extension": ".py",
   "mimetype": "text/x-python",
   "name": "python",
   "nbconvert_exporter": "python",
   "pygments_lexer": "ipython3",
   "version": "3.7.3"
  }
 },
 "nbformat": 4,
 "nbformat_minor": 2
}
