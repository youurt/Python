{
 "cells": [
  {
   "cell_type": "markdown",
   "metadata": {},
   "source": [
    "# 6. Dictionaries"
   ]
  },
  {
   "cell_type": "markdown",
   "metadata": {},
   "source": [
    "## A Simple Dictionary"
   ]
  },
  {
   "cell_type": "code",
   "execution_count": 1,
   "metadata": {},
   "outputs": [
    {
     "name": "stdout",
     "output_type": "stream",
     "text": [
      "green\n",
      "5\n"
     ]
    }
   ],
   "source": [
    "alien_0 = {'color': 'green', 'points': 5}\n",
    "print(alien_0['color'])\n",
    "print(alien_0['points'])"
   ]
  },
  {
   "cell_type": "markdown",
   "metadata": {},
   "source": [
    "* we made a *dictionary* with 2 informations\n",
    "* the color of the alien and the points of it\n",
    "* a dictionary has some *key-value pairs*\n",
    "* a key has a value which can be any object in python (a string, integer, bool, or whatever)\n",
    "* every key is connected with a colon\n",
    "* individual key-value pair are connected by commas\n",
    "* you can store as many key-value pairs in a dictionary\n",
    "* the simplest dictionary has exactly one pair"
   ]
  },
  {
   "cell_type": "markdown",
   "metadata": {},
   "source": [
    "## Working with Dictionaries"
   ]
  },
  {
   "cell_type": "code",
   "execution_count": 2,
   "metadata": {},
   "outputs": [
    {
     "name": "stdout",
     "output_type": "stream",
     "text": [
      "green\n"
     ]
    }
   ],
   "source": [
    "alien_0 = {'color': 'green'}\n",
    "print(alien_0['color'])"
   ]
  },
  {
   "cell_type": "markdown",
   "metadata": {},
   "source": [
    "* **accessing values in a dictionary**\n",
    "* here we get the value of the key by targeting the dictionary and indexing the key to get the value out"
   ]
  },
  {
   "cell_type": "code",
   "execution_count": 4,
   "metadata": {},
   "outputs": [
    {
     "name": "stdout",
     "output_type": "stream",
     "text": [
      "You just earned 5 points!\n"
     ]
    }
   ],
   "source": [
    "alien_0 = {'color': 'green', 'points': 5}\n",
    "new_points = alien_0['points']\n",
    "print(\"You just earned \" + str(new_points) + \" points!\")"
   ]
  },
  {
   "cell_type": "markdown",
   "metadata": {},
   "source": [
    "* storing a keys value in a variable and printing it out in the print statement (don't forget to convert it to a string)\n",
    "* note that the value will change, so this is not like a tuple!"
   ]
  },
  {
   "cell_type": "code",
   "execution_count": 8,
   "metadata": {},
   "outputs": [
    {
     "name": "stdout",
     "output_type": "stream",
     "text": [
      "{'color': 'green', 'points': 5}\n",
      "{'color': 'green', 'points': 5, 'x_position': 0, 'y_position': 25}\n"
     ]
    }
   ],
   "source": [
    "alien_0 = {'color': 'green', 'points': 5}\n",
    "print(alien_0)\n",
    "\n",
    "alien_0['x_position'] = 0\n",
    "alien_0['y_position'] = 25\n",
    "print(alien_0)"
   ]
  },
  {
   "cell_type": "markdown",
   "metadata": {},
   "source": [
    "* **adding new key-value pairs**\n",
    "* dictionaries are dynamic\n",
    "* you can add new value pairs \n",
    "* give the name of the dictionary\n",
    "* followed by the new key-value pair in square brackets"
   ]
  },
  {
   "cell_type": "code",
   "execution_count": 9,
   "metadata": {},
   "outputs": [
    {
     "name": "stdout",
     "output_type": "stream",
     "text": [
      "{'color': 'green', 'points': 5}\n"
     ]
    }
   ],
   "source": [
    "alien_0 = {}\n",
    "\n",
    "alien_0['color'] = 'green'\n",
    "alien_0['points'] = 5\n",
    "\n",
    "print(alien_0)"
   ]
  },
  {
   "cell_type": "markdown",
   "metadata": {},
   "source": [
    "* **starting with an empty dictionary**\n",
    "* define an empty dictionary\n",
    "* and add each key with the value\n",
    "* convenient for storing user data "
   ]
  },
  {
   "cell_type": "code",
   "execution_count": 13,
   "metadata": {},
   "outputs": [
    {
     "name": "stdout",
     "output_type": "stream",
     "text": [
      "The alien is green.\n",
      "The alien is yellow.\n"
     ]
    }
   ],
   "source": [
    "alien_0 = {'color': 'green', 'points': 5}\n",
    "print(\"The alien is \" + alien_0['color'] + \".\")\n",
    "\n",
    "alien_0['color'] = 'yellow'\n",
    "print(\"The alien is \" + alien_0['color'] + \".\")"
   ]
  },
  {
   "cell_type": "markdown",
   "metadata": {},
   "source": [
    "* **modify values in a dictionary**\n",
    "* give the name of the dictionary with the key you want to modify\n",
    "* and simply define a new value to it"
   ]
  },
  {
   "cell_type": "code",
   "execution_count": 12,
   "metadata": {},
   "outputs": [
    {
     "name": "stdout",
     "output_type": "stream",
     "text": [
      "Original x-position: 0\n",
      "New x-position: 2\n"
     ]
    }
   ],
   "source": [
    "alien_0 = {'x_position': 0, 'y_position': 25, 'speed': 'medium'}\n",
    "print(\"Original x-position: \" + str(alien_0['x_position']))\n",
    "\n",
    "# Move the alien to the right.\n",
    "# Determine how far to move the alien based on its current speed\n",
    "if alien_0['speed'] == 'slow':\n",
    "    x_increment = 1\n",
    "elif alien_0['speed'] == 'medium':\n",
    "    x_increment = 2\n",
    "else:\n",
    "    # This must be a fast alien.\n",
    "    x_increment = 3\n",
    "\n",
    "# The new position is the old position plus the increment.\n",
    "alien_0['x_position'] = alien_0['x_position'] + x_increment\n",
    "\n",
    "print(\"New x-position: \" + str(alien_0['x_position']))"
   ]
  },
  {
   "cell_type": "markdown",
   "metadata": {},
   "source": [
    "* we define an initial x position which is 0, an y position which is 25 and a speed which is 'medium*\n",
    "* we also print the original x position\n",
    "\n",
    "* first we do a if-elif-else chain which increments the x position of the object\n",
    "    * if the speed is *'slow'* than it increments it by 1\n",
    "    * if the speed is *'medium'* than it increments it by 2\n",
    "    * if the speed is *'more than medium'* than it increments it by 3\n",
    "    \n",
    "* then we modify the key-value of the x_position in our dictionary by simply **adding** the new *x_increment* \n",
    "* we finish by printing out the new x-position with the modified new kew-value for the x-position\n",
    "\n",
    "* because we have a medium speed we have a new x-position of 2"
   ]
  },
  {
   "cell_type": "code",
   "execution_count": 14,
   "metadata": {},
   "outputs": [
    {
     "name": "stdout",
     "output_type": "stream",
     "text": [
      "{'color': 'green', 'points': 5}\n",
      "{'color': 'green'}\n"
     ]
    }
   ],
   "source": [
    "alien_0 = {'color': 'green', 'points': 5}\n",
    "print(alien_0)\n",
    "\n",
    "del alien_0['points']\n",
    "print(alien_0)"
   ]
  },
  {
   "cell_type": "markdown",
   "metadata": {},
   "source": [
    "* **removing key-value pairs**\n",
    "* with the ***del*** statement we can delete key-value pairs from a dictionary\n",
    "* the pair is deleted permanently"
   ]
  },
  {
   "cell_type": "code",
   "execution_count": 17,
   "metadata": {},
   "outputs": [
    {
     "name": "stdout",
     "output_type": "stream",
     "text": [
      "Sarah's favorite language is C.\n"
     ]
    }
   ],
   "source": [
    "favorite_languages = {\n",
    "    'jen': 'python',\n",
    "    'sarah': 'c',\n",
    "    'edward': 'ruby',\n",
    "    'phil': 'python',\n",
    "}\n",
    "\n",
    "print(\"Sarah's favorite language is \" + \n",
    "      favorite_languages['sarah'].title() + \n",
    "      \".\")"
   ]
  },
  {
   "cell_type": "markdown",
   "metadata": {},
   "source": [
    "* **a dictionary has similar objects**\n",
    "* many objects can have the same value\n",
    "* this dictionary is broken into several lines\n",
    "* after the last pair put a comma so you can add more pairs\n",
    "* we can use the value of the key in our print statement\n",
    "* you can also break up a long print statement into several lines"
   ]
  },
  {
   "cell_type": "markdown",
   "metadata": {},
   "source": [
    "#### Tasks"
   ]
  },
  {
   "cell_type": "markdown",
   "metadata": {},
   "source": [
    "* 6-1. Person: Use a dictionary to store information about a person you know. Store their first name, last name, age, and the city in which they live. You should have keys such as first_name, last_name, age, and city. Print each piece of information stored in your dictionary.\n",
    "* 6-2. Favorite Numbers: Use a dictionary to store people’s favorite numbers. Think of five names, and use them as keys in your dictionary. Think of a favorite number for each person, and store each as a value in your dictionary. Print each person’s name and their favorite number. For even more fun, poll a few friends and get some actual data for your program.\n",
    "* 6-3. Glossary: A Python dictionary can be used to model an actual dictionary. However, to avoid confusion, let’s call it a glossary.\n",
    "    * Think of five programming words you’ve learned about in the previous chapters . Use these words as the keys in your glossary, and store their meanings as values.\n",
    "    * Print each word and its meaning as neatly formatted output. You might print the word followed by a colon and then its meaning, or print the word on one line and then print its meaning indented on a second line . Use the newline character (\\n) to insert a blank line between each word-meaning pair in your output."
   ]
  },
  {
   "cell_type": "code",
   "execution_count": 63,
   "metadata": {},
   "outputs": [
    {
     "name": "stdout",
     "output_type": "stream",
     "text": [
      "\n",
      "First Name: Nico\n",
      "\n",
      "Last Name: Foschia\n",
      "\n",
      "Age: 27\n",
      "\n",
      "City: Paris\n"
     ]
    }
   ],
   "source": [
    "# 6.1\n",
    "nico = {\n",
    "    'first_name': 'nico',\n",
    "    'last_name': 'foschia',\n",
    "    'age': 27,\n",
    "    'city': 'paris',\n",
    "}\n",
    "\n",
    "for key, value in nico.items():\n",
    "    print(\"\\n\" + key.replace(\"_\", \" \").title() + \": \" + str(value).title())\n",
    "    "
   ]
  },
  {
   "cell_type": "markdown",
   "metadata": {},
   "source": [
    "* we use here **the replace()** method to replace the underscore with whitespace"
   ]
  },
  {
   "cell_type": "code",
   "execution_count": 64,
   "metadata": {},
   "outputs": [
    {
     "name": "stdout",
     "output_type": "stream",
     "text": [
      "\n",
      "Nico: 16\n",
      "\n",
      "Roman: 31\n",
      "\n",
      "Daphne: 1\n",
      "\n",
      "Simon: 13\n",
      "\n",
      "Laure: 11\n"
     ]
    }
   ],
   "source": [
    "# 6.2\n",
    "favorite_numbers = {\n",
    "    'nico': 16,\n",
    "    'roman': 31,\n",
    "    'daphne': 1,\n",
    "    'simon': 13,\n",
    "    'laure': 11,\n",
    "}\n",
    "\n",
    "for key, value in favorite_numbers.items():\n",
    "    print(\"\\n\" + key.title() + \": \" + str(value))"
   ]
  },
  {
   "cell_type": "code",
   "execution_count": 78,
   "metadata": {},
   "outputs": [
    {
     "name": "stdout",
     "output_type": "stream",
     "text": [
      "\n",
      "Loop: \"Doing things again and again.\"\n",
      "\n",
      "Print: \"Printing out things.\"\n",
      "\n",
      "Method: \"Does something for your help.\"\n",
      "\n",
      "Function: \"I don't know the difference between it and the method.\"\n",
      "\n",
      "Pythion: \"Seems to be a pretty nice language.\"\n"
     ]
    }
   ],
   "source": [
    "# 6.3\n",
    "glossary = {\n",
    "    'loop': 'doing things again and again',\n",
    "    'print': 'printing out things',\n",
    "    'method': 'does something for your help',\n",
    "    'function': \"i don't know the difference between it and the method\",\n",
    "    'pythion': 'seems to be a pretty nice language',\n",
    "}\n",
    "\n",
    "for key, value in glossary.items():\n",
    "    print(\"\\n\" + key.title() + \": \" + '\"' + value.capitalize()  + '.\"' )"
   ]
  },
  {
   "cell_type": "markdown",
   "metadata": {},
   "source": [
    "* the **capitalize() method** converts the first character of a string to capital (uppercase) letter"
   ]
  },
  {
   "cell_type": "markdown",
   "metadata": {},
   "source": [
    "## Looping Through a Dictionary"
   ]
  },
  {
   "cell_type": "code",
   "execution_count": 24,
   "metadata": {},
   "outputs": [
    {
     "name": "stdout",
     "output_type": "stream",
     "text": [
      "\n",
      "Key: username\n",
      "Value: efermi\n",
      "\n",
      "Key: first\n",
      "Value: enrico\n",
      "\n",
      "Key: last\n",
      "Value: fermi\n"
     ]
    }
   ],
   "source": [
    "user_0 = {\n",
    "    'username': 'efermi',\n",
    "    'first': 'enrico',\n",
    "    'last': 'fermi',\n",
    "}\n",
    "\n",
    "for key, value in user_0.items():\n",
    "    print(\"\\nKey: \" + key)\n",
    "    print(\"Value: \" + value)"
   ]
  },
  {
   "cell_type": "markdown",
   "metadata": {},
   "source": [
    "* **looping through all key-value pairs**\n",
    "* we want to see everything stored in this user's dictionary\n",
    "* we create to variables **key** and **value** to loop from user_0 dictionary\n",
    "    * we want to print out each key\n",
    "    * we want to print out each value\n",
    "* The *items()* method returns a view object that displays a list of a given dictionary's (key, value) tuple pair."
   ]
  },
  {
   "cell_type": "code",
   "execution_count": 27,
   "metadata": {},
   "outputs": [
    {
     "name": "stdout",
     "output_type": "stream",
     "text": [
      "Jen's favorite language is Python.\n",
      "Sarah's favorite language is C.\n",
      "Edward's favorite language is Ruby.\n",
      "Phil's favorite language is Python.\n"
     ]
    }
   ],
   "source": [
    "favorite_languages = {\n",
    "    'jen': 'python',\n",
    "    'sarah': 'c',\n",
    "    'edward': 'ruby',\n",
    "    'phil': 'python',\n",
    "}\n",
    "\n",
    "for name, language in favorite_languages.items():\n",
    "    print(name.title() + \"'s favorite language is \" +\n",
    "         language.title() + \".\")"
   ]
  },
  {
   "cell_type": "markdown",
   "metadata": {},
   "source": [
    "* same works also for dictionaries with keys having same values"
   ]
  },
  {
   "cell_type": "code",
   "execution_count": 26,
   "metadata": {},
   "outputs": [
    {
     "name": "stdout",
     "output_type": "stream",
     "text": [
      "Jen\n",
      "Sarah\n",
      "Edward\n",
      "Phil\n"
     ]
    }
   ],
   "source": [
    "favorite_languages = {\n",
    "    'jen': 'python',\n",
    "    'sarah': 'c',\n",
    "    'edward': 'ruby',\n",
    "    'phil': 'python',\n",
    "}\n",
    "\n",
    "for name in favorite_languages.keys():\n",
    "    print(name.title())"
   ]
  },
  {
   "cell_type": "markdown",
   "metadata": {},
   "source": [
    "* **looping through all the keys in a dictionary**\n",
    "* here we are looping a dictionaries keys out\n",
    "* The *keys()* method returns a view object. The view object contains the keys of the dictionary, as a list.\n",
    "* looping through the keys of a dictionionary is actually the default\n",
    "* but saying *key()* makes the code more readable"
   ]
  },
  {
   "cell_type": "code",
   "execution_count": 30,
   "metadata": {},
   "outputs": [
    {
     "name": "stdout",
     "output_type": "stream",
     "text": [
      "Jen\n",
      "Sarah\n",
      " Hi Sarah, I see your favorite language is C!\n",
      "Edward\n",
      "Phil\n",
      " Hi Phil, I see your favorite language is Python!\n"
     ]
    }
   ],
   "source": [
    "favorite_languages = {\n",
    "    'jen': 'python',\n",
    "    'sarah': 'c',\n",
    "    'edward': 'ruby',\n",
    "    'phil': 'python',\n",
    "}\n",
    "\n",
    "friends = ['phil', 'sarah']\n",
    "for name in favorite_languages.keys():\n",
    "    print(name.title())\n",
    "    \n",
    "    if name in friends:\n",
    "        print(\" Hi \" + name.title() + \n",
    "         \", I see your favorite language is \" +\n",
    "         favorite_languages[name].title() + \"!\")"
   ]
  },
  {
   "cell_type": "markdown",
   "metadata": {},
   "source": [
    "* we have a given dictionary\n",
    "* we have a list of friedns\n",
    "* we loop our dictionaries keys\n",
    "* we print all our keys from our dictionary\n",
    "* and\n",
    "    * we have a if statement which is true for all friends from the list\n",
    "    * which has a print method as action for all our friends in our list"
   ]
  },
  {
   "cell_type": "code",
   "execution_count": 31,
   "metadata": {},
   "outputs": [
    {
     "name": "stdout",
     "output_type": "stream",
     "text": [
      "Erin, please take our poll!\n"
     ]
    }
   ],
   "source": [
    "favorite_languages = {\n",
    "    'jen': 'python',\n",
    "    'sarah': 'c',\n",
    "    'edward': 'ruby',\n",
    "    'phil': 'python',\n",
    "}\n",
    "\n",
    "if 'erin' not in favorite_languages.keys():\n",
    "    print(\"Erin, please take our poll!\")"
   ]
  },
  {
   "cell_type": "markdown",
   "metadata": {},
   "source": [
    "* we use the *keys()* method to check if a key is in our dictionary\n",
    "* note the *not* keyword "
   ]
  },
  {
   "cell_type": "code",
   "execution_count": 32,
   "metadata": {},
   "outputs": [
    {
     "name": "stdout",
     "output_type": "stream",
     "text": [
      "Edward, thank you for taking the poll.\n",
      "Jen, thank you for taking the poll.\n",
      "Phil, thank you for taking the poll.\n",
      "Sarah, thank you for taking the poll.\n"
     ]
    }
   ],
   "source": [
    "favorite_languages = {\n",
    "    'jen': 'python',\n",
    "    'sarah': 'c',\n",
    "    'edward': 'ruby',\n",
    "    'phil': 'python',\n",
    "}\n",
    "\n",
    "for name in sorted(favorite_languages.keys()):\n",
    "    print(name.title() + \", thank you for taking the poll.\")"
   ]
  },
  {
   "cell_type": "markdown",
   "metadata": {},
   "source": [
    "* this time we sort the output of the dictionaries keys in alphabetical order\n",
    "* we have just wrapped the *sorted() function* around "
   ]
  },
  {
   "cell_type": "code",
   "execution_count": 33,
   "metadata": {},
   "outputs": [
    {
     "name": "stdout",
     "output_type": "stream",
     "text": [
      "The following languages have been mentioned:\n",
      "Python\n",
      "C\n",
      "Ruby\n",
      "Python\n"
     ]
    }
   ],
   "source": [
    "favorite_languages = {\n",
    "    'jen': 'python',\n",
    "    'sarah': 'c',\n",
    "    'edward': 'ruby',\n",
    "    'phil': 'python',\n",
    "}\n",
    "\n",
    "print(\"The following languages have been mentioned:\")\n",
    "for language in favorite_languages.values():\n",
    "    print(language.title())"
   ]
  },
  {
   "cell_type": "markdown",
   "metadata": {},
   "source": [
    "* **looping through all values in a dictionary**\n",
    "* we are interested just in the values\n",
    "* we use the ***values()*** method to return the values of the dictionary"
   ]
  },
  {
   "cell_type": "code",
   "execution_count": 34,
   "metadata": {},
   "outputs": [
    {
     "name": "stdout",
     "output_type": "stream",
     "text": [
      "The following languages have been mentioned:\n",
      "Ruby\n",
      "Python\n",
      "C\n"
     ]
    }
   ],
   "source": [
    "favorite_languages = {\n",
    "    'jen': 'python',\n",
    "    'sarah': 'c',\n",
    "    'edward': 'ruby',\n",
    "    'phil': 'python',\n",
    "}\n",
    "\n",
    "print(\"The following languages have been mentioned:\")\n",
    "for language in set(favorite_languages.values()):\n",
    "    print(language.title())"
   ]
  },
  {
   "cell_type": "markdown",
   "metadata": {},
   "source": [
    "* to see each value just once we can use the ***set()***\n",
    "* it identifies any duplicate from a list and gives the unique items"
   ]
  },
  {
   "cell_type": "markdown",
   "metadata": {},
   "source": [
    "#### Tasks"
   ]
  },
  {
   "cell_type": "markdown",
   "metadata": {},
   "source": [
    "* 6-4. Glossary 2: Now that you know how to loop through a dictionary, clean up the code from Exercise 6-3 (page 102) by replacing your series of print statements with a loop that runs through the dictionary’s keys and values . When you’re sure that your loop works, add five more Python terms to your glossary. When you run your program again, these new words and meanings should automatically be included in the output.\n",
    "* 6-5. Rivers: Make a dictionary containing three major rivers and the country each river runs through. One key-value pair might be 'nile': 'egypt'.\n",
    "    * Use a loop to print a sentence about each river, such as The Nile runs through Egypt.\n",
    "    * Use a loop to print the name of each river included in the dictionary.\n",
    "    * Use a loop to print the name of each country included in the dictionary.\n",
    "* 6-6. Polling: Use the code in favorite_languages.py (page 104).\n",
    "    * Make a list of people who should take the favorite languages poll. Include some names that are already in the dictionary and some that are not.\n",
    "    * Loop through the list of people who should take the poll. If they have already taken the poll, print a message thanking them for responding. If they have not yet taken the poll, print a message inviting them to take the poll."
   ]
  },
  {
   "cell_type": "code",
   "execution_count": 81,
   "metadata": {},
   "outputs": [
    {
     "name": "stdout",
     "output_type": "stream",
     "text": [
      "\n",
      "Loop: \"Doing things again and again.\"\n",
      "\n",
      "Print: \"Printing out things.\"\n",
      "\n",
      "Method: \"Does something for your help.\"\n",
      "\n",
      "Function: \"I don't know the difference between it and the method.\"\n",
      "\n",
      "Python: \"Seems to be a pretty nice language.\"\n",
      "\n",
      "While Loop: \"I will do that in the next chapter.\"\n",
      "\n",
      "If-Elif-Else Chain: \"Is everything you need babe.\"\n"
     ]
    }
   ],
   "source": [
    "# 6.4\n",
    "glossary = {\n",
    "    'loop': 'doing things again and again',\n",
    "    'print': 'printing out things',\n",
    "    'method': 'does something for your help',\n",
    "    'function': \"i don't know the difference between it and the method\",\n",
    "    'python': 'seems to be a pretty nice language',\n",
    "    'while loop': 'i will do that in the next chapter',\n",
    "    'if-elif-else chain': 'is everything you need babe',\n",
    "}\n",
    "\n",
    "for key, value in glossary.items():\n",
    "    print(\"\\n\" + key.title() + \": \" + '\"' + value.capitalize()  + '.\"' )\n"
   ]
  },
  {
   "cell_type": "code",
   "execution_count": 91,
   "metadata": {},
   "outputs": [
    {
     "name": "stdout",
     "output_type": "stream",
     "text": [
      "The Rhein runs through Germany.\n",
      "The Nile runs through Egypt.\n",
      "The Mississippi runs through U.S.A..\n",
      "\n",
      "\n",
      "The Rhein is in the list!\n",
      "The Nile is in the list!\n",
      "The Mississippi is in the list!\n",
      "\n",
      "\n",
      "Germany is in the list!\n",
      "Egypt is in the list!\n",
      "U.S.A. is in the list!\n"
     ]
    }
   ],
   "source": [
    "#6.5\n",
    "rivers = {\n",
    "    'rhein': 'germany',\n",
    "    'nile': 'egypt',\n",
    "    'mississippi': 'u.s.a.',\n",
    "}\n",
    "\n",
    "for key, value in rivers.items():\n",
    "    print(\"The \" + key.title() + \" runs through \" + value.title() + \".\")\n",
    "    \n",
    "\n",
    "print(\"\\n\")\n",
    "\n",
    "for key in rivers.keys():\n",
    "    print(\"The \" + key.title() + \" is in the list!\")\n",
    "    \n",
    "print(\"\\n\")\n",
    "\n",
    "for value in rivers.values():\n",
    "    print(value.title() + \" is in the list!\")"
   ]
  },
  {
   "cell_type": "code",
   "execution_count": 109,
   "metadata": {},
   "outputs": [
    {
     "name": "stdout",
     "output_type": "stream",
     "text": [
      "Jen did the Poll, thanks!\n",
      "Sarah did the Poll, thanks!\n",
      "Edward did the Poll, thanks!\n",
      "Phil did the Poll, thanks!\n",
      "Jacob, please do the Poll!\n"
     ]
    }
   ],
   "source": [
    "# 6.6\n",
    "poll_done = {\n",
    "    'jen': 'python',\n",
    "    'sarah': 'c',\n",
    "    'edward': 'ruby',\n",
    "    'phil': 'python',\n",
    "}\n",
    "\n",
    "names = ['jen', 'sarah', 'edward', 'phil', 'jacob']\n",
    "\n",
    "for name in names:\n",
    "    if name in poll_done.keys():\n",
    "        print(name.title() + \" did the Poll, thanks!\")\n",
    "    else:\n",
    "        print(name.title() + \", please do the Poll!\")\n"
   ]
  },
  {
   "cell_type": "markdown",
   "metadata": {},
   "source": [
    "## Nesting"
   ]
  },
  {
   "cell_type": "code",
   "execution_count": 35,
   "metadata": {},
   "outputs": [
    {
     "name": "stdout",
     "output_type": "stream",
     "text": [
      "{'color': 'green', 'points': 5}\n",
      "{'color': 'yellow', 'points': 10}\n",
      "{'color': 'red', 'points': 15}\n"
     ]
    }
   ],
   "source": [
    "alien_0 = {'color': 'green', 'points': 5}\n",
    "alien_1 = {'color': 'yellow', 'points': 10}\n",
    "alien_2 = {'color': 'red', 'points': 15}\n",
    "\n",
    "aliens = [alien_0, alien_1, alien_2]\n",
    "\n",
    "for alien in aliens:\n",
    "    print(alien)"
   ]
  },
  {
   "cell_type": "markdown",
   "metadata": {},
   "source": [
    "* **a list of dictionaries**\n",
    "* we have 3 dictionaries\n",
    "* we can store them all in a list"
   ]
  },
  {
   "cell_type": "code",
   "execution_count": 36,
   "metadata": {},
   "outputs": [
    {
     "name": "stdout",
     "output_type": "stream",
     "text": [
      "{'color': 'green', 'points': 5, 'speed': 'slow'}\n",
      "{'color': 'green', 'points': 5, 'speed': 'slow'}\n",
      "{'color': 'green', 'points': 5, 'speed': 'slow'}\n",
      "{'color': 'green', 'points': 5, 'speed': 'slow'}\n",
      "{'color': 'green', 'points': 5, 'speed': 'slow'}\n",
      "...\n",
      "Total number of aliens: 30\n"
     ]
    }
   ],
   "source": [
    "# Make an empty list for storing aliens.\n",
    "aliens = []\n",
    "\n",
    "# Make 30 green aliens.\n",
    "for alien_number in range(30):\n",
    "    new_alien = {'color': 'green', 'points': 5, 'speed': 'slow'}\n",
    "    aliens.append(new_alien)\n",
    "    \n",
    "# Show the first 5 aliens:\n",
    "for alien in aliens[:5]:\n",
    "    print(alien)\n",
    "print(\"...\")\n",
    "\n",
    "# Show how many aliens have been created.\n",
    "print(\"Total number of aliens: \" + str(len(aliens)))\n",
    "\n"
   ]
  },
  {
   "cell_type": "markdown",
   "metadata": {},
   "source": [
    "* we make an empty list\n",
    "* we create 30 aliens with the **range()**\n",
    "* our action for the loop is\n",
    "    * we create a dictionary *new_alien*\n",
    "    * we append this to the list *aliens*\n",
    "    \n",
    "* we want to see the first 5 items of the list\n",
    "* we do that with a for loop again\n",
    "    * the print(...) is just to make a new line\n",
    "* at the end we show how many items we created \n",
    "    * we want to know our lenght of our list\n",
    "    * don#t forget to make it str()"
   ]
  },
  {
   "cell_type": "code",
   "execution_count": 37,
   "metadata": {},
   "outputs": [
    {
     "name": "stdout",
     "output_type": "stream",
     "text": [
      "{'color': 'yellow', 'points': 10, 'speed': 'medium'}\n",
      "{'color': 'yellow', 'points': 10, 'speed': 'medium'}\n",
      "{'color': 'yellow', 'points': 10, 'speed': 'medium'}\n",
      "{'color': 'green', 'points': 5, 'speed': 'slow'}\n",
      "{'color': 'green', 'points': 5, 'speed': 'slow'}\n",
      "...\n"
     ]
    }
   ],
   "source": [
    "# Make an empty list for storing aliens.\n",
    "aliens = []\n",
    "\n",
    "# Make 30 green aliens.\n",
    "for alien_number in range(30):\n",
    "    new_alien = {'color': 'green', 'points': 5, 'speed': 'slow'}\n",
    "    aliens.append(new_alien)\n",
    "\n",
    "for alien in aliens[0:3]:\n",
    "    if alien['color'] == 'green':\n",
    "        alien['color'] = 'yellow'\n",
    "        alien['speed'] = 'medium'\n",
    "        alien['points'] = 10\n",
    "        \n",
    "# Show the first 5 aliens:\n",
    "for alien in aliens[:5]:\n",
    "    print(alien)\n",
    "print(\"...\")"
   ]
  },
  {
   "cell_type": "markdown",
   "metadata": {},
   "source": [
    "* we want to change the first three elements of our list\n",
    "* we create again an empty list\n",
    "* we create also 30 green aliens again\n",
    "* we say that for the first 3 elements of our list (slice)\n",
    "    * if the aliens are green (which they are) --> we just want to modify green ones!!!\n",
    "        * we change the color to yellow\n",
    "        * we change the speed to medium\n",
    "        * we change the points to 10\n",
    "* we show again the first five aliens"
   ]
  },
  {
   "cell_type": "code",
   "execution_count": 39,
   "metadata": {},
   "outputs": [
    {
     "name": "stdout",
     "output_type": "stream",
     "text": [
      "{'color': 'red', 'points': 15, 'speed': 'fast'}\n",
      "{'color': 'red', 'points': 15, 'speed': 'fast'}\n",
      "{'color': 'red', 'points': 15, 'speed': 'fast'}\n",
      "{'color': 'yellow', 'points': 5, 'speed': 'slow'}\n",
      "{'color': 'yellow', 'points': 5, 'speed': 'slow'}\n",
      "...\n"
     ]
    }
   ],
   "source": [
    "# Make an empty list for storing aliens.\n",
    "aliens = []\n",
    "\n",
    "# Make 30 green aliens.\n",
    "for alien_number in range(30):\n",
    "    new_alien = {'color': 'yellow', 'points': 5, 'speed': 'slow'}\n",
    "    aliens.append(new_alien)\n",
    "\n",
    "for alien in aliens[0:3]:\n",
    "    if alien['color'] == 'green':\n",
    "        alien['color'] = 'yellow'\n",
    "        alien['speed'] = 'medium'\n",
    "        alien['points'] = 10\n",
    "    elif alien['color'] == 'yellow':\n",
    "        alien['color'] = 'red'\n",
    "        alien['speed'] = 'fast'\n",
    "        alien['points'] = 15\n",
    "        \n",
    "# Show the first 5 aliens:\n",
    "for alien in aliens[:5]:\n",
    "    print(alien)\n",
    "print(\"...\")"
   ]
  },
  {
   "cell_type": "markdown",
   "metadata": {},
   "source": [
    "* we changed the color of the 30 aliens into yellow\n",
    "* we added an elif statement which will make all yellow aliens\n",
    "    * red\n",
    "    * fast\n",
    "    * and give them 15 points"
   ]
  },
  {
   "cell_type": "code",
   "execution_count": 41,
   "metadata": {},
   "outputs": [
    {
     "name": "stdout",
     "output_type": "stream",
     "text": [
      "You ordered a thick-crust pizza with the following toppings:\n",
      "\tmushrooms\n",
      "\textra cheese\n"
     ]
    }
   ],
   "source": [
    "# Store information about a pizza being ordered.\n",
    "pizza = {\n",
    "    'crust': 'thick',\n",
    "    'toppings': ['mushrooms', 'extra cheese'],\n",
    "}\n",
    "\n",
    "# Summarize the order.\n",
    "print(\"You ordered a \" + pizza['crust'] + \"-crust pizza \" +\n",
    "     \"with the following toppings:\")\n",
    "for topping in pizza['toppings']:\n",
    "    print(\"\\t\" + topping)"
   ]
  },
  {
   "cell_type": "markdown",
   "metadata": {},
   "source": [
    "* **a list in a dictionary**\n",
    "* we can store a list in a dictionary\n",
    "* the key-value pair looks like this:\n",
    "    * the key is the same like in the previous examples\n",
    "    * the value is a list though!\n",
    "\n",
    "    "
   ]
  },
  {
   "cell_type": "code",
   "execution_count": 44,
   "metadata": {},
   "outputs": [
    {
     "name": "stdout",
     "output_type": "stream",
     "text": [
      "\n",
      "Jen's favorite languages are:\n",
      "\tPython\n",
      "\tRuby\n",
      "\n",
      "Sarah's favorite languages are:\n",
      "\tC\n",
      "\n",
      "Edward's favorite languages are:\n",
      "\tRuby\n",
      "\tGo\n",
      "\n",
      "Phil's favorite languages are:\n",
      "\tPython\n",
      "\tHaskell\n"
     ]
    }
   ],
   "source": [
    "favorite_languages = {\n",
    "    'jen': ['python', 'ruby'],\n",
    "    'sarah': ['c'],\n",
    "    'edward': ['ruby', 'go'],\n",
    "    'phil': ['python', 'haskell'],\n",
    "}\n",
    "\n",
    "for name, languages in favorite_languages.items():\n",
    "    print(\"\\n\" + name.title() + \"'s favorite languages are:\")\n",
    "    for language in languages:\n",
    "            print(\"\\t\" + language.title())"
   ]
  },
  {
   "cell_type": "markdown",
   "metadata": {},
   "source": [
    "* we have a dictionary of favorite languages for each user\n",
    "* we have our first for loop which prints each users name\n",
    "* we have our second for loop inside the for loop which prints each language from the dictionary\n",
    "* we have 2 variables (*name* and *languages*) and use the *item()* function to itemize the dictionary "
   ]
  },
  {
   "cell_type": "code",
   "execution_count": 47,
   "metadata": {},
   "outputs": [
    {
     "name": "stdout",
     "output_type": "stream",
     "text": [
      "\n",
      "Jen's favorite languages are:\n",
      "\tPython\n",
      "\tRuby\n",
      "\n",
      "Sarah's favorite languages is:\n",
      "\tRuby\n",
      "\n",
      "Edward's favorite languages are:\n",
      "\tRuby\n",
      "\tGo\n",
      "\n",
      "Phil's favorite languages are:\n",
      "\tPython\n",
      "\tHaskell\n"
     ]
    }
   ],
   "source": [
    "favorite_languages = {\n",
    "    'jen': ['python', 'ruby'],\n",
    "    'sarah': ['c'],\n",
    "    'edward': ['ruby', 'go'],\n",
    "    'phil': ['python', 'haskell'],\n",
    "}\n",
    "\n",
    "for name, languages in favorite_languages.items():\n",
    "    if len(languages) == 1:\n",
    "        print(\"\\n\" + name.title() + \"'s favorite languages is:\")\n",
    "        print(\"\\t\" + language.title())\n",
    "    else:    \n",
    "        print(\"\\n\" + name.title() + \"'s favorite languages are:\")\n",
    "        for language in languages:\n",
    "            print(\"\\t\" + language.title())"
   ]
  },
  {
   "cell_type": "markdown",
   "metadata": {},
   "source": [
    "* we modified the version with the **len()** function\n",
    "* we check the lenght of the dictionaries item\n",
    "* if its just 1 we say a persons favorite language **is:**\n",
    "* else we say **are:**"
   ]
  },
  {
   "cell_type": "code",
   "execution_count": 50,
   "metadata": {},
   "outputs": [
    {
     "name": "stdout",
     "output_type": "stream",
     "text": [
      "\n",
      "Username: aeinstein\n",
      "\tFull name: Albert Einstein\n",
      "\tLocation: Princeton\n",
      "\n",
      "Username: mcurie\n",
      "\tFull name: Marie Curie\n",
      "\tLocation: Paris\n"
     ]
    }
   ],
   "source": [
    "users = {\n",
    "    'aeinstein': {\n",
    "        'first': 'albert',\n",
    "        'last': 'einstein',\n",
    "        'location': 'princeton',\n",
    "    },\n",
    "    'mcurie': {\n",
    "        'first': 'marie',\n",
    "        'last': 'curie',\n",
    "        'location': 'paris',\n",
    "    },\n",
    "}\n",
    "\n",
    "for username, user_info in users.items():\n",
    "    print(\"\\nUsername: \" + username)\n",
    "    full_name = user_info['first'] + \" \" + user_info['last']\n",
    "    location = user_info['location']\n",
    "    \n",
    "    print(\"\\tFull name: \" + full_name.title())\n",
    "    print(\"\\tLocation: \" + location.title())"
   ]
  },
  {
   "cell_type": "markdown",
   "metadata": {},
   "source": [
    "* **a dictionary in a dictionary**\n",
    "* we first define a dictionary called users with two keys\n",
    "    * the keys have dictionaries as values\n",
    "* we create a for loop with two variables (*username* and *user_info*)\n",
    "* which loops through all the items of our dictionary\n",
    "    * first it prints the username by using the username variable, which is the first defined variable in our for loop\n",
    "    * then the it stores into a new variable *full_name* from the item *user_info* (which is the second defined variable of our for loop) --> the two values *'first'* and *'last'*\n",
    "    * the same is done also for the location key which uses again our second defined variable from the for loop (user_info) and puts in into the variable *location*\n",
    "* at the end it simply prints our new two variables *full_name* and *location* in a print statement\n",
    "    "
   ]
  },
  {
   "cell_type": "markdown",
   "metadata": {},
   "source": [
    "#### Tasks"
   ]
  },
  {
   "cell_type": "markdown",
   "metadata": {},
   "source": [
    "* 6-7. People: Start with the program you wrote for Exercise 6-1 (page 102). Make two new dictionaries representing different people, and store all three dictionaries in a list called people. Loop through your list of people. As you loop through the list, print everything you know about each person.\n",
    "* 6-8. Pets: Make several dictionaries, where the name of each dictionary is the name of a pet. In each dictionary, include the kind of animal and the owner’s name. Store these dictionaries in a list called pets. Next, loop through your list and as you do print everything you know about each pet.\n",
    "* 6-9. Favorite Places: Make a dictionary called favorite_places. Think of three names to use as keys in the dictionary, and store one to three favorite places for each person. To make this exercise a bit more interesting, ask some friends to name a few of their favorite places. Loop through the dictionary, and print each person’s name and their favorite places.\n",
    "* 6-10. Favorite Numbers: Modify your program from Exercise 6-2 (page 102) so each person can have more than one favorite number. Then print each person’s name along with their favorite numbers.\n",
    "* 6-11. Cities: Make a dictionary called cities. Use the names of three cities as keys in your dictionary. Create a dictionary of information about each city and include the country that the city is in, its approximate population, and one fact about that city. The keys for each city’s dictionary should be something like country, population, and fact. Print the name of each city and all of the infor- mation you have stored about it.\n",
    "* 6-12. Extensions: We’re now working with examples that are complex enough that they can be extended in any number of ways. Use one of the example pro- grams from this chapter, and extend it by adding new keys and values, chang- ing the context of the program or improving the formatting of the output."
   ]
  },
  {
   "cell_type": "code",
   "execution_count": 117,
   "metadata": {},
   "outputs": [
    {
     "name": "stdout",
     "output_type": "stream",
     "text": [
      "{'first_name': 'nico', 'last_name': 'foschia', 'age': 27, 'city': 'paris'}\n",
      "{'first_name': 'laure', 'last_name': 'laurier', 'age': 24, 'city': 'mannheim'}\n",
      "{'first_name': 'daphne', 'last_name': 'daph', 'age': 24, 'city': 'paris'}\n"
     ]
    }
   ],
   "source": [
    "# 6.7\n",
    "nico = {\n",
    "    'first_name': 'nico',\n",
    "    'last_name': 'foschia',\n",
    "    'age': 27,\n",
    "    'city': 'paris',\n",
    "}\n",
    "\n",
    "laure = {\n",
    "    'first_name': 'laure',\n",
    "    'last_name': 'laurier',\n",
    "    'age': 24,\n",
    "    'city': 'mannheim',\n",
    "}\n",
    "\n",
    "daphne = {\n",
    "    'first_name': 'daphne',\n",
    "    'last_name': 'daph',\n",
    "    'age': 24,\n",
    "    'city': 'paris',\n",
    "}\n",
    "\n",
    "people = [nico, laure, daphne]\n",
    "\n",
    "for person in people:\n",
    "    print(person)"
   ]
  },
  {
   "cell_type": "code",
   "execution_count": 118,
   "metadata": {},
   "outputs": [
    {
     "name": "stdout",
     "output_type": "stream",
     "text": [
      "{'kind of animal': 'nice', 'owners name': 'paul'}\n",
      "{'kind of animal': 'bad', 'owners name': 'josef'}\n"
     ]
    }
   ],
   "source": [
    "#6.8\n",
    "dog = {\n",
    "    'kind of animal': 'nice',\n",
    "    'owners name': 'paul'\n",
    "}\n",
    "\n",
    "bird = {\n",
    "    'kind of animal': 'bad',\n",
    "    'owners name': 'josef',\n",
    "}\n",
    "\n",
    "pets = [dog, bird]\n",
    "\n",
    "for pet in pets:\n",
    "    print(pet)"
   ]
  },
  {
   "cell_type": "code",
   "execution_count": 129,
   "metadata": {},
   "outputs": [
    {
     "name": "stdout",
     "output_type": "stream",
     "text": [
      "\n",
      "Jen's favorite places are:\n",
      "\tRome\n",
      "\tMilan\n",
      "\n",
      "Sarah's favorite place is:\n",
      "\tMilan\n",
      "\n",
      "Edward's favorite places are:\n",
      "\tBerlin\n",
      "\tPrague\n",
      "\n",
      "Phil's favorite places are:\n",
      "\tBudapest\n",
      "\tNew York\n"
     ]
    }
   ],
   "source": [
    "#6.9\n",
    "favorite_places = {\n",
    "    'jen': ['rome', 'milan'],\n",
    "    'sarah': ['berlin'],\n",
    "    'edward': ['berlin', 'prague'],\n",
    "    'phil': ['budapest', 'new york'],\n",
    "}\n",
    "\n",
    "for name, places in favorite_places.items():\n",
    "    if len(places) == 1:\n",
    "        print(\"\\n\" + name.title() + \"'s favorite place is:\")\n",
    "        print(\"\\t\" + place.title())\n",
    "    else:    \n",
    "        print(\"\\n\" + name.title() + \"'s favorite places are:\")\n",
    "        for place in places:\n",
    "            print(\"\\t\" + place.title())"
   ]
  },
  {
   "cell_type": "code",
   "execution_count": 138,
   "metadata": {},
   "outputs": [
    {
     "name": "stdout",
     "output_type": "stream",
     "text": [
      "\n",
      "Nico's favorite numbers are:\n",
      "\t16\n",
      "\t17\n",
      "\t18\n",
      "\n",
      "Roman's favorite numbers are:\n",
      "\t26\n",
      "\t37\n",
      "\t38\n",
      "\n",
      "Daphne's favorite numbers are:\n",
      "\t6\n",
      "\t7\n",
      "\t8\n",
      "\n",
      "Simon's favorite numbers are:\n",
      "\t1\n",
      "\t7\n",
      "\t18\n",
      "\n",
      "Laure's favorite numbers are:\n",
      "\t16\n",
      "\t1\n",
      "\t180\n"
     ]
    }
   ],
   "source": [
    "#6.10\n",
    "favorite_numbers = {\n",
    "    'nico': [16, 17, 18],\n",
    "    'roman': [26, 37, 38],\n",
    "    'daphne': [6, 7, 8],\n",
    "    'simon': [1, 7, 18],\n",
    "    'laure': [16, 1, 180],\n",
    "}\n",
    "\n",
    "for person, numbers in favorite_numbers.items():\n",
    "    print(\"\\n\" + person.title() + \"'s favorite numbers are:\")\n",
    "    for number in numbers:\n",
    "        print(\"\\t\" + str(number))\n",
    "    "
   ]
  },
  {
   "cell_type": "markdown",
   "metadata": {},
   "source": [
    "* 6-11. Cities: Make a dictionary called cities. Use the names of three cities as keys in your dictionary. Create a dictionary of information about each city and include the country that the city is in, its approximate population, and one fact about that city. The keys for each city’s dictionary should be something like country, population, and fact. Print the name of each city and all of the infor- mation you have stored about it."
   ]
  },
  {
   "cell_type": "code",
   "execution_count": 142,
   "metadata": {},
   "outputs": [
    {
     "name": "stdout",
     "output_type": "stream",
     "text": [
      "\n",
      "Cityname: Frankfurt\n",
      "\n",
      "Cityinfo: {'country': 'germany', 'population': '100', 'fact': 'big'}\n",
      "\n",
      "Cityname: Mannheim\n",
      "\n",
      "Cityinfo: {'country': 'germany', 'population': '10000', 'fact': 'huge'}\n",
      "\n",
      "Cityname: Stuttgart\n",
      "\n",
      "Cityinfo: {'country': 'germany', 'population': '10', 'fact': 'small'}\n"
     ]
    }
   ],
   "source": [
    "cities = {'frankfurt': {\n",
    "    'country': 'germany',\n",
    "    'population': '100',\n",
    "    'fact': 'big',\n",
    "} ,\n",
    "         'mannheim': {\n",
    "    'country': 'germany',\n",
    "    'population': '10000',\n",
    "    'fact': 'huge',\n",
    "             \n",
    "         } ,\n",
    "          'stuttgart': {\n",
    "    'country': 'germany',\n",
    "    'population': '10',\n",
    "    'fact': 'small',\n",
    "              \n",
    "          } ,\n",
    "         }\n",
    "\n",
    "for cityname, city_info in cities.items():\n",
    "    print(\"\\nCityname: \" + cityname.title())\n",
    "    print(\"\\nCityinfo: \" + str(city_info))\n",
    "    \n"
   ]
  }
 ],
 "metadata": {
  "kernelspec": {
   "display_name": "Python 3",
   "language": "python",
   "name": "python3"
  },
  "language_info": {
   "codemirror_mode": {
    "name": "ipython",
    "version": 3
   },
   "file_extension": ".py",
   "mimetype": "text/x-python",
   "name": "python",
   "nbconvert_exporter": "python",
   "pygments_lexer": "ipython3",
   "version": "3.7.3"
  }
 },
 "nbformat": 4,
 "nbformat_minor": 2
}
