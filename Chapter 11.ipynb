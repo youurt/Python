{
 "cells": [
  {
   "cell_type": "markdown",
   "metadata": {},
   "source": [
    "# Testing your Code"
   ]
  },
  {
   "cell_type": "markdown",
   "metadata": {},
   "source": [
    "## Testing a Function"
   ]
  },
  {
   "cell_type": "code",
   "execution_count": 5,
   "metadata": {},
   "outputs": [
    {
     "name": "stdout",
     "output_type": "stream",
     "text": [
      "Overwriting name_function.py\n"
     ]
    }
   ],
   "source": [
    "%%writefile name_function.py\n",
    "def get_formatted_name(first, last):\n",
    "    \"\"\"Generate a neatly formatted full name.\"\"\"\n",
    "    full_name = first + ' ' + last\n",
    "    return full_name.title()"
   ]
  },
  {
   "cell_type": "code",
   "execution_count": 12,
   "metadata": {},
   "outputs": [
    {
     "name": "stdout",
     "output_type": "stream",
     "text": [
      "Enter 'q' at any time to quit.\n",
      "\n",
      "Please give a first name: UGur\n",
      "\n",
      "Please give a last name: Tigz\n",
      "\tNeatly formatted name: Ugur Tigz.\n",
      "\n",
      "Please give a first name: q\n"
     ]
    }
   ],
   "source": [
    "from name_function import get_formatted_name\n",
    "\n",
    "print(\"Enter 'q' at any time to quit.\")\n",
    "while True:\n",
    "    first = input(\"\\nPlease give a first name: \")\n",
    "    if first == 'q':\n",
    "        break\n",
    "    last = input(\"\\nPlease give a last name: \")\n",
    "    if last == 'q':\n",
    "        break\n",
    "        \n",
    "    formatted_name = get_formatted_name(first, last)\n",
    "    print(\"\\tNeatly formatted name: \" + formatted_name + \".\")"
   ]
  },
  {
   "cell_type": "markdown",
   "metadata": {},
   "source": [
    "* we created a function which just formats the first and last name neatly\n",
    "* then we imported that function\n",
    "* we used a while loop to get some input and store the input in the two varaibles *first* and *last*\n",
    "* we also used the 'q' mechanism to quit the loop any time\n",
    "* we use the get_formatted_name() function in combination with our input\n",
    "* we print this one"
   ]
  },
  {
   "cell_type": "code",
   "execution_count": 28,
   "metadata": {},
   "outputs": [
    {
     "name": "stderr",
     "output_type": "stream",
     "text": [
      ".\n",
      "----------------------------------------------------------------------\n",
      "Ran 1 test in 0.002s\n",
      "\n",
      "OK\n"
     ]
    },
    {
     "data": {
      "text/plain": [
       "<unittest.main.TestProgram at 0x10c499320>"
      ]
     },
     "execution_count": 28,
     "metadata": {},
     "output_type": "execute_result"
    }
   ],
   "source": [
    "import unittest\n",
    "from name_function import get_formatted_name\n",
    "\n",
    "class NamesTestCase(unittest.TestCase):\n",
    "    \"\"\"Tests for 'name_function.py'.\"\"\"\n",
    "    \n",
    "    def test_first_last_name(self):\n",
    "        \"\"\"Do names like Janis Joplin' work?\"\"\"\n",
    "        formatted_name = get_formatted_name('janis', 'joplin')\n",
    "        self.assertEqual(formatted_name, 'Janis Joplin')\n",
    "\n",
    "\n",
    "unittest.main(argv=[''], exit=False)\n",
    "#if __name__ == '__main__':\n",
    "    #unittest.main(argv=['first-arg-is-ignored'], exit=False)"
   ]
  },
  {
   "cell_type": "markdown",
   "metadata": {},
   "source": [
    "* **A passing test*\n",
    "* we first import the unittest module\n",
    "* also we import the get_formatted_name function from our name_function file\n",
    "* we make a class which is inherited from unittest.TestCase\n",
    "* this class will have just one method\n",
    "* each method which starts with test_ will run automatically\n",
    "* this method stores the get_formatted_name() function\n",
    "    * we want to test this function\n",
    "    * we pass it two arguments which we want to check\n",
    "* we use the asserEqual() method, which comes from the unittest module\n",
    "    * this takes two arguments\n",
    "        * the variable in which the get_formatted_name (which we want to test) is stored\n",
    "        * the correct form ('Janis Joplin') which has to be the correct form of our two arguments ('janis', 'joplin')\n",
    "        * so if our function gives the same output as the assertEqual() method, the test is okay\n",
    "* we call the unittest.main() - here we give it two arguemts (special for jupyter notebooks)\n",
    "* the dot is telling that just a single test is passed"
   ]
  },
  {
   "cell_type": "code",
   "execution_count": 34,
   "metadata": {},
   "outputs": [
    {
     "name": "stdout",
     "output_type": "stream",
     "text": [
      "Writing full_name_function.py\n"
     ]
    }
   ],
   "source": [
    "%%writefile full_name_function.py\n",
    "\n",
    "def get_formatted_name(first, middle, last):\n",
    "    \"\"\"Generate a neatly formatted full name.\"\"\"\n",
    "    full_name = first + ' ' + middle + ' ' + last\n",
    "    return full_name.title()"
   ]
  },
  {
   "cell_type": "code",
   "execution_count": 35,
   "metadata": {},
   "outputs": [
    {
     "name": "stderr",
     "output_type": "stream",
     "text": [
      "E\n",
      "======================================================================\n",
      "ERROR: test_first_last_name (__main__.NamesTestCase)\n",
      "Do names like Janis Joplin' work?\n",
      "----------------------------------------------------------------------\n",
      "Traceback (most recent call last):\n",
      "  File \"<ipython-input-35-1475357b8077>\", line 9, in test_first_last_name\n",
      "    formatted_name = get_formatted_name('janis', 'joplin')\n",
      "TypeError: get_formatted_name() missing 1 required positional argument: 'last'\n",
      "\n",
      "----------------------------------------------------------------------\n",
      "Ran 1 test in 0.001s\n",
      "\n",
      "FAILED (errors=1)\n"
     ]
    },
    {
     "data": {
      "text/plain": [
       "<unittest.main.TestProgram at 0x10c90e668>"
      ]
     },
     "execution_count": 35,
     "metadata": {},
     "output_type": "execute_result"
    }
   ],
   "source": [
    "import unittest\n",
    "from full_name_function import get_formatted_name\n",
    "\n",
    "class NamesTestCase(unittest.TestCase):\n",
    "    \"\"\"Tests for 'name_function.py'.\"\"\"\n",
    "    \n",
    "    def test_first_last_name(self):\n",
    "        \"\"\"Do names like Janis Joplin' work?\"\"\"\n",
    "        formatted_name = get_formatted_name('janis', 'joplin')\n",
    "        self.assertEqual(formatted_name, 'Janis Joplin')\n",
    "\n",
    "\n",
    "unittest.main(argv=[''], exit=False)"
   ]
  },
  {
   "cell_type": "markdown",
   "metadata": {},
   "source": [
    "* **A Failling Test**\n",
    "* we create a new function, this time it contains a middle name\n",
    "* we create a new test file\n",
    "* this time we get an error\n",
    "* the error says, that one argument is missing (the middle name is too much here)\n",
    "* so the test simply fails with an error"
   ]
  },
  {
   "cell_type": "code",
   "execution_count": 45,
   "metadata": {},
   "outputs": [
    {
     "name": "stdout",
     "output_type": "stream",
     "text": [
      "Writing middle_optional_function.py\n"
     ]
    }
   ],
   "source": [
    "%%writefile middle_optional_function.py\n",
    "\n",
    "def get_formatted_name(first, last, middle=''):\n",
    "    \"\"\"Generate a neatly formatted full name.\"\"\"\n",
    "    if middle:\n",
    "        full_name = first + ' ' + middle + ' ' + last\n",
    "    else:\n",
    "        full_name = first + ' ' + last\n",
    "    return full_name.title()"
   ]
  },
  {
   "cell_type": "code",
   "execution_count": 46,
   "metadata": {},
   "outputs": [
    {
     "name": "stderr",
     "output_type": "stream",
     "text": [
      ".\n",
      "----------------------------------------------------------------------\n",
      "Ran 1 test in 0.001s\n",
      "\n",
      "OK\n"
     ]
    },
    {
     "data": {
      "text/plain": [
       "<unittest.main.TestProgram at 0x10c902668>"
      ]
     },
     "execution_count": 46,
     "metadata": {},
     "output_type": "execute_result"
    }
   ],
   "source": [
    "import unittest\n",
    "from middle_optional_function import get_formatted_name\n",
    "\n",
    "class NamesTestCase(unittest.TestCase):\n",
    "    \"\"\"Tests for 'name_function.py'.\"\"\"\n",
    "    \n",
    "    def test_first_last_name(self):\n",
    "        \"\"\"Do names like Janis Joplin' work?\"\"\"\n",
    "        formatted_name = get_formatted_name('janis', 'joplin')\n",
    "        self.assertEqual(formatted_name, 'Janis Joplin')\n",
    "\n",
    "\n",
    "unittest.main(argv=[''], exit=False)"
   ]
  },
  {
   "cell_type": "markdown",
   "metadata": {},
   "source": [
    "* **Responding to a Failed Test**\n",
    "* if a test fails don't change the test\n",
    "* change the function\n",
    "* in this case we change the functions arguments\n",
    "* we make the middle name optional\n",
    "* and if we have a middle name we have a full_name with the middle name\n",
    "* else we have a full name without the middle name"
   ]
  },
  {
   "cell_type": "code",
   "execution_count": 48,
   "metadata": {},
   "outputs": [
    {
     "name": "stderr",
     "output_type": "stream",
     "text": [
      "..\n",
      "----------------------------------------------------------------------\n",
      "Ran 2 tests in 0.003s\n",
      "\n",
      "OK\n"
     ]
    },
    {
     "data": {
      "text/plain": [
       "<unittest.main.TestProgram at 0x10abd4fd0>"
      ]
     },
     "execution_count": 48,
     "metadata": {},
     "output_type": "execute_result"
    }
   ],
   "source": [
    "import unittest\n",
    "from middle_optional_function import get_formatted_name\n",
    "\n",
    "class NamesTestCase(unittest.TestCase):\n",
    "    \"\"\"Tests for 'name_function.py'.\"\"\"\n",
    "    \n",
    "    def test_first_last_name(self):\n",
    "        \"\"\"Do names like Janis Joplin' work?\"\"\"\n",
    "        formatted_name = get_formatted_name('janis', 'joplin')\n",
    "        self.assertEqual(formatted_name, 'Janis Joplin')\n",
    "        \n",
    "    def test_first_last_middle_name(self):\n",
    "        \"\"\"Do names like 'Wolfgang Amadeus Mozart' work?\"\"\"\n",
    "        formatted_name = get_formatted_name(\n",
    "        'wolfgang', 'mozart', 'amadeus')\n",
    "        self.assertEqual(formatted_name, 'Wolfgang Amadeus Mozart')\n",
    "\n",
    "\n",
    "unittest.main(argv=[''], exit=False)\n",
    "\n"
   ]
  },
  {
   "cell_type": "markdown",
   "metadata": {},
   "source": [
    "* **Adding New Tests**\n",
    "* we know, that our function has middle names as optional\n",
    "* we make a new method in our test class\n",
    "    * this method starts with *test_* so it will run automatically\n",
    "    * this time we want to check if also names with middle names are okay\n",
    "    * we build our get_formatted_name function with some arguments (note that the middle name arguement is the last one)\n",
    "    * we give the needed arguments for or assertEqual() method (which variable, what should be the output)\n",
    "* we call the unuttest.main() method"
   ]
  },
  {
   "cell_type": "markdown",
   "metadata": {},
   "source": [
    "## Testing a Class"
   ]
  },
  {
   "cell_type": "markdown",
   "metadata": {},
   "source": [
    "| Method                    | Use                                 |\n",
    "|---------------------------|-------------------------------------|\n",
    "| asserEqual(a, b)          | Verify that a == b                  |\n",
    "| asserNotEqual(a, b)       |  Verify that a != b                 |\n",
    "| assertTrue(x)             | Verify that x is True               |\n",
    "| assertFalse(x)            | Verify that x is False              |\n",
    "| assertIn(*item*, list)    | Verify that *item* is in list       |\n",
    "| assertNotIn(*item*, list) | Verify that *item* is not in *list* |"
   ]
  },
  {
   "cell_type": "markdown",
   "metadata": {},
   "source": [
    "* This table shows the different assert Methods in Python\n",
    "* you can use them just in classes which inherit from unittest.TestCase"
   ]
  },
  {
   "cell_type": "code",
   "execution_count": 1,
   "metadata": {},
   "outputs": [
    {
     "name": "stdout",
     "output_type": "stream",
     "text": [
      "Overwriting survey.py\n"
     ]
    }
   ],
   "source": [
    "%%writefile survey.py\n",
    "\n",
    "class AnonymousSurvey():\n",
    "    \"\"\"Collect anonymous answers to a survey question.\"\"\"\n",
    "    \n",
    "    def __init__(self, question):\n",
    "        \"\"\"Store a question, and prepare to store responses.\"\"\"\n",
    "        self.question = question\n",
    "        self.responses = []\n",
    "        \n",
    "    def show_question(self):\n",
    "        \"\"\"Show the survey question.\"\"\"\n",
    "        print(self.question)\n",
    "        \n",
    "    def store_response(self, new_response):\n",
    "        \"\"\"Store a single response to the survey.\"\"\"\n",
    "        self.responses.append(new_response)\n",
    "        \n",
    "    def show_results(self):\n",
    "        \"\"\"Show all the responses that have been given.\"\"\"\n",
    "        print(\"Survey results:\")\n",
    "        for response in self.responses:\n",
    "            print('- ' + response)"
   ]
  },
  {
   "cell_type": "markdown",
   "metadata": {},
   "source": [
    "* **A class to test**\n",
    "* first we build a class\n",
    "* it gets just an argument 'question'\n",
    "* also it has an empty list 'responses'\n",
    "* it has 3 methods\n",
    "    * first shows the question\n",
    "    * the second one stores the new response in our empty list\n",
    "    * the last one shows the lists element each\n",
    "* we have this class in our survey.py module"
   ]
  },
  {
   "cell_type": "code",
   "execution_count": 2,
   "metadata": {},
   "outputs": [
    {
     "name": "stdout",
     "output_type": "stream",
     "text": [
      "What language did you first learn to speak?\n",
      "Enter 'q' at any time to quit.\n",
      "\n",
      "Language: German\n",
      "Language: Turkish\n",
      "Language: English\n",
      "Language: q\n",
      "\n",
      "Thank you to everyone who participated in the survey!\n",
      "Survey results:\n",
      "- German\n",
      "- Turkish\n",
      "- English\n"
     ]
    }
   ],
   "source": [
    "from survey import AnonymousSurvey\n",
    "\n",
    "# Define a question, and make a survey.\n",
    "question = \"What language did you first learn to speak?\"\n",
    "my_survey = AnonymousSurvey(question)\n",
    "\n",
    "# Show the question, and store responses to the question.\n",
    "my_survey.show_question()\n",
    "print(\"Enter 'q' at any time to quit.\\n\")\n",
    "while True:\n",
    "    response = input(\"Language: \")\n",
    "    if response == 'q':\n",
    "        break\n",
    "    my_survey.store_response(response)\n",
    "\n",
    "# Show the survey results.\n",
    "print(\"\\nThank you to everyone who participated in the survey!\")\n",
    "my_survey.show_results()\n"
   ]
  },
  {
   "cell_type": "markdown",
   "metadata": {},
   "source": [
    "* we import from our module 'survey' the class 'AnonymousSurvey'\n",
    "* we define a question and store it\n",
    "* we make an instance of our class qith the argument of our defined question\n",
    "* we use the first method to simply show the question\n",
    "* we print that we can quit the program, by pressing 'q'\n",
    "* in our while loop we get all the responses with the input method and store them into response\n",
    "* if the response is 'q' we quit\n",
    "* we use the store function to store the response (we pass it)\n",
    "* this will put all responses into the responses list with the append method\n",
    "* we use the show results method to simply show whats in the list of responses we collected eachwise"
   ]
  },
  {
   "cell_type": "code",
   "execution_count": 3,
   "metadata": {},
   "outputs": [
    {
     "name": "stderr",
     "output_type": "stream",
     "text": [
      ".\n",
      "----------------------------------------------------------------------\n",
      "Ran 1 test in 0.001s\n",
      "\n",
      "OK\n"
     ]
    },
    {
     "data": {
      "text/plain": [
       "<unittest.main.TestProgram at 0x1076ef278>"
      ]
     },
     "execution_count": 3,
     "metadata": {},
     "output_type": "execute_result"
    }
   ],
   "source": [
    "import unittest\n",
    "from survey import AnonymousSurvey\n",
    "\n",
    "class TestAnonymousSurvey(unittest.TestCase):\n",
    "    \"\"\"Tests for the class AnonymousSurvey.\"\"\"\n",
    "    \n",
    "    def test_store_single_response(self):\n",
    "        \"\"\"Test that a single response is stored properly.\"\"\"\n",
    "        question = \"What language did you first learn to speak?\"\n",
    "        my_survey = AnonymousSurvey(question)\n",
    "        my_survey.store_response('English')\n",
    "        \n",
    "        self.assertIn('English', my_survey.responses)\n",
    "        \n",
    "unittest.main(argv=[''], exit=False)"
   ]
  },
  {
   "cell_type": "markdown",
   "metadata": {},
   "source": [
    "* **Testing the AnonymousSurvey Class**"
   ]
  },
  {
   "cell_type": "markdown",
   "metadata": {},
   "source": [
    "* with the assertIn() method we can test, if an element is in a list\n",
    "* we simply check whether 'English' is in the list responses\n",
    "* to test a class, we have to make an instance of a class (which we do here) 'my_survey'\n",
    "* we define the question before and pass it to our class instance\n",
    "* we use the store_response() method, to store 'English' in our list\n",
    "* we prove that, with the assertIn() method, we check if the element 'English' is in our list responses"
   ]
  },
  {
   "cell_type": "code",
   "execution_count": 4,
   "metadata": {},
   "outputs": [
    {
     "name": "stderr",
     "output_type": "stream",
     "text": [
      "..\n",
      "----------------------------------------------------------------------\n",
      "Ran 2 tests in 0.004s\n",
      "\n",
      "OK\n"
     ]
    },
    {
     "data": {
      "text/plain": [
       "<unittest.main.TestProgram at 0x107280828>"
      ]
     },
     "execution_count": 4,
     "metadata": {},
     "output_type": "execute_result"
    }
   ],
   "source": [
    "import unittest\n",
    "from survey import AnonymousSurvey\n",
    "\n",
    "class TestAnonymousSurvey(unittest.TestCase):\n",
    "    \"\"\"Tests for the class AnonymousSurvey.\"\"\"\n",
    "    \n",
    "    def test_store_single_response(self):\n",
    "        \"\"\"Test that a single response is stored properly.\"\"\"\n",
    "        question = \"What language did you first learn to speak?\"\n",
    "        my_survey = AnonymousSurvey(question)\n",
    "        my_survey.store_response('English')\n",
    "        \n",
    "        self.assertIn('English', my_survey.responses)\n",
    "        \n",
    "    def test_store_three_responses(self):\n",
    "        \"\"\"Test that three individual responses are stored properly.\"\"\"\n",
    "        question = \"What language did you first learn to speak?\"\n",
    "        my_survey = AnonymousSurvey(question)\n",
    "        responses = ['German', 'Turkish', 'English']\n",
    "        for response in responses:\n",
    "            my_survey.store_response(response)\n",
    "            \n",
    "        for response in responses:\n",
    "            self.assertIn(response, my_survey.responses)\n",
    "        \n",
    "unittest.main(argv=[''], exit=False)"
   ]
  },
  {
   "cell_type": "markdown",
   "metadata": {},
   "source": [
    "* this time we make another test\n",
    "* we have a list of responses\n",
    "* we use the store method to store each of them (3) in our list\n",
    "* we make another for loop which tests, if each response is correctly in the list"
   ]
  },
  {
   "cell_type": "code",
   "execution_count": 5,
   "metadata": {},
   "outputs": [
    {
     "name": "stderr",
     "output_type": "stream",
     "text": [
      "..\n",
      "----------------------------------------------------------------------\n",
      "Ran 2 tests in 0.003s\n",
      "\n",
      "OK\n"
     ]
    },
    {
     "data": {
      "text/plain": [
       "<unittest.main.TestProgram at 0x105b31e48>"
      ]
     },
     "execution_count": 5,
     "metadata": {},
     "output_type": "execute_result"
    }
   ],
   "source": [
    "import unittest\n",
    "from survey import AnonymousSurvey\n",
    "\n",
    "class TestAnonymousSurvey(unittest.TestCase):\n",
    "    \"\"\"Tests for the class AnonymousSurvey.\"\"\"\n",
    "    \n",
    "    def setUp(self):\n",
    "        \"\"\"\n",
    "        Create a survey and set of responses for use in all test methods.\n",
    "        \"\"\"\n",
    "        question = \"What language did you first learn to speak?\"\n",
    "        self.my_survey = AnonymousSurvey(question)\n",
    "        self.responses = ['German', 'Turkish', 'English']\n",
    "    \n",
    "    def test_store_single_response(self):\n",
    "        \"\"\"Test that a single response is stored properly.\"\"\"\n",
    "        self.my_survey.store_response(self.responses[0])\n",
    "        self.assertIn(self.responses[0], self.my_survey.responses)\n",
    "        \n",
    "    def test_store_three_responses(self):\n",
    "        \"\"\"Test that three individual responses are stored properly.\"\"\"\n",
    "        for response in self.responses:\n",
    "            self.my_survey.store_response(response)\n",
    "        for response in self.responses:\n",
    "            self.assertIn(response, self.my_survey.responses)\n",
    "        \n",
    "unittest.main(argv=[''], exit=False)"
   ]
  },
  {
   "cell_type": "markdown",
   "metadata": {},
   "source": [
    "* **The setUp() Method**\n",
    "* we don't need to create an instance in each method we create\n",
    "* the setUp() method is for initializing\n",
    "* once we set up things here we can use it in every test_ method we create"
   ]
  }
 ],
 "metadata": {
  "kernelspec": {
   "display_name": "Python 3",
   "language": "python",
   "name": "python3"
  },
  "language_info": {
   "codemirror_mode": {
    "name": "ipython",
    "version": 3
   },
   "file_extension": ".py",
   "mimetype": "text/x-python",
   "name": "python",
   "nbconvert_exporter": "python",
   "pygments_lexer": "ipython3",
   "version": "3.7.3"
  }
 },
 "nbformat": 4,
 "nbformat_minor": 2
}
