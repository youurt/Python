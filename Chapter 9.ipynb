{
 "cells": [
  {
   "cell_type": "markdown",
   "metadata": {},
   "source": [
    "# 9. Classes"
   ]
  },
  {
   "cell_type": "markdown",
   "metadata": {},
   "source": [
    "## Creating and Using a Class"
   ]
  },
  {
   "cell_type": "code",
   "execution_count": 3,
   "metadata": {},
   "outputs": [],
   "source": [
    "class Dog():\n",
    "    \"\"\"A simple attempt to model a dog.\"\"\"\n",
    "    \n",
    "    def __init__(self, name, age):\n",
    "        \"\"\"Initialize name and age attributes.\"\"\"\n",
    "        self.name = name\n",
    "        self.age = age\n",
    "        \n",
    "    def sit(self):\n",
    "        \"\"\"Simulate a dog sitting in response to a command.\"\"\"\n",
    "        print(self.name.title() + \" is now sitting.\")\n",
    "        \n",
    "    def roll_over(self):\n",
    "        \"\"\"Simulate rolling over in response to a command.\"\"\"\n",
    "        print(self.name.title() + \" rolled over!\")"
   ]
  },
  {
   "cell_type": "markdown",
   "metadata": {},
   "source": [
    "* **Creating a class**\n",
    "* first we define a class named **'Dog'**\n",
    "* the parameters are empty because we are creating it from scratch\n",
    "* we describe the class with the docstring\n",
    "* the **__init__()** method:\n",
    "    * a function that's part of a class is a *method*\n",
    "    * handle them like functions\n",
    "    * the __init__() method is for the initialization \n",
    "    * it runs atomatically\n",
    "    * the underscores are by convention (default methods)\n",
    "    * it has 3 parameters *(self, name, age)*\n",
    "    * this method automatically passes the self parameter, which is a reference for the instance *itself*\n",
    "    * self will be passed automatically, **we just have to pass name and age later**\n",
    "    * when two variables are defined they just have the prefix self\n",
    "    * every variable defined with self is also aviable for every method in the class\n",
    "    * and we will access those variables through any instance created \n",
    "        * self.name = name\n",
    "        * self.age = age\n",
    "        * those are called **attributes**\n",
    "    * the two other methods *sit()* and *roll_over()*\n",
    "    * those two don't need additional information \n",
    "    * we just define them to have one parameter *self*\n",
    "    * for now they don't do much\n",
    "    * in reality this methods would do a specific job from the class\n",
    "    * if this would be a class for controlling a robot, this methods would be moving the arm or the leg of the robot"
   ]
  },
  {
   "cell_type": "code",
   "execution_count": 5,
   "metadata": {},
   "outputs": [
    {
     "name": "stdout",
     "output_type": "stream",
     "text": [
      "My dog's name is Willie.\n",
      "My dog is 6 years old.\n"
     ]
    }
   ],
   "source": [
    "my_dog = Dog('willie', 6)\n",
    "\n",
    "print(\"My dog's name is \" + my_dog.name.title() + \".\")\n",
    "print(\"My dog is \" + str(my_dog.age) + \" years old.\")"
   ]
  },
  {
   "cell_type": "markdown",
   "metadata": {},
   "source": [
    "* **Making an Instance from a Class**\n",
    "* we make a variable *my_dog* and say this is an instance of the class we created earlier\n",
    "* we give this class two attributes\n",
    "* the **__init__()** method will be called\n",
    "* to **access attributes** use the dot convention\n",
    "    * my_dog.name\n",
    "    * the attribute name will be associated with my_dog\n",
    "    * this is the same attribute reffered to as self.name in the class Dog"
   ]
  },
  {
   "cell_type": "code",
   "execution_count": 6,
   "metadata": {},
   "outputs": [
    {
     "name": "stdout",
     "output_type": "stream",
     "text": [
      "Willie is now sitting.\n",
      "Willie rolled over!\n"
     ]
    }
   ],
   "source": [
    "my_dog.sit()\n",
    "my_dog.roll_over()"
   ]
  },
  {
   "cell_type": "markdown",
   "metadata": {},
   "source": [
    "* **Calling methods**\n",
    "* we can call any method with the dot notation\n",
    "* we declared the variable *my_dog* earlier with the class *Dog('willie', 6)*\n",
    "* now we call the defined methods from the class\n",
    "* the code in the method will be used when calling the method with this convention"
   ]
  },
  {
   "cell_type": "code",
   "execution_count": 8,
   "metadata": {},
   "outputs": [
    {
     "name": "stdout",
     "output_type": "stream",
     "text": [
      "My dog's name is Willie.\n",
      "My dog is 6 years old.\n",
      "Willie is now sitting.\n",
      "\n",
      "Your dog's name is Lucy.\n",
      "Your dog is 3 years old.\n",
      "Lucy is now sitting.\n"
     ]
    }
   ],
   "source": [
    "my_dog = Dog('willie', 6)\n",
    "your_dog = Dog('lucy', 3)\n",
    "\n",
    "print(\"My dog's name is \" + my_dog.name.title() + \".\") \n",
    "print(\"My dog is \" + str(my_dog.age) + \" years old.\") \n",
    "my_dog.sit()\n",
    "\n",
    "print(\"\\nYour dog's name is \" + your_dog.name.title() + \".\") \n",
    "print(\"Your dog is \" + str(your_dog.age) + \" years old.\") \n",
    "your_dog.sit()"
   ]
  },
  {
   "cell_type": "markdown",
   "metadata": {},
   "source": [
    "* **Creating multiple instances**\n",
    "* you can create as many instances from a class ass you need\n",
    "* a second dog **your_dog** is created and assigned to the Class **Dog** with its two parameters"
   ]
  },
  {
   "cell_type": "markdown",
   "metadata": {},
   "source": [
    "#### Tasks"
   ]
  },
  {
   "cell_type": "markdown",
   "metadata": {},
   "source": [
    "* 9-1. Restaurant: Make a class called Restaurant. The __init__() method for Restaurant should store two attributes: a restaurant_name and a cuisine_type. Make a method called describe_restaurant() that prints these two pieces of information, and a method called open_restaurant() that prints a message indicating that the restaurant is open. Make an instance called restaurant from your class. Print the two attributes individually, and then call both methods.\n",
    "* 9-2. Three Restaurants: Start with your class from Exercise 9-1. Create three different instances from the class, and call describe_restaurant() for each instance.\n",
    "* 9-3. Users: Make a class called User. Create two attributes called first_name and last_name, and then create several other attributes that are typically stored in a user profile. Make a method called describe_user() that prints a summary of the user’s information. Make another method called greet_user() that prints a personalized greeting to the user. Create several instances representing different users, and call both methods for each user."
   ]
  },
  {
   "cell_type": "code",
   "execution_count": 18,
   "metadata": {},
   "outputs": [
    {
     "name": "stdout",
     "output_type": "stream",
     "text": [
      "Hells\n",
      "turkish\n",
      "The Restaurant Hells has Turkish Cuisine!\n",
      "The Restaurant Hells is open!\n"
     ]
    }
   ],
   "source": [
    "# 9-1\n",
    "\n",
    "class Restaurant():\n",
    "    \"\"\"A class describing a Restaurant.\"\"\"\n",
    "    \n",
    "    def __init__(self, restaurant_name, cuisine_type):\n",
    "        \"\"\"Initialize attributes to describe the restaurant.\"\"\"\n",
    "        self.restaurant_name = restaurant_name\n",
    "        self.cuisine_type = cuisine_type\n",
    "        self.restaurant_open = True\n",
    "        \n",
    "    def describe_restaurant(self):\n",
    "        \"\"\"Print a description of the restaurant.\"\"\"\n",
    "        print(\"The Restaurant \" + self.restaurant_name.title() + \" has \" + self.cuisine_type.title() + \" Cuisine!\")\n",
    "        \n",
    "    def open_restaurant(self):\n",
    "        print(\"The Restaurant \" + self.restaurant_name.title() + \" is open!\")\n",
    "        \n",
    "        \n",
    "            \n",
    "my_restaurant = Restaurant('Hells', 'turkish')\n",
    "print(my_restaurant.restaurant_name)\n",
    "print(my_restaurant.cuisine_type)\n",
    "\n",
    "\n",
    "my_restaurant.describe_restaurant()\n",
    "my_restaurant.open_restaurant()"
   ]
  },
  {
   "cell_type": "code",
   "execution_count": 21,
   "metadata": {},
   "outputs": [
    {
     "name": "stdout",
     "output_type": "stream",
     "text": [
      "The Restaurant Berlin Grill has Döner Cuisine!\n",
      "The Restaurant Pizza Hut has Pizza Cuisine!\n",
      "The Restaurant Sushi Place has Sushi Cuisine!\n"
     ]
    }
   ],
   "source": [
    "# 9-2\n",
    "\n",
    "other_restaurant = Restaurant('berlin grill', 'döner')\n",
    "another_restaurant = Restaurant('pizza hut', 'pizza')\n",
    "and_another_restaurant = Restaurant('sushi place', 'sushi')\n",
    "\n",
    "other_restaurant.describe_restaurant()\n",
    "another_restaurant.describe_restaurant()\n",
    "and_another_restaurant.describe_restaurant()"
   ]
  },
  {
   "cell_type": "code",
   "execution_count": 51,
   "metadata": {},
   "outputs": [
    {
     "name": "stdout",
     "output_type": "stream",
     "text": [
      "\n",
      "Ugur Tigu\n",
      " Age: 30\n",
      " Sex: male\n",
      " Membership: gold\n",
      "\n",
      "Hello Ugur Tigu!\n",
      "How are you?\n",
      "\n",
      "Jack Daniels\n",
      " Age: 78\n",
      " Sex: male\n",
      " Membership: premium\n",
      "\n",
      "Hello Jack Daniels!\n",
      "How are you?\n"
     ]
    }
   ],
   "source": [
    "# 9-3\n",
    "class User():\n",
    "    \"\"\"A class describing an user.\"\"\"\n",
    "    \n",
    "    def __init__(self, first_name, last_name, age, sex, membership):\n",
    "        self.first_name = first_name\n",
    "        self.last_name = last_name\n",
    "        self.age = age\n",
    "        self.sex = sex\n",
    "        self.membership = membership\n",
    "    \n",
    "    def describe_user(self):\n",
    "        \"\"\"Prints the user information.\"\"\"\n",
    "        print(\"\\n\" + self.first_name.title() + \" \" + self.last_name.title())\n",
    "        print(\" Age: \" + str(self.age))\n",
    "        print(\" Sex: \" + self.sex)\n",
    "        print(\" Membership: \" + self.membership)\n",
    "        \n",
    "    def greet_user(self):\n",
    "        \"\"\"Greets the user personalized.\"\"\"\n",
    "        msg = \"\\nHello \" + self.first_name.title() + \" \" + self.last_name.title() +\"!\" + \"\\nHow are you?\"\n",
    "        print(msg)\n",
    "        \n",
    "new_user = User('ugur', 'tigu', 30, 'male', 'gold')\n",
    "new_user.describe_user()\n",
    "new_user.greet_user()\n",
    "\n",
    "another_user = User('jack', 'daniels', 78, 'male', 'premium')\n",
    "another_user.describe_user()\n",
    "another_user.greet_user()"
   ]
  },
  {
   "cell_type": "markdown",
   "metadata": {},
   "source": [
    "## Working with Classes and Instances"
   ]
  },
  {
   "cell_type": "code",
   "execution_count": 9,
   "metadata": {},
   "outputs": [
    {
     "name": "stdout",
     "output_type": "stream",
     "text": [
      "2016 Audi A4\n"
     ]
    }
   ],
   "source": [
    "class Car():\n",
    "    \"\"\"A simple attempt to represent a car.\"\"\"\n",
    "    \n",
    "    def __init__(self, make, model, year):\n",
    "        \"\"\"Initialize attributes to describe a car.\"\"\"\n",
    "        self.make = make\n",
    "        self.model = model\n",
    "        self.year = year\n",
    "        \n",
    "    def get_descriptive_name(self):\n",
    "        \"\"\"Return a neatly formatted descriptive name.\"\"\"\n",
    "        long_name = str(self.year) + ' ' + self.make + ' ' + self.model\n",
    "        return long_name.title()\n",
    "    \n",
    "my_new_car = Car('audi', 'a4', 2016)\n",
    "print(my_new_car.get_descriptive_name())"
   ]
  },
  {
   "cell_type": "markdown",
   "metadata": {},
   "source": [
    "* **creating a new class**\n",
    "* with the __init__() method we define the self parameter \n",
    "* additionaly we have 3 more parameters\n",
    "* the __init__() method will take those parameters and store them in **attributes**\n",
    "* those attributes will be associated with instances made from the class\n",
    "* then we define a method called **get_descriptive_name()**\n",
    "    * this method puts the parameters into a string neatly describing the car\n",
    "    * again we use the dot convention to work with it\n",
    "* we make the instance from the Car class and store it in the variable my_new_car\n",
    "* then we call the method from the class with the dot convention\n",
    "* note that the __init__() method doesn't need a return, though our get_descriptive_name method needs one"
   ]
  },
  {
   "cell_type": "code",
   "execution_count": 10,
   "metadata": {},
   "outputs": [
    {
     "name": "stdout",
     "output_type": "stream",
     "text": [
      "2016 Audi A4\n",
      "This car has 0 miles on it.\n"
     ]
    }
   ],
   "source": [
    "class Car():\n",
    "    \"\"\"A simple attempt to represent a car.\"\"\"\n",
    "    \n",
    "    def __init__(self, make, model, year):\n",
    "        \"\"\"Initialize attributes to describe a car.\"\"\"\n",
    "        self.make = make\n",
    "        self.model = model\n",
    "        self.year = year\n",
    "        self.odometer_reading = 0\n",
    "        \n",
    "    def get_descriptive_name(self):\n",
    "        \"\"\"Return a neatly formatted descriptive name.\"\"\"\n",
    "        long_name = str(self.year) + ' ' + self.make + ' ' + self.model\n",
    "        return long_name.title()\n",
    "    \n",
    "    def read_odometer(self):\n",
    "        \"\"\"Print a statement showing the car's mileage.\"\"\"\n",
    "        print(\"This car has \" + str(self.odometer_reading) + \" miles on it.\")\n",
    "        \n",
    "    \n",
    "my_new_car = Car('audi', 'a4', 2016)\n",
    "print(my_new_car.get_descriptive_name())\n",
    "my_new_car.read_odometer()"
   ]
  },
  {
   "cell_type": "markdown",
   "metadata": {},
   "source": [
    "* **Setting a Default Value for an Attribute**\n",
    "* every attribute in a class needs an initial value, even if that value is 0\n",
    "* this is done in the body of the __init__() method, so you don't have to include a paramter for that attribute\n",
    "* we also have a new method *read_odometer*\n",
    "* since we have set the default value to 0 we just call the function without any arguments"
   ]
  },
  {
   "cell_type": "code",
   "execution_count": 17,
   "metadata": {},
   "outputs": [
    {
     "name": "stdout",
     "output_type": "stream",
     "text": [
      "This car has 23 miles on it.\n"
     ]
    }
   ],
   "source": [
    "my_new_car.odometer_reading = 23\n",
    "my_new_car.read_odometer()"
   ]
  },
  {
   "cell_type": "markdown",
   "metadata": {},
   "source": [
    "* **modifying an attribute's value directly**\n",
    "* through an instance we set the value of the attribute to 23\n",
    "* first we use dot notation to acces the car's odometer_reading attribute"
   ]
  },
  {
   "cell_type": "code",
   "execution_count": 19,
   "metadata": {},
   "outputs": [
    {
     "name": "stdout",
     "output_type": "stream",
     "text": [
      "2016 Audi A4\n",
      "This car has 24 miles on it.\n"
     ]
    }
   ],
   "source": [
    "class Car():\n",
    "    \"\"\"A simple attempt to represent a car.\"\"\"\n",
    "    \n",
    "    def __init__(self, make, model, year):\n",
    "        \"\"\"Initialize attributes to describe a car.\"\"\"\n",
    "        self.make = make\n",
    "        self.model = model\n",
    "        self.year = year\n",
    "        self.odometer_reading = 0\n",
    "        \n",
    "    def get_descriptive_name(self):\n",
    "        \"\"\"Return a neatly formatted descriptive name.\"\"\"\n",
    "        long_name = str(self.year) + ' ' + self.make + ' ' + self.model\n",
    "        return long_name.title()\n",
    "    \n",
    "    def read_odometer(self):\n",
    "        \"\"\"Print a statement showing the car's mileage.\"\"\"\n",
    "        print(\"This car has \" + str(self.odometer_reading) + \" miles on it.\")\n",
    "        \n",
    "    def update_odometer(self, mileage):\n",
    "        \"\"\"Set the odometer reading to the given value.\"\"\"\n",
    "        self.odometer_reading = update\n",
    "        if update:\n",
    "            \n",
    "        \n",
    "    \n",
    "my_new_car = Car('audi', 'a4', 2016)\n",
    "print(my_new_car.get_descriptive_name())\n",
    "\n",
    "my_new_car.update_odometer(24)\n",
    "my_new_car.read_odometer()"
   ]
  },
  {
   "cell_type": "markdown",
   "metadata": {},
   "source": [
    "* **Modifying an Attribute's Value Through a Method**\n",
    "* we add a method into the class *update_odometer()*\n",
    "* this method takes the mileage value and stores it in self.odometer_reading\n",
    "* we call this method and give it the value 24 later on\n",
    "* after that we call the read method to see the updated version"
   ]
  },
  {
   "cell_type": "code",
   "execution_count": 24,
   "metadata": {},
   "outputs": [
    {
     "name": "stdout",
     "output_type": "stream",
     "text": [
      "2016 Audi A4\n",
      "You can't roll back an odometer!\n",
      "This car has 13 miles on it.\n"
     ]
    }
   ],
   "source": [
    "class Car():\n",
    "    \"\"\"A simple attempt to represent a car.\"\"\"\n",
    "    \n",
    "    def __init__(self, make, model, year):\n",
    "        \"\"\"Initialize attributes to describe a car.\"\"\"\n",
    "        self.make = make\n",
    "        self.model = model\n",
    "        self.year = year\n",
    "        self.odometer_reading = 13\n",
    "        \n",
    "    def get_descriptive_name(self):\n",
    "        \"\"\"Return a neatly formatted descriptive name.\"\"\"\n",
    "        long_name = str(self.year) + ' ' + self.make + ' ' + self.model\n",
    "        return long_name.title()\n",
    "    \n",
    "    def read_odometer(self):\n",
    "        \"\"\"Print a statement showing the car's mileage.\"\"\"\n",
    "        print(\"This car has \" + str(self.odometer_reading) + \" miles on it.\")\n",
    "        \n",
    "    def update_odometer(self, mileage):\n",
    "        \"\"\"Set the odometer reading to the given value.\n",
    "        Reject the change if it attempts to roll the odometer back.\"\"\"\n",
    "        if mileage >= self.odometer_reading:\n",
    "            self.odometer_reading = mileage\n",
    "        else:\n",
    "            print(\"You can't roll back an odometer!\")\n",
    "        \n",
    "    \n",
    "my_new_car = Car('audi', 'a4', 2016)\n",
    "print(my_new_car.get_descriptive_name())\n",
    "\n",
    "my_new_car.update_odometer(1)\n",
    "my_new_car.read_odometer()"
   ]
  },
  {
   "cell_type": "markdown",
   "metadata": {},
   "source": [
    "* we extend the *update_odometer()* method with an if statement which tests if the initialized value is more then the updated value of the mileage\n",
    "* in cases of a rollback we get an print alert\n",
    "    * note we changed the default value of the odometer_reading to 13\n",
    "    * if we update this value with 1 (which is less then the default value / or in other words the default value is less then the updated one)"
   ]
  },
  {
   "cell_type": "code",
   "execution_count": 26,
   "metadata": {},
   "outputs": [
    {
     "name": "stdout",
     "output_type": "stream",
     "text": [
      "2013 Subaru Outback\n",
      "This car has 23500 miles on it.\n",
      "This car has 23600 miles on it.\n"
     ]
    }
   ],
   "source": [
    "class Car():\n",
    "    \"\"\"A simple attempt to represent a car.\"\"\"\n",
    "    \n",
    "    def __init__(self, make, model, year):\n",
    "        \"\"\"Initialize attributes to describe a car.\"\"\"\n",
    "        self.make = make\n",
    "        self.model = model\n",
    "        self.year = year\n",
    "        self.odometer_reading = 0\n",
    "        \n",
    "    def get_descriptive_name(self):\n",
    "        \"\"\"Return a neatly formatted descriptive name.\"\"\"\n",
    "        long_name = str(self.year) + ' ' + self.make + ' ' + self.model\n",
    "        return long_name.title()\n",
    "    \n",
    "    def read_odometer(self):\n",
    "        \"\"\"Print a statement showing the car's mileage.\"\"\"\n",
    "        print(\"This car has \" + str(self.odometer_reading) + \" miles on it.\")\n",
    "        \n",
    "    def update_odometer(self, mileage):\n",
    "        \"\"\"Set the odometer reading to the given value.\n",
    "        Reject the change if it attempts to roll the odometer back.\"\"\"\n",
    "        if mileage >= self.odometer_reading:\n",
    "            self.odometer_reading = mileage\n",
    "        else:\n",
    "            print(\"You can't roll back an odometer!\")\n",
    "            \n",
    "    def increment_odometer(self, miles):\n",
    "        \"\"\"Add the given amount to the odometer reading.\"\"\"\n",
    "        self.odometer_reading += miles\n",
    "        \n",
    "my_used_car = Car('subaru', 'outback', 2013)\n",
    "print(my_used_car.get_descriptive_name())\n",
    "\n",
    "my_used_car.update_odometer(23500)\n",
    "my_used_car.read_odometer()\n",
    "\n",
    "my_used_car.increment_odometer(100)\n",
    "my_used_car.read_odometer()"
   ]
  },
  {
   "cell_type": "markdown",
   "metadata": {},
   "source": [
    "* **Incrementing an Attribute's Value Through a Method**\n",
    "* we want to increment an attribute rather than set an entirely new value\n",
    "* first we create a new instance of the class which is a used car\n",
    "* then we update the odometer of this car (which has an initial value of 0) but since this car is an used car we make it 23500\n",
    "* we create a new method *increment_odometer*\n",
    "    * this method takes the self.odometer_reading and which is updated through the update_odometer method to 23500\n",
    "    * it increments it with 100 through the increment_odometer method\n",
    "    * you can also modify this method to reject rollback"
   ]
  },
  {
   "cell_type": "markdown",
   "metadata": {},
   "source": [
    "* 9-4. Number Served: Start with your program from Exercise 9-1 (page 166). Add an attribute called number_served with a default value of 0. Create an instance called restaurant from this class. Print the number of customers the restaurant has served, and then change this value and print it again. Add a method called set_number_served() that lets you set the number of customers that have been served. Call this method with a new number and print the value again. Add a method called increment_number_served() that lets you increment the number of customers who’ve been served. Call this method with any number you like that could represent how many customers were served in, say, a day of business.\n",
    "* 9-5. Login Attempts: Add an attribute called login_attempts to your User class from Exercise 9-3 (page 166). Write a method called increment_ login_attempts() that increments the value of login_attempts by 1. Write another method called reset_login_attempts() that resets the value of login_ attempts to 0. Make an instance of the User class and call increment_login_attempts() several times. Print the value of login_attempts to make sure it was incremented properly, and then call reset_login_attempts(). Print login_attempts again to make sure it was reset to 0.\n",
    " "
   ]
  },
  {
   "cell_type": "code",
   "execution_count": 59,
   "metadata": {},
   "outputs": [
    {
     "name": "stdout",
     "output_type": "stream",
     "text": [
      "The Restaurant Hells has Turkish Cuisine!\n",
      "The Restaurant Hells is open!\n",
      "\n",
      "\n",
      "This restaurant has 1 items served.\n",
      "This restaurant has 13 items served.\n",
      "This restaurant has 10 items served.\n"
     ]
    }
   ],
   "source": [
    "# 9-4\n",
    "\n",
    "class Restaurant():\n",
    "    \"\"\"A class describing a Restaurant.\"\"\"\n",
    "    \n",
    "    def __init__(self, restaurant_name, cuisine_type):\n",
    "        \"\"\"Initialize attributes to describe the restaurant.\"\"\"\n",
    "        self.restaurant_name = restaurant_name\n",
    "        self.cuisine_type = cuisine_type\n",
    "        self.number_served = 0\n",
    "        \n",
    "    def describe_restaurant(self):\n",
    "        \"\"\"Print a description of the restaurant.\"\"\"\n",
    "        print(\"The Restaurant \" + self.restaurant_name.title() + \" has \" + self.cuisine_type.title() + \" Cuisine!\")\n",
    "     \n",
    "    def open_restaurant(self):\n",
    "        \"\"\"Print that the restaurant is open.\"\"\"\n",
    "        print(\"The Restaurant \" + self.restaurant_name.title() + \" is open!\")\n",
    "        \n",
    "    def read_number_served(self):\n",
    "        \"\"\"Reads how many items are been served.\"\"\"\n",
    "        print(\"This restaurant has \" + str(self.number_served) + \" items served.\")\n",
    "        \n",
    "    def set_number_served(self, served):\n",
    "        \"\"\"Sets the number of served items. The initial Value is 0!\"\"\"\n",
    "        self.number_served = served\n",
    "        \n",
    "    def increment_number_served(self, update):\n",
    "        \"\"\"Updates the number of served items.\"\"\"\n",
    "        self.number_served += update     \n",
    "            \n",
    "my_restaurant = Restaurant('Hells', 'turkish')\n",
    "\n",
    "my_restaurant.describe_restaurant()\n",
    "my_restaurant.open_restaurant()\n",
    "print(\"\\n\")\n",
    "my_restaurant.set_number_served(1)\n",
    "my_restaurant.read_number_served()\n",
    "my_restaurant.increment_number_served(12)\n",
    "my_restaurant.read_number_served()\n",
    "my_restaurant.increment_number_served(-3)\n",
    "my_restaurant.read_number_served()"
   ]
  },
  {
   "cell_type": "code",
   "execution_count": 72,
   "metadata": {},
   "outputs": [
    {
     "name": "stdout",
     "output_type": "stream",
     "text": [
      "\n",
      "Ugur Tigu\n",
      " Age: 30\n",
      " Sex: male\n",
      " Membership: gold\n",
      "\n",
      "\n",
      "The User: Ugur has 0 login attempts.\n",
      "The User: Ugur has 12 login attempts.\n",
      "The User: Ugur has 0 login attempts.\n",
      "The User: Ugur has 120 login attempts.\n",
      "The User: Ugur has 0 login attempts.\n"
     ]
    }
   ],
   "source": [
    "#  9-5. \n",
    "\n",
    "class User():\n",
    "    \"\"\"A class describing an user.\"\"\"\n",
    "    \n",
    "    def __init__(self, first_name, last_name, age, sex, membership):\n",
    "        self.first_name = first_name\n",
    "        self.last_name = last_name\n",
    "        self.age = age\n",
    "        self.sex = sex\n",
    "        self.membership = membership\n",
    "        self.login_attempts = 0\n",
    "    \n",
    "    def describe_user(self):\n",
    "        \"\"\"Prints the user information.\"\"\"\n",
    "        print(\"\\n\" + self.first_name.title() + \" \" + self.last_name.title())\n",
    "        print(\" Age: \" + str(self.age))\n",
    "        print(\" Sex: \" + self.sex)\n",
    "        print(\" Membership: \" + self.membership)\n",
    "        \n",
    "    def greet_user(self):\n",
    "        \"\"\"Greets the user personalized.\"\"\"\n",
    "        msg = \"\\nHello \" + self.first_name.title() + \" \" + self.last_name.title() +\"!\" + \"\\nHow are you?\"\n",
    "        print(msg)\n",
    "        \n",
    "    def read_login_attempts(self):\n",
    "        \"\"\"Shows the login attempts.\"\"\"\n",
    "        print(\"The User: \" + self.first_name.title() + \" has \" + str(self.login_attempts) + \" login attempts.\")\n",
    "    \n",
    "    def increment_login_attempts(self, update):\n",
    "        \"\"\"Increments the login attempts. The initial value is 0!\"\"\"\n",
    "        self.login_attempts += update\n",
    "        \n",
    "    def reset_login_attempts(self):\n",
    "        \"\"\"Resets the login attempts to 0 again.\"\"\"\n",
    "        self.login_attempts = 0\n",
    "        \n",
    "        \n",
    "new_user = User('ugur', 'tigu', 30, 'male', 'gold')\n",
    "new_user.describe_user()\n",
    "print(\"\\n\")\n",
    "new_user.read_login_attempts()\n",
    "new_user.increment_login_attempts(12)\n",
    "new_user.read_login_attempts()\n",
    "new_user.reset_login_attempts()\n",
    "new_user.read_login_attempts()  \n",
    "new_user.increment_login_attempts(120)\n",
    "new_user.read_login_attempts() \n",
    "new_user.reset_login_attempts()\n",
    "new_user.read_login_attempts() "
   ]
  },
  {
   "cell_type": "markdown",
   "metadata": {},
   "source": [
    "## Inheritance"
   ]
  },
  {
   "cell_type": "markdown",
   "metadata": {},
   "source": [
    "* you don't always start from scratch wen writing a class\n",
    "* a specialized version of another class you worte is a child class\n",
    "* this is done with *inheritance*\n",
    "* the child class takes all the attributes and methods of the parent"
   ]
  },
  {
   "cell_type": "code",
   "execution_count": 27,
   "metadata": {},
   "outputs": [
    {
     "name": "stdout",
     "output_type": "stream",
     "text": [
      "2016 Tesla Model S\n"
     ]
    }
   ],
   "source": [
    "class ElectricCar(Car):\n",
    "    \"\"\"Represents aspects of a car, specific to electric vehicles.\"\"\"\n",
    "    \n",
    "    def __init__(self, make, model, year):\n",
    "        \"\"\"Initialize attributes of the parent class.\"\"\"\n",
    "        super().__init__(make, model, year)\n",
    "        \n",
    "my_tesla = ElectricCar('tesla', 'model s', 2016)\n",
    "print(my_tesla.get_descriptive_name())"
   ]
  },
  {
   "cell_type": "markdown",
   "metadata": {},
   "source": [
    "* **The __init__() Method for a Child Class**\n",
    "* the **__init__()** method of the child needs help from its parent class\n",
    "* an electric car is just a specific kind of *Car*\n",
    "* if we want to go into more detail, we don't need to start from scratch, we can take the methods and attributes of the parent\n",
    "* the parent has to appear before the child\n",
    "* we define the child class *ElectricCar* \n",
    "    * the name of the parent must have to be included into the parantheses of the child car *ElectricCar(Car)*\n",
    "* the *super()* function is a special function that helps to make the connection between the two classes\n",
    "* the parent is called *\"Superclass\"* and the child *\"Subclass\"*\n",
    "* we make an instance of the new class with the variable my_tesla\n",
    "* at this point we just want to check the connection of the two classes"
   ]
  },
  {
   "cell_type": "code",
   "execution_count": 30,
   "metadata": {},
   "outputs": [
    {
     "name": "stdout",
     "output_type": "stream",
     "text": [
      "2016 Tesla Model S\n",
      "This car has a 70-kWh battery.\n"
     ]
    }
   ],
   "source": [
    "class ElectricCar(Car):\n",
    "    \"\"\"Represents aspects of a car, specific to electric vehicles.\"\"\"\n",
    "    \n",
    "    def __init__(self, make, model, year):\n",
    "        \"\"\"Initialize attributes of the parent class.\n",
    "        Then initialize attributes specific to an electric car.\"\"\"\n",
    "        super().__init__(make, model, year)\n",
    "        self.battery_size = 70\n",
    "    \n",
    "    def describe_battery(self):\n",
    "        \"\"\"Print a statement describing the battery size.\"\"\"\n",
    "        print(\"This car has a \" + str(self.battery_size) + \"-kWh battery.\")\n",
    "        \n",
    "        \n",
    "my_tesla = ElectricCar('tesla', 'model s', 2016)\n",
    "print(my_tesla.get_descriptive_name())\n",
    "my_tesla.describe_battery()"
   ]
  },
  {
   "cell_type": "markdown",
   "metadata": {},
   "source": [
    "* **Defining Attributes and Methods for the Child Class**\n",
    "* we add specific attributes and methods to our child class\n",
    "    * we have defined an attribute *battery_size* and gave it an initial value of 70\n",
    "    * we have defined a method which just prints the battery size named *describe_battery*\n",
    "* then we call our new method\n",
    "* if the method or the attribute is general (means, that it could be belonging to any car) then define it to the parent class, otherwise if its specific than add it to the child class (electric car) - so everybody who needs the functionality will have it aviable"
   ]
  },
  {
   "cell_type": "code",
   "execution_count": 32,
   "metadata": {},
   "outputs": [],
   "source": [
    "class ElectricCar(Car):\n",
    "    \"\"\"Represents aspects of a car, specific to electric vehicles.\"\"\"\n",
    "        \n",
    "    def fill_gas_tank():\n",
    "        \"\"\"Electric cars don't have gas tanks.\"\"\"\n",
    "        print(\"This car doesn't need a gas tank!\")"
   ]
  },
  {
   "cell_type": "markdown",
   "metadata": {},
   "source": [
    "* **Overriding Methods from the Parent Class**\n",
    "* say you have a method in the parent class named *fill_gas_tank()*\n",
    "* we don't need this method in our child class\n",
    "* we override this method because it is meaningless\n",
    "* now if somebody runs the code from the electric car it is overwritten\n",
    "    * from the parent class you can call this method as before"
   ]
  },
  {
   "cell_type": "code",
   "execution_count": 33,
   "metadata": {},
   "outputs": [
    {
     "name": "stdout",
     "output_type": "stream",
     "text": [
      "2016 Tesla Model S\n",
      "This car has a 70-kWh battery.\n"
     ]
    }
   ],
   "source": [
    "class Battery():\n",
    "    \"\"\"A simple attempt to model a battery for an electric car.\"\"\"\n",
    "    \n",
    "    def __init__(self, battery_size=70):\n",
    "        \"\"\"Initialize the battery's attributes.\"\"\"\n",
    "        self.battery_size = battery_size\n",
    "        \n",
    "    def describe_battery(self):\n",
    "        \"\"\"Print a statement describinmg the battery size.\"\"\"\n",
    "        print(\"This car has a \" + str(self.battery_size) + \"-kWh battery.\")\n",
    "        \n",
    "\n",
    "class ElectricCar(Car):\n",
    "    \"\"\"Represents aspects of a car, specific to electric vehicles.\"\"\"\n",
    "    \n",
    "    def __init__(self, make, model, year):\n",
    "        \"\"\"Initialize attributes of the parent class.\n",
    "        Then initialize attributes specific to an electric car.\"\"\"\n",
    "        super().__init__(make, model, year)\n",
    "        self.battery = Battery()\n",
    "    \n",
    "   \n",
    "        \n",
    "my_tesla = ElectricCar('tesla', 'model s', 2016)\n",
    "\n",
    "print(my_tesla.get_descriptive_name())\n",
    "my_tesla.battery.describe_battery()"
   ]
  },
  {
   "cell_type": "markdown",
   "metadata": {},
   "source": [
    "* **Instances as Attributes**\n",
    "* the more detail the classes get, the longer the code gets\n",
    "* it is useful to build seperate classes for different parts of the Class\n",
    "* break them into smaller classes and let them work together\n",
    "* we define a new class Battery\n",
    "* in the __init__() method of this class we have just one parameter which is the battery_size\n",
    "* this is an optional parameter, it sets the value to 70, if no other value is given\n",
    "* the method desribe_battery() is now moved to this new class \n",
    "* then in our ElectricCar Class, wich has its parent Car() we simply add an attribute called self.battery and assign it to our new class Battery()\n",
    "* note that this Class has no argument, because the default is already 70\n",
    "* when we want to describe the battery, we need to work through the car's battery attribute\n",
    "    * this: my_tesla.describe_battery()\n",
    "    * went to this: my_tesla.battery.describe_battery()"
   ]
  },
  {
   "cell_type": "code",
   "execution_count": 36,
   "metadata": {},
   "outputs": [
    {
     "name": "stdout",
     "output_type": "stream",
     "text": [
      "2016 Tesla Model S\n",
      "This car has a 70-kWh battery.\n",
      "This car can go approximately 240 miles on a full charge.\n"
     ]
    }
   ],
   "source": [
    "class Battery():\n",
    "    \"\"\"A simple attempt to model a battery for an electric car.\"\"\"\n",
    "    \n",
    "    def __init__(self, battery_size=70):\n",
    "        \"\"\"Initialize the battery's attributes.\"\"\"\n",
    "        self.battery_size = battery_size\n",
    "        \n",
    "    def describe_battery(self):\n",
    "        \"\"\"Print a statement describinmg the battery size.\"\"\"\n",
    "        print(\"This car has a \" + str(self.battery_size) + \"-kWh battery.\")\n",
    "        \n",
    "    def get_range(self):\n",
    "        \"\"\"Print a statement about the range this battery provides.\"\"\"\n",
    "        if self.battery_size == 70:\n",
    "            range = 240\n",
    "        elif self.battery_size == 85:\n",
    "            range = 270\n",
    "        \n",
    "        message = \"This car can go approximately \" + str(range)\n",
    "        message += \" miles on a full charge.\"\n",
    "        print(message)\n",
    "\n",
    "class ElectricCar(Car):\n",
    "    \"\"\"Represents aspects of a car, specific to electric vehicles.\"\"\"\n",
    "    \n",
    "    def __init__(self, make, model, year):\n",
    "        \"\"\"Initialize attributes of the parent class.\n",
    "        Then initialize attributes specific to an electric car.\"\"\"\n",
    "        super().__init__(make, model, year)\n",
    "        self.battery = Battery()\n",
    "    \n",
    "   \n",
    "        \n",
    "my_tesla = ElectricCar('tesla', 'model s', 2016)\n",
    "print(my_tesla.get_descriptive_name())\n",
    "my_tesla.battery.describe_battery()\n",
    "my_tesla.battery.get_range()"
   ]
  },
  {
   "cell_type": "markdown",
   "metadata": {},
   "source": [
    "* we add another method to our new class Battery()\n",
    "* the new method **get_range** tests:\n",
    "    * the battery size and assigns to it a range\n",
    "    * prints out the range \n",
    "* we again have to call it through the battery attribute"
   ]
  },
  {
   "cell_type": "markdown",
   "metadata": {},
   "source": [
    "#### Tasks"
   ]
  },
  {
   "cell_type": "markdown",
   "metadata": {},
   "source": [
    "* 9-6. Ice Cream Stand: An ice cream stand is a specific kind of restaurant. Write a class called IceCreamStand that inherits from the Restaurant class you wrote in Exercise 9-1 (page 166) or Exercise 9-4 (page 171). Either version of the class will work; just pick the one you like better. Add an attribute called flavors that stores a list of ice cream flavors. Write a method that displays these flavors. Create an instance of IceCreamStand, and call this method.\n",
    "* 9-7. Admin: An administrator is a special kind of user. Write a class called Admin that inherits from the User class you wrote in Exercise 9-3 (page 166) or Exercise 9-5 (page 171). Add an attribute, privileges, that stores a list of strings like \"can add post\", \"can delete post\", \"can ban user\", and so on . Write a method called show_privileges() that lists the administrator’s set of privileges. Create an instance of Admin, and call your method.\n",
    "* 9-8. Privileges: Write a separate Privileges class. The class should have one attribute, privileges, that stores a list of strings as described in Exercise 9-7. Move the show_privileges() method to this class. Make a Privileges instance as an attribute in the Admin class. Create a new instance of Admin and use your method to show its privileges.\n",
    "* 9-9. Battery Upgrade: Use the final version of electric_car.py from this section. Add a method to the Battery class called upgrade_battery(). This method should check the battery size and set the capacity to 85 if it isn’t already. Make an electric car with a default battery size, call get_range() once, and then call get_range() a second time after upgrading the battery. You should see an increase in the car’s range."
   ]
  },
  {
   "cell_type": "code",
   "execution_count": 77,
   "metadata": {},
   "outputs": [
    {
     "name": "stdout",
     "output_type": "stream",
     "text": [
      "This restaurant serves ['vanillia', 'chocolate', 'banana'] Ice Cream!\n"
     ]
    }
   ],
   "source": [
    "# 9-6\n",
    "\n",
    "class Restaurant():\n",
    "    \"\"\"A class describing a Restaurant.\"\"\"\n",
    "    \n",
    "    def __init__(self, restaurant_name, cuisine_type):\n",
    "        \"\"\"Initialize attributes to describe the restaurant.\"\"\"\n",
    "        self.restaurant_name = restaurant_name\n",
    "        self.cuisine_type = cuisine_type\n",
    "        self.number_served = 0\n",
    "        \n",
    "    def describe_restaurant(self):\n",
    "        \"\"\"Print a description of the restaurant.\"\"\"\n",
    "        print(\"The Restaurant \" + self.restaurant_name.title() + \" has \" + self.cuisine_type.title() + \" Cuisine!\")\n",
    "     \n",
    "    def open_restaurant(self):\n",
    "        \"\"\"Print that the restaurant is open.\"\"\"\n",
    "        print(\"The Restaurant \" + self.restaurant_name.title() + \" is open!\")\n",
    "        \n",
    "    def read_number_served(self):\n",
    "        \"\"\"Reads how many items are been served.\"\"\"\n",
    "        print(\"This restaurant has \" + str(self.number_served) + \" items served.\")\n",
    "        \n",
    "    def set_number_served(self, served):\n",
    "        \"\"\"Sets the number of served items. The initial Value is 0!\"\"\"\n",
    "        self.number_served = served\n",
    "        \n",
    "    def increment_number_served(self, update):\n",
    "        \"\"\"Updates the number of served items.\"\"\"\n",
    "        self.number_served += update     \n",
    "        \n",
    "class IceCreamStand(Restaurant):\n",
    "    \"\"\"A class describing an Ice Cream Stand, which is a child of a Restaurant.\"\"\"\n",
    "    \n",
    "    def __init__(self, restaurant_name, cuisine_type):\n",
    "        \"\"\"Initialize attributes of the parent class.\n",
    "        Then initialize attributes specific.\"\"\"\n",
    "        super().__init__(restaurant_name, cuisine_type)\n",
    "        self.flavors = ['vanillia', 'chocolate', 'banana']\n",
    "        \n",
    "    def display_flavors(self):\n",
    "        \"\"\"Print the flavors of the ice cream.\"\"\"\n",
    "        print(\"This restaurant serves \" + str(self.flavors) + \" Ice Cream!\")\n",
    "        \n",
    "my_ice_store = IceCreamStand('Luna Ice', 'Ice Cream')\n",
    "my_ice_store.display_flavors()"
   ]
  },
  {
   "cell_type": "code",
   "execution_count": 96,
   "metadata": {},
   "outputs": [
    {
     "name": "stdout",
     "output_type": "stream",
     "text": [
      "The admin can add posts!\n",
      "The admin can delete posts!\n",
      "The admin can edit posts!\n"
     ]
    }
   ],
   "source": [
    "# 9-7\n",
    "\n",
    "class User():\n",
    "    \"\"\"A class describing an user.\"\"\"\n",
    "    \n",
    "    def __init__(self, first_name, last_name, age, sex, membership):\n",
    "        self.first_name = first_name\n",
    "        self.last_name = last_name\n",
    "        self.age = age\n",
    "        self.sex = sex\n",
    "        self.membership = membership\n",
    "        self.login_attempts = 0\n",
    "    \n",
    "    def describe_user(self):\n",
    "        \"\"\"Prints the user information.\"\"\"\n",
    "        print(\"\\n\" + self.first_name.title() + \" \" + self.last_name.title())\n",
    "        print(\" Age: \" + str(self.age))\n",
    "        print(\" Sex: \" + self.sex)\n",
    "        print(\" Membership: \" + self.membership)\n",
    "        \n",
    "    def greet_user(self):\n",
    "        \"\"\"Greets the user personalized.\"\"\"\n",
    "        msg = \"\\nHello \" + self.first_name.title() + \" \" + self.last_name.title() +\"!\" + \"\\nHow are you?\"\n",
    "        print(msg)\n",
    "        \n",
    "    def read_login_attempts(self):\n",
    "        \"\"\"Shows the login attempts.\"\"\"\n",
    "        print(\"The User: \" + self.first_name.title() + \" has \" + str(self.login_attempts) + \" login attempts.\")\n",
    "    \n",
    "    def increment_login_attempts(self, update):\n",
    "        \"\"\"Increments the login attempts. The initial value is 0!\"\"\"\n",
    "        self.login_attempts += update\n",
    "        \n",
    "    def reset_login_attempts(self):\n",
    "        \"\"\"Resets the login attempts to 0 again.\"\"\"\n",
    "        self.login_attempts = 0\n",
    "        \n",
    "        \n",
    "class Admin(User):\n",
    "    \"\"\"A class describing the Admin, which is also a user!\"\"\"\n",
    "    \n",
    "    def __init__(self, first_name, last_name, age, sex, membership):\n",
    "        \"\"\"Initialize attributes of the parent class.\n",
    "        Then initialize attributes specific.\"\"\"\n",
    "        super().__init__(first_name, last_name, age, sex, membership)\n",
    "        self.privileges = ['can add posts', 'can delete posts', 'can edit posts']\n",
    "        \n",
    "    def show_privileges(self):\n",
    "        \"\"\"Shows the privileges of the admin.\"\"\"\n",
    "        for i in self.privileges:\n",
    "            print(\"The admin \" + i + \"!\")\n",
    "            \n",
    "my_admin = Admin('ugur', 'tigu', 30, 'male', 'membership')\n",
    "my_admin.show_privileges()"
   ]
  },
  {
   "cell_type": "code",
   "execution_count": 108,
   "metadata": {},
   "outputs": [
    {
     "name": "stdout",
     "output_type": "stream",
     "text": [
      "\n",
      "Ugur Tigu\n",
      " Age: 30\n",
      " Sex: male\n",
      " Membership: gold\n",
      "\n",
      "Privileges:\n",
      "- No privileges.\n",
      "\n",
      "Adding priviliges...\n",
      "\n",
      "Privileges:\n",
      "- can add\n",
      "- can delete\n",
      "- can edit\n"
     ]
    }
   ],
   "source": [
    "# 9-8\n",
    "\n",
    "class User():\n",
    "    \"\"\"A class describing an user.\"\"\"\n",
    "    \n",
    "    def __init__(self, first_name, last_name, age, sex, membership):\n",
    "        self.first_name = first_name\n",
    "        self.last_name = last_name\n",
    "        self.age = age\n",
    "        self.sex = sex\n",
    "        self.membership = membership\n",
    "        self.login_attempts = 0\n",
    "    \n",
    "    def describe_user(self):\n",
    "        \"\"\"Prints the user information.\"\"\"\n",
    "        print(\"\\n\" + self.first_name.title() + \" \" + self.last_name.title())\n",
    "        print(\" Age: \" + str(self.age))\n",
    "        print(\" Sex: \" + self.sex)\n",
    "        print(\" Membership: \" + self.membership)\n",
    "        \n",
    "    def greet_user(self):\n",
    "        \"\"\"Greets the user personalized.\"\"\"\n",
    "        msg = \"\\nHello \" + self.first_name.title() + \" \" + self.last_name.title() +\"!\" + \"\\nHow are you?\"\n",
    "        print(msg)\n",
    "        \n",
    "    def read_login_attempts(self):\n",
    "        \"\"\"Shows the login attempts.\"\"\"\n",
    "        print(\"The User: \" + self.first_name.title() + \" has \" + str(self.login_attempts) + \" login attempts.\")\n",
    "    \n",
    "    def increment_login_attempts(self, update):\n",
    "        \"\"\"Increments the login attempts. The initial value is 0!\"\"\"\n",
    "        self.login_attempts += update\n",
    "        \n",
    "    def reset_login_attempts(self):\n",
    "        \"\"\"Resets the login attempts to 0 again.\"\"\"\n",
    "        self.login_attempts = 0\n",
    "        \n",
    "        \n",
    "class Admin(User):\n",
    "    \"\"\"A class describing the Admin, which is also a user!\"\"\"\n",
    "    \n",
    "    def __init__(self, first_name, last_name, age, sex, membership):\n",
    "        \"\"\"Initialize attributes of the parent class.\n",
    "        Then initialize attributes specific.\"\"\"\n",
    "        super().__init__(first_name, last_name, age, sex, membership)\n",
    "        \n",
    "        self.privileges = Privileges()\n",
    "            \n",
    "class Privileges():\n",
    "    \"\"\"A class for privileges.\"\"\"\n",
    "   \n",
    "    def __init__(self, privileges=[]):\n",
    "        self.privileges = privileges\n",
    "\n",
    "    \n",
    "    def show_privileges(self):\n",
    "        print(\"\\nPrivileges:\")\n",
    "        if self.privileges:\n",
    "            for privilege in self.privileges:\n",
    "                print(\"- \" + privilege)\n",
    "        else:\n",
    "            print(\"- No privileges.\")\n",
    "            \n",
    "ugur = Admin('ugur', 'tigu', 30, 'male', 'gold')\n",
    "ugur.describe_user()\n",
    "\n",
    "ugur.privileges.show_privileges()\n",
    "\n",
    "print(\"\\nAdding priviliges...\")\n",
    "ugur_privileges = [\n",
    "    'can add',\n",
    "    'can delete',\n",
    "    'can edit',\n",
    "]\n",
    "\n",
    "ugur.privileges.privileges = ugur_privileges\n",
    "ugur.privileges.show_privileges()"
   ]
  },
  {
   "cell_type": "code",
   "execution_count": 116,
   "metadata": {},
   "outputs": [
    {
     "name": "stdout",
     "output_type": "stream",
     "text": [
      "2016 Tesla Model S\n",
      "This car has a 70-kWh battery.\n",
      "This car can go approximately 240 miles on a full charge.\n",
      "Upgraded the battery to 85.\n",
      "This car can go approximately 270 miles on a full charge.\n"
     ]
    }
   ],
   "source": [
    "# 9-9. \n",
    "\n",
    "class Car():\n",
    "    \"\"\"A simple attempt to represent a car.\"\"\"\n",
    "    \n",
    "    def __init__(self, make, model, year):\n",
    "        \"\"\"Initialize attributes to describe a car.\"\"\"\n",
    "        self.make = make\n",
    "        self.model = model\n",
    "        self.year = year\n",
    "        self.odometer_reading = 0\n",
    "        \n",
    "    def get_descriptive_name(self):\n",
    "        \"\"\"Return a neatly formatted descriptive name.\"\"\"\n",
    "        long_name = str(self.year) + ' ' + self.make + ' ' + self.model\n",
    "        return long_name.title()\n",
    "    \n",
    "    def read_odometer(self):\n",
    "        \"\"\"Print a statement showing the car's mileage.\"\"\"\n",
    "        print(\"This car has \" + str(self.odometer_reading) + \" miles on it.\")\n",
    "        \n",
    "    def update_odometer(self, mileage):\n",
    "        \"\"\"Set the odometer reading to the given value.\n",
    "        Reject the change if it attempts to roll the odometer back.\"\"\"\n",
    "        if mileage >= self.odometer_reading:\n",
    "            self.odometer_reading = mileage\n",
    "        else:\n",
    "            print(\"You can't roll back an odometer!\")\n",
    "            \n",
    "    def increment_odometer(self, miles):\n",
    "        \"\"\"Add the given amount to the odometer reading.\"\"\"\n",
    "        self.odometer_reading += miles    \n",
    "    \n",
    "\n",
    "class Battery():\n",
    "    \"\"\"A simple attempt to model a battery for an electric car.\"\"\"\n",
    "    \n",
    "    def __init__(self, battery_size=70):\n",
    "        \"\"\"Initialize the battery's attributes.\"\"\"\n",
    "        self.battery_size = battery_size\n",
    "        \n",
    "    def describe_battery(self):\n",
    "        \"\"\"Print a statement describinmg the battery size.\"\"\"\n",
    "        print(\"This car has a \" + str(self.battery_size) + \"-kWh battery.\")\n",
    "        \n",
    "    def get_range(self):\n",
    "        \"\"\"Print a statement about the range this battery provides.\"\"\"\n",
    "        if self.battery_size == 70:\n",
    "            range = 240\n",
    "        elif self.battery_size == 85:\n",
    "            range = 270\n",
    "        \n",
    "        message = \"This car can go approximately \" + str(range)\n",
    "        message += \" miles on a full charge.\"\n",
    "        print(message)\n",
    "        \n",
    "    def upgrade_battery(self):\n",
    "        \"\"\"This method should check the battery size and set the capacity to 85 if it isn't already.\"\"\"\n",
    "        if self.battery_size == 70:\n",
    "            self.battery_size = 85\n",
    "            print(\"Upgraded the battery to \" + str(self.battery_size) + \".\")\n",
    "        else:\n",
    "            print(\"The battery is already upgraded.\")\n",
    "            \n",
    "\n",
    "class ElectricCar(Car):\n",
    "    \"\"\"Represents aspects of a car, specific to electric vehicles.\"\"\"\n",
    "    \n",
    "    def __init__(self, make, model, year):\n",
    "        \"\"\"Initialize attributes of the parent class.\n",
    "        Then initialize attributes specific to an electric car.\"\"\"\n",
    "        super().__init__(make, model, year)\n",
    "        self.battery = Battery()\n",
    "    \n",
    "   \n",
    "        \n",
    "my_tesla = ElectricCar('tesla', 'model s', 2016)\n",
    "print(my_tesla.get_descriptive_name())\n",
    "my_tesla.battery.describe_battery()\n",
    "my_tesla.battery.get_range()\n",
    "my_tesla.battery.upgrade_battery()\n",
    "my_tesla.battery.get_range()"
   ]
  },
  {
   "cell_type": "markdown",
   "metadata": {},
   "source": [
    "## Importing Classes"
   ]
  },
  {
   "cell_type": "code",
   "execution_count": 40,
   "metadata": {},
   "outputs": [
    {
     "name": "stdout",
     "output_type": "stream",
     "text": [
      "Overwriting car.py\n"
     ]
    }
   ],
   "source": [
    "%%writefile car.py\n",
    "\n",
    "\n",
    "\"\"\"A class that can be used to represent a car.\"\"\"\n",
    "class Car():\n",
    "    \"\"\"A simple attempt to represent a car.\"\"\"\n",
    "    \n",
    "    def __init__(self, make, model, year):\n",
    "        \"\"\"Initialize attributes to describe a car.\"\"\"\n",
    "        self.make = make\n",
    "        self.model = model\n",
    "        self.year = year\n",
    "        self.odometer_reading = 0\n",
    "        \n",
    "    def get_descriptive_name(self):\n",
    "        \"\"\"Return a neatly formatted descriptive name.\"\"\"\n",
    "        long_name = str(self.year) + ' ' + self.make + ' ' + self.model\n",
    "        return long_name.title()\n",
    "    \n",
    "    def read_odometer(self):\n",
    "        \"\"\"Print a statement showing the car's mileage.\"\"\"\n",
    "        print(\"This car has \" + str(self.odometer_reading) + \" miles on it.\")\n",
    "        \n",
    "    def update_odometer(self, mileage):\n",
    "        \"\"\"Set the odometer reading to the given value.\n",
    "        Reject the change if it attempts to roll the odometer back.\"\"\"\n",
    "        if mileage >= self.odometer_reading:\n",
    "            self.odometer_reading = mileage\n",
    "        else:\n",
    "            print(\"You can't roll back an odometer!\")\n",
    "            \n",
    "    def increment_odometer(self, miles):\n",
    "        \"\"\"Add the given amount to the odometer reading.\"\"\"\n",
    "        self.odometer_reading += miles"
   ]
  },
  {
   "cell_type": "code",
   "execution_count": 39,
   "metadata": {},
   "outputs": [
    {
     "name": "stdout",
     "output_type": "stream",
     "text": [
      "2016 Audi A4\n",
      "This car has 23 miles on it.\n"
     ]
    }
   ],
   "source": [
    "from car import Car\n",
    "\n",
    "my_new_car = Car('audi', 'a4', 2016)\n",
    "print(my_new_car.get_descriptive_name())\n",
    "\n",
    "my_new_car.odometer_reading = 23\n",
    "my_new_car.read_odometer()"
   ]
  },
  {
   "cell_type": "markdown",
   "metadata": {},
   "source": [
    "* **Importing a single class**\n",
    "* move the class into a module and import it - make the main program file clean\n",
    "* first we do a docstring for our class\n",
    "* then write the file\n",
    "* then use the *from* and *import* keywoard to import the module\n",
    "* after that, we make an instance of Car() with the arguments\n",
    "* we can use this class, we stored in our variable *my_new_car* with the dot convention"
   ]
  },
  {
   "cell_type": "code",
   "execution_count": 1,
   "metadata": {},
   "outputs": [
    {
     "name": "stdout",
     "output_type": "stream",
     "text": [
      "Overwriting car.py\n"
     ]
    }
   ],
   "source": [
    "%%writefile car.py\n",
    "\n",
    "\n",
    "\"\"\"A class that can be used to represent a car.\"\"\"\n",
    "class Car():\n",
    "    \"\"\"A simple attempt to represent a car.\"\"\"\n",
    "    \n",
    "    def __init__(self, make, model, year):\n",
    "        \"\"\"Initialize attributes to describe a car.\"\"\"\n",
    "        self.make = make\n",
    "        self.model = model\n",
    "        self.year = year\n",
    "        self.odometer_reading = 0\n",
    "        \n",
    "    def get_descriptive_name(self):\n",
    "        \"\"\"Return a neatly formatted descriptive name.\"\"\"\n",
    "        long_name = str(self.year) + ' ' + self.make + ' ' + self.model\n",
    "        return long_name.title()\n",
    "    \n",
    "    def read_odometer(self):\n",
    "        \"\"\"Print a statement showing the car's mileage.\"\"\"\n",
    "        print(\"This car has \" + str(self.odometer_reading) + \" miles on it.\")\n",
    "        \n",
    "    def update_odometer(self, mileage):\n",
    "        \"\"\"Set the odometer reading to the given value.\n",
    "        Reject the change if it attempts to roll the odometer back.\"\"\"\n",
    "        if mileage >= self.odometer_reading:\n",
    "            self.odometer_reading = mileage\n",
    "        else:\n",
    "            print(\"You can't roll back an odometer!\")\n",
    "            \n",
    "    def increment_odometer(self, miles):\n",
    "        \"\"\"Add the given amount to the odometer reading.\"\"\"\n",
    "        self.odometer_reading += miles\n",
    "\n",
    "class Battery():\n",
    "    \"\"\"A simple attempt to model a battery for an electric car.\"\"\"\n",
    "    \n",
    "    def __init__(self, battery_size=70):\n",
    "        \"\"\"Initialize the battery's attributes.\"\"\"\n",
    "        self.battery_size = battery_size\n",
    "        \n",
    "    def describe_battery(self):\n",
    "        \"\"\"Print a statement describinmg the battery size.\"\"\"\n",
    "        print(\"This car has a \" + str(self.battery_size) + \"-kWh battery.\")\n",
    "        \n",
    "    def get_range(self):\n",
    "        \"\"\"Print a statement about the range this battery provides.\"\"\"\n",
    "        if self.battery_size == 70:\n",
    "            range = 240\n",
    "        elif self.battery_size == 85:\n",
    "            range = 270\n",
    "        \n",
    "        message = \"This car can go approximately \" + str(range)\n",
    "        message += \" miles on a full charge.\"\n",
    "        print(message)\n",
    "\n",
    "\n",
    "class ElectricCar(Car):\n",
    "    \"\"\"Represents aspects of a car, specific to electric vehicles.\"\"\"\n",
    "    \n",
    "    def __init__(self, make, model, year):\n",
    "        \"\"\"Initialize attributes of the parent class.\n",
    "        Then initialize attributes specific to an electric car.\"\"\"\n",
    "        super().__init__(make, model, year)\n",
    "        self.battery = Battery()"
   ]
  },
  {
   "cell_type": "code",
   "execution_count": 3,
   "metadata": {
    "scrolled": true
   },
   "outputs": [
    {
     "name": "stdout",
     "output_type": "stream",
     "text": [
      "2016 Tesla Model S\n",
      "This car has a 70-kWh battery.\n",
      "This car can go approximately 240 miles on a full charge.\n"
     ]
    }
   ],
   "source": [
    "from car import ElectricCar\n",
    "\n",
    "my_tesla = ElectricCar('tesla', 'model s', 2016)\n",
    "\n",
    "print(my_tesla.get_descriptive_name())\n",
    "my_tesla.battery.describe_battery()\n",
    "my_tesla.battery.get_range()"
   ]
  },
  {
   "cell_type": "markdown",
   "metadata": {},
   "source": [
    "* **Storing multiple classes in a module**"
   ]
  },
  {
   "cell_type": "code",
   "execution_count": 4,
   "metadata": {},
   "outputs": [
    {
     "name": "stdout",
     "output_type": "stream",
     "text": [
      "2016 Volkswagen Beetle\n",
      "2016 Tesla Model S\n"
     ]
    }
   ],
   "source": [
    "from car import Car, ElectricCar\n",
    "\n",
    "my_beetle = Car('volkswagen', 'beetle', 2016)\n",
    "print(my_beetle.get_descriptive_name())\n",
    "\n",
    "my_tesla = ElectricCar('tesla', 'model s', 2016)\n",
    "print(my_tesla.get_descriptive_name())\n"
   ]
  },
  {
   "cell_type": "markdown",
   "metadata": {},
   "source": [
    "* **Importing multiple classes from a Module**"
   ]
  },
  {
   "cell_type": "code",
   "execution_count": 6,
   "metadata": {},
   "outputs": [
    {
     "name": "stdout",
     "output_type": "stream",
     "text": [
      "2016 Volkswagen Beetle\n",
      "2016 Tesla Model S\n"
     ]
    }
   ],
   "source": [
    "import car\n",
    "\n",
    "my_beetle = car.Car('volkswagen', 'beetle', 2016)\n",
    "print(my_beetle.get_descriptive_name())\n",
    "\n",
    "my_tesla = car.ElectricCar('tesla', 'model s', 2016)\n",
    "print(my_tesla.get_descriptive_name())\n"
   ]
  },
  {
   "cell_type": "markdown",
   "metadata": {},
   "source": [
    "* **Importing an Entire Module**\n",
    "* note that you have to use the *car.** convention"
   ]
  },
  {
   "cell_type": "markdown",
   "metadata": {},
   "source": [
    "#### Tasks"
   ]
  },
  {
   "cell_type": "markdown",
   "metadata": {},
   "source": [
    "* 9-10. Imported Restaurant: Using your latest Restaurant class, store it in a module. Make a separate file that imports Restaurant. Make a Restaurant instance, and call one of Restaurant’s methods to show that the import statement is working properly.\n",
    "* 9-11. Imported Admin: Start with your work from Exercise 9-8 (page 178). Store the classes User, Privileges, and Admin in one module. Create a sepa- rate file, make an Admin instance, and call show_privileges() to show that everything is working correctly.\n",
    "* 9-12. Multiple Modules: Store the User class in one module, and store the Privileges and Admin classes in a separate module. In a separate file, create an Admin instance and call show_privileges() to show that everything is still working correctly."
   ]
  },
  {
   "cell_type": "code",
   "execution_count": 118,
   "metadata": {},
   "outputs": [
    {
     "name": "stdout",
     "output_type": "stream",
     "text": [
      "Overwriting restaurant.py\n"
     ]
    }
   ],
   "source": [
    "%%writefile restaurant.py\n",
    "\n",
    "# 9-10\n",
    "\n",
    "class Restaurant():\n",
    "    \"\"\"A class describing a Restaurant.\"\"\"\n",
    "    \n",
    "    def __init__(self, restaurant_name, cuisine_type):\n",
    "        \"\"\"Initialize attributes to describe the restaurant.\"\"\"\n",
    "        self.restaurant_name = restaurant_name\n",
    "        self.cuisine_type = cuisine_type\n",
    "        self.number_served = 0\n",
    "        \n",
    "    def describe_restaurant(self):\n",
    "        \"\"\"Print a description of the restaurant.\"\"\"\n",
    "        print(\"The Restaurant \" + self.restaurant_name.title() + \" has \" + self.cuisine_type.title() + \" Cuisine!\")\n",
    "     \n",
    "    def open_restaurant(self):\n",
    "        \"\"\"Print that the restaurant is open.\"\"\"\n",
    "        print(\"The Restaurant \" + self.restaurant_name.title() + \" is open!\")\n",
    "        \n",
    "    def read_number_served(self):\n",
    "        \"\"\"Reads how many items are been served.\"\"\"\n",
    "        print(\"This restaurant has \" + str(self.number_served) + \" items served.\")\n",
    "        \n",
    "    def set_number_served(self, served):\n",
    "        \"\"\"Sets the number of served items. The initial Value is 0!\"\"\"\n",
    "        self.number_served = served\n",
    "        \n",
    "    def increment_number_served(self, update):\n",
    "        \"\"\"Updates the number of served items.\"\"\"\n",
    "        self.number_served += update     \n",
    "        \n",
    "class IceCreamStand(Restaurant):\n",
    "    \"\"\"A class describing an Ice Cream Stand, which is a child of a Restaurant.\"\"\"\n",
    "    \n",
    "    def __init__(self, restaurant_name, cuisine_type):\n",
    "        \"\"\"Initialize attributes of the parent class.\n",
    "        Then initialize attributes specific.\"\"\"\n",
    "        super().__init__(restaurant_name, cuisine_type)\n",
    "        self.flavors = ['vanillia', 'chocolate', 'banana']\n",
    "        \n",
    "    def display_flavors(self):\n",
    "        \"\"\"Print the flavors of the ice cream.\"\"\"\n",
    "        print(\"This restaurant serves \" + str(self.flavors) + \" Ice Cream!\")\n",
    "        \n",
    "my_ice_store = IceCreamStand('Luna Ice', 'Ice Cream')\n",
    "my_ice_store.display_flavors()"
   ]
  },
  {
   "cell_type": "code",
   "execution_count": 4,
   "metadata": {},
   "outputs": [
    {
     "name": "stdout",
     "output_type": "stream",
     "text": [
      "The Restaurant Pomm has Fries Cuisine!\n",
      "\n",
      "\n",
      "This restaurant serves ['vanillia', 'chocolate', 'banana'] Ice Cream!\n"
     ]
    }
   ],
   "source": [
    "from restaurant import Restaurant, IceCreamStand\n",
    "\n",
    "my_restaurant = Restaurant('Pomm', 'fries')\n",
    "my_restaurant.describe_restaurant()\n",
    "print(\"\\n\")\n",
    "my_ice = IceCreamStand('IceLand', 'ice')\n",
    "my_ice.display_flavors()"
   ]
  },
  {
   "cell_type": "code",
   "execution_count": 6,
   "metadata": {},
   "outputs": [
    {
     "name": "stdout",
     "output_type": "stream",
     "text": [
      "Overwriting admin.py\n"
     ]
    }
   ],
   "source": [
    "%%writefile admin.py\n",
    "# 9-11\n",
    "\n",
    "class User():\n",
    "    \"\"\"A class describing an user.\"\"\"\n",
    "    \n",
    "    def __init__(self, first_name, last_name, age, sex, membership):\n",
    "        self.first_name = first_name\n",
    "        self.last_name = last_name\n",
    "        self.age = age\n",
    "        self.sex = sex\n",
    "        self.membership = membership\n",
    "        self.login_attempts = 0\n",
    "    \n",
    "    def describe_user(self):\n",
    "        \"\"\"Prints the user information.\"\"\"\n",
    "        print(\"\\n\" + self.first_name.title() + \" \" + self.last_name.title())\n",
    "        print(\" Age: \" + str(self.age))\n",
    "        print(\" Sex: \" + self.sex)\n",
    "        print(\" Membership: \" + self.membership)\n",
    "        \n",
    "    def greet_user(self):\n",
    "        \"\"\"Greets the user personalized.\"\"\"\n",
    "        msg = \"\\nHello \" + self.first_name.title() + \" \" + self.last_name.title() +\"!\" + \"\\nHow are you?\"\n",
    "        print(msg)\n",
    "        \n",
    "    def read_login_attempts(self):\n",
    "        \"\"\"Shows the login attempts.\"\"\"\n",
    "        print(\"The User: \" + self.first_name.title() + \" has \" + str(self.login_attempts) + \" login attempts.\")\n",
    "    \n",
    "    def increment_login_attempts(self, update):\n",
    "        \"\"\"Increments the login attempts. The initial value is 0!\"\"\"\n",
    "        self.login_attempts += update\n",
    "        \n",
    "    def reset_login_attempts(self):\n",
    "        \"\"\"Resets the login attempts to 0 again.\"\"\"\n",
    "        self.login_attempts = 0\n",
    "        \n",
    "        \n",
    "class Admin(User):\n",
    "    \"\"\"A class describing the Admin, which is also a user!\"\"\"\n",
    "    \n",
    "    def __init__(self, first_name, last_name, age, sex, membership):\n",
    "        \"\"\"Initialize attributes of the parent class.\n",
    "        Then initialize attributes specific.\"\"\"\n",
    "        super().__init__(first_name, last_name, age, sex, membership)\n",
    "        \n",
    "        self.privileges = Privileges()\n",
    "            \n",
    "class Privileges():\n",
    "    \"\"\"A class for privileges.\"\"\"\n",
    "   \n",
    "    def __init__(self, privileges=[]):\n",
    "        self.privileges = privileges\n",
    "\n",
    "    \n",
    "    def show_privileges(self):\n",
    "        print(\"\\nPrivileges:\")\n",
    "        if self.privileges:\n",
    "            for privilege in self.privileges:\n",
    "                print(\"- \" + privilege)\n",
    "        else:\n",
    "            print(\"- No privileges.\")\n",
    "            \n",
    "ugur = Admin('ugur', 'tigu', 30, 'male', 'gold')\n",
    "ugur.describe_user()\n",
    "\n",
    "ugur.privileges.show_privileges()\n",
    "\n",
    "print(\"\\nAdding priviliges...\")\n",
    "ugur_privileges = [\n",
    "    'can add',\n",
    "    'can delete',\n",
    "    'can edit',\n",
    "]\n",
    "\n",
    "ugur.privileges.privileges = ugur_privileges\n",
    "ugur.privileges.show_privileges()"
   ]
  },
  {
   "cell_type": "code",
   "execution_count": 13,
   "metadata": {},
   "outputs": [
    {
     "name": "stdout",
     "output_type": "stream",
     "text": [
      "\n",
      "Ugur Tigu\n",
      " Age: 30\n",
      " Sex: male\n",
      " Membership: gold\n",
      "\n",
      "Privileges:\n",
      "- can add\n",
      "- can delete\n",
      "- can edit\n"
     ]
    }
   ],
   "source": [
    "from admin import Admin, Privileges\n",
    "\n",
    "my_admin = Admin('ugur', 'tigu', 30, 'male', 'gold')\n",
    "my_admin.describe_user()\n",
    "my_admin.privileges.privileges = [\n",
    "    'can add',\n",
    "    'can delete',\n",
    "    'can edit',\n",
    "]\n",
    "my_admin.privileges.show_privileges()"
   ]
  },
  {
   "cell_type": "code",
   "execution_count": 24,
   "metadata": {},
   "outputs": [
    {
     "name": "stdout",
     "output_type": "stream",
     "text": [
      "Writing user_single.py\n"
     ]
    }
   ],
   "source": [
    "%%writefile user_single.py\n",
    "\n",
    "# 9-12\n",
    "\n",
    "class User():\n",
    "    \"\"\"A class describing an user.\"\"\"\n",
    "    \n",
    "    def __init__(self, first_name, last_name, age, sex, membership):\n",
    "        self.first_name = first_name\n",
    "        self.last_name = last_name\n",
    "        self.age = age\n",
    "        self.sex = sex\n",
    "        self.membership = membership\n",
    "        self.login_attempts = 0\n",
    "    \n",
    "    def describe_user(self):\n",
    "        \"\"\"Prints the user information.\"\"\"\n",
    "        print(\"\\n\" + self.first_name.title() + \" \" + self.last_name.title())\n",
    "        print(\" Age: \" + str(self.age))\n",
    "        print(\" Sex: \" + self.sex)\n",
    "        print(\" Membership: \" + self.membership)\n",
    "        \n",
    "    def greet_user(self):\n",
    "        \"\"\"Greets the user personalized.\"\"\"\n",
    "        msg = \"\\nHello \" + self.first_name.title() + \" \" + self.last_name.title() +\"!\" + \"\\nHow are you?\"\n",
    "        print(msg)\n",
    "        \n",
    "    def read_login_attempts(self):\n",
    "        \"\"\"Shows the login attempts.\"\"\"\n",
    "        print(\"The User: \" + self.first_name.title() + \" has \" + str(self.login_attempts) + \" login attempts.\")\n",
    "    \n",
    "    def increment_login_attempts(self, update):\n",
    "        \"\"\"Increments the login attempts. The initial value is 0!\"\"\"\n",
    "        self.login_attempts += update\n",
    "        \n",
    "    def reset_login_attempts(self):\n",
    "        \"\"\"Resets the login attempts to 0 again.\"\"\"\n",
    "        self.login_attempts = 0"
   ]
  },
  {
   "cell_type": "code",
   "execution_count": 2,
   "metadata": {},
   "outputs": [
    {
     "name": "stdout",
     "output_type": "stream",
     "text": [
      "Overwriting admin_priviliges.py\n"
     ]
    }
   ],
   "source": [
    "%%writefile admin_priviliges.py\n",
    "\n",
    "from user import User\n",
    "\n",
    "class Admin(User):\n",
    "    \"\"\"A class describing the Admin, which is also a user!\"\"\"\n",
    "    \n",
    "    def __init__(self, first_name, last_name, age, sex, membership):\n",
    "        \"\"\"Initialize attributes of the parent class.\n",
    "        Then initialize attributes specific.\"\"\"\n",
    "        super().__init__(first_name, last_name, age, sex, membership)\n",
    "        self.privileges = Privileges()\n",
    "        \n",
    "class Privileges():\n",
    "    \"\"\"A class for privileges.\"\"\"\n",
    "   \n",
    "    def __init__(self, privileges=[]):\n",
    "        self.privileges = privileges\n",
    "\n",
    "    \n",
    "    def show_privileges(self):\n",
    "        print(\"\\nPrivileges:\")\n",
    "        if self.privileges:\n",
    "            for privilege in self.privileges:\n",
    "                print(\"- \" + privilege)\n",
    "        else:\n",
    "            print(\"- No privileges.\")"
   ]
  },
  {
   "cell_type": "code",
   "execution_count": 5,
   "metadata": {},
   "outputs": [
    {
     "name": "stdout",
     "output_type": "stream",
     "text": [
      "\n",
      "Ugur Tigu\n",
      " Age: 30\n",
      " Sex: male\n",
      " Membership: gold\n",
      "\n",
      "Admin Adolf\n",
      " Age: 40\n",
      " Sex: male\n",
      " Membership: admin\n",
      "\n",
      "Privileges:\n",
      "- can add\n",
      "- can delete\n",
      "- can edit\n"
     ]
    }
   ],
   "source": [
    "from user_single import User\n",
    "from admin_priviliges import Admin, Privileges\n",
    "\n",
    "\n",
    "my_user = User('ugur', 'tigu', 30, 'male', 'gold')\n",
    "my_user.describe_user()\n",
    "\n",
    "my_admin = Admin('admin', 'adolf', 40, 'male', 'admin')\n",
    "my_admin.describe_user()\n",
    "my_admin.privileges.privileges = [\n",
    "    'can add',\n",
    "    'can delete',\n",
    "    'can edit',\n",
    "]\n",
    "my_admin.privileges.show_privileges()"
   ]
  },
  {
   "cell_type": "markdown",
   "metadata": {},
   "source": [
    "## The Python Standad Library"
   ]
  },
  {
   "cell_type": "code",
   "execution_count": 15,
   "metadata": {},
   "outputs": [
    {
     "name": "stdout",
     "output_type": "stream",
     "text": [
      "Jen's favorite language is Python.\n",
      "Sarah's favorite language is C.\n",
      "Edward's favorite language is Ruby.\n",
      "Phil's favorite language is Python.\n",
      "\n",
      "\n",
      "OrderedDict([('jen', 'python'), ('sarah', 'c'), ('edward', 'ruby'), ('phil', 'python')])\n"
     ]
    }
   ],
   "source": [
    "from collections import OrderedDict\n",
    "\n",
    "favorite_languages = OrderedDict()\n",
    "\n",
    "favorite_languages['jen'] = 'python'\n",
    "favorite_languages['sarah'] = 'c'\n",
    "favorite_languages['edward'] = 'ruby'\n",
    "favorite_languages['phil'] = 'python'\n",
    "\n",
    "for name, language in favorite_languages.items():\n",
    "    print(name.title() + \"'s favorite language is \" + language.title() + \".\")\n",
    "    \n",
    "print(\"\\n\")\n",
    "print(favorite_languages)"
   ]
  },
  {
   "cell_type": "markdown",
   "metadata": {},
   "source": [
    "* we import the standard library OrderedDict from our collection of standard python modules\n",
    "* we create an instance of OrderedDict() class\n",
    "* we then add each value pair in our empty dictionary\n",
    "* we loop through our items\n",
    "* we will always get responses back in the order they where added\n",
    "* it combines the benefits of a list (retaining original order) with the main feature of dictionaries (connecting pieces of information)"
   ]
  },
  {
   "cell_type": "markdown",
   "metadata": {},
   "source": [
    "#### Tasks"
   ]
  },
  {
   "cell_type": "markdown",
   "metadata": {},
   "source": [
    "* 9-14. Dice: The module random contains functions that generate random numbers in a variety of ways. The function randint() returns an integer in the range you provide. The following code returns a number between 1 and 6:\n",
    "                  from random import randint\n",
    "                  x = randint(1, 6)\n",
    "  Make a class Die with one attribute called sides, which has a default value of 6. Write a method called roll_die() that prints a random number between 1 and the number of sides the die has. Make a 6-sided die and roll it 10 times. Make a 10-sided die and a 20-sided die. Roll each die 10 times.\n",
    "* 9-15. Python Module of the Week: One excellent resource for exploring the Python standard library is a site called Python Module of the Week. Go to http://pymotw.com/ and look at the table of contents. Find a module that looks interesting to you and read about it, or explore the documentation of the collections and random modules."
   ]
  },
  {
   "cell_type": "code",
   "execution_count": 35,
   "metadata": {},
   "outputs": [
    {
     "name": "stdout",
     "output_type": "stream",
     "text": [
      "10 rolls of a 6-sided die\n",
      "[3, 6, 1, 5, 5, 2, 5, 1, 6, 4]\n",
      "\n",
      "10 rolls of a 10-sided die\n",
      "[8, 10, 2, 5, 4, 9, 9, 3, 8, 9]\n",
      "\n",
      "10 rolls of a 20-sided die\n",
      "[4, 3, 10, 3, 5, 4, 8, 9, 9, 8]\n"
     ]
    }
   ],
   "source": [
    "# 9-14\n",
    "\n",
    "from random import randint\n",
    "\n",
    "class Die():\n",
    "    \"\"\"An attempt to roll a dice.\"\"\"\n",
    "    \n",
    "    def __init__(self,sides=6):\n",
    "        self.sides = sides\n",
    "        \n",
    "    def roll_die(self):\n",
    "        return randint(1, self.sides)\n",
    "\n",
    "# a 6-sided die, 10 rolls.\n",
    "die6 = Die()\n",
    "results = []\n",
    "for roll_num in range(10):\n",
    "    result = die6.roll_die()\n",
    "    results.append(result)\n",
    "print(\"10 rolls of a 6-sided die\")\n",
    "print(results)\n",
    "\n",
    "die10 = Die(sides=10)\n",
    "results = []\n",
    "for roll_num in range(10):\n",
    "    result = die10.roll_die()\n",
    "    results.append(result)\n",
    "print(\"\\n10 rolls of a 10-sided die\")\n",
    "print(results)\n",
    "\n",
    "die20 = Die(sides=10)\n",
    "results = []\n",
    "for roll_num in range(10):\n",
    "    result = die20.roll_die()\n",
    "    results.append(result)\n",
    "print(\"\\n10 rolls of a 20-sided die\")\n",
    "print(results)"
   ]
  },
  {
   "cell_type": "code",
   "execution_count": 36,
   "metadata": {},
   "outputs": [
    {
     "name": "stdout",
     "output_type": "stream",
     "text": [
      "Writing textwrap_example.py\n"
     ]
    }
   ],
   "source": [
    "%%writefile textwrap_example.py\n",
    "# 9-15\n",
    "\n",
    "\n",
    "sample_text = '''\n",
    "    The textwrap module can be used to format text for output in\n",
    "    situations where pretty-printing is desired.  It offers\n",
    "    programmatic functionality similar to the paragraph wrapping\n",
    "    or filling features found in many text editors.\n",
    "    '''\n",
    "\n"
   ]
  },
  {
   "cell_type": "code",
   "execution_count": 37,
   "metadata": {},
   "outputs": [
    {
     "name": "stdout",
     "output_type": "stream",
     "text": [
      "     The textwrap module can be used to format\n",
      "text for output in     situations where pretty-\n",
      "printing is desired.  It offers     programmatic\n",
      "functionality similar to the paragraph wrapping\n",
      "or filling features found in many text editors.\n"
     ]
    }
   ],
   "source": [
    "import textwrap\n",
    "from textwrap_example import sample_text\n",
    "\n",
    "print(textwrap.fill(sample_text, width=50))"
   ]
  },
  {
   "cell_type": "code",
   "execution_count": 38,
   "metadata": {},
   "outputs": [
    {
     "name": "stdout",
     "output_type": "stream",
     "text": [
      "Dedented: \n",
      "\n",
      "The textwrap module can be used to format text for output in\n",
      "situations where pretty-printing is desired.  It offers\n",
      "programmatic functionality similar to the paragraph wrapping\n",
      "or filling features found in many text editors.\n",
      "\n"
     ]
    }
   ],
   "source": [
    "dedented_text = textwrap.dedent(sample_text)\n",
    "print('Dedented: ')\n",
    "print(dedented_text)"
   ]
  },
  {
   "cell_type": "code",
   "execution_count": 40,
   "metadata": {},
   "outputs": [
    {
     "name": "stdout",
     "output_type": "stream",
     "text": [
      "45 Columns:\n",
      "\n",
      "The textwrap module can be used to format\n",
      "text for output in situations where pretty-\n",
      "printing is desired.  It offers programmatic\n",
      "functionality similar to the paragraph\n",
      "wrapping or filling features found in many\n",
      "text editors.\n",
      "\n",
      "60 Columns:\n",
      "\n",
      "The textwrap module can be used to format text for output in\n",
      "situations where pretty-printing is desired.  It offers\n",
      "programmatic functionality similar to the paragraph wrapping\n",
      "or filling features found in many text editors.\n",
      "\n"
     ]
    }
   ],
   "source": [
    "dedented_text = textwrap.dedent(sample_text).strip()\n",
    "for width in [45, 60]:\n",
    "    print('{} Columns:\\n' .format(width))\n",
    "    print(textwrap.fill(dedented_text, width=width))\n",
    "    print()"
   ]
  }
 ],
 "metadata": {
  "kernelspec": {
   "display_name": "Python 3",
   "language": "python",
   "name": "python3"
  },
  "language_info": {
   "codemirror_mode": {
    "name": "ipython",
    "version": 3
   },
   "file_extension": ".py",
   "mimetype": "text/x-python",
   "name": "python",
   "nbconvert_exporter": "python",
   "pygments_lexer": "ipython3",
   "version": "3.7.3"
  }
 },
 "nbformat": 4,
 "nbformat_minor": 2
}
