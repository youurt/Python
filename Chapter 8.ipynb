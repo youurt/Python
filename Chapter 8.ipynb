{
 "cells": [
  {
   "cell_type": "markdown",
   "metadata": {},
   "source": [
    "# 8. Functions"
   ]
  },
  {
   "cell_type": "markdown",
   "metadata": {},
   "source": [
    "## Defining a Function"
   ]
  },
  {
   "cell_type": "code",
   "execution_count": 1,
   "metadata": {},
   "outputs": [
    {
     "name": "stdout",
     "output_type": "stream",
     "text": [
      "Hello!\n"
     ]
    }
   ],
   "source": [
    "def greet_user():\n",
    "    \"\"\"Display as simple greeting.\"\"\"\n",
    "    print(\"Hello!\")\n",
    "    \n",
    "greet_user()"
   ]
  },
  {
   "cell_type": "markdown",
   "metadata": {},
   "source": [
    "* the ***def keyword*** defines the function\n",
    "* the parantheses hold information about, what kind of information the function needs to do the job\n",
    "* in this case the name of the fuction is *greet_user()*\n",
    "* it needs no informations to do its job so the *parantheses* are empty\n",
    "* the parantheses are required, even if no information is needed\n",
    "* the definition ends in a colon\n",
    "* line 2 of the code is *docstring*, which describes what the function does\n",
    "* docstrings are enclosed in triple quotes!\n",
    "* this function has jsut one job \n",
    "    * print(\"Hello!\")\n",
    "* if you *call* the function it does its job\n",
    "* to call a function you write the name of the function followed by any necessary information in parantheses\n",
    "* here no more information is needed"
   ]
  },
  {
   "cell_type": "code",
   "execution_count": 1,
   "metadata": {},
   "outputs": [
    {
     "name": "stdout",
     "output_type": "stream",
     "text": [
      "Hello, Ugur!\n"
     ]
    }
   ],
   "source": [
    "def greet_user(username):\n",
    "    \"\"\"Display a simple greeting.\"\"\"\n",
    "    print(\"Hello, \" + username.title() +  \"!\")\n",
    "    \n",
    "greet_user('ugur')"
   ]
  },
  {
   "cell_type": "markdown",
   "metadata": {},
   "source": [
    "* **passing information to a function**\n",
    "* when def a function, you can enter in the parantheses def information\n",
    "* it lets the function accept this information when you call it\n",
    "* you can pass this information when you call it\n",
    "* this gives the function the information it needs when you call it to execute the print statement\n",
    "* you can give any kind of information when you call it and it will be prinbted in the print method"
   ]
  },
  {
   "cell_type": "markdown",
   "metadata": {},
   "source": [
    "* the defined information is called ***parameter*** (username)\n",
    "* the information which is passed from the user is called ***argument*** ('ugur')"
   ]
  },
  {
   "cell_type": "markdown",
   "metadata": {},
   "source": [
    "#### Tasks"
   ]
  },
  {
   "cell_type": "markdown",
   "metadata": {},
   "source": [
    "* 8-1. Message: Write a function called display_message() that prints one sentence telling everyone what you are learning about in this chapter. Call the function, and make sure the message displays correctly.\n",
    "* 8-2. Favorite Book: Write a function called favorite_book() that accepts one parameter, title. The function should print a message, such as One of my favorite books is Alice in Wonderland . Call the function, making sure to include a book title as an argument in the function call."
   ]
  },
  {
   "cell_type": "code",
   "execution_count": 50,
   "metadata": {},
   "outputs": [
    {
     "name": "stdout",
     "output_type": "stream",
     "text": [
      "I'm doing some Functions!\n"
     ]
    }
   ],
   "source": [
    "# 8-1\n",
    "def display_message(task):\n",
    "    \"\"\"Display simple message.\"\"\"\n",
    "    print(\"I'm doing some \" + task.title() + \"!\")\n",
    "    \n",
    "display_message('functions')\n",
    "    "
   ]
  },
  {
   "cell_type": "code",
   "execution_count": 51,
   "metadata": {},
   "outputs": [
    {
     "name": "stdout",
     "output_type": "stream",
     "text": [
      "My favorite book is The Holy Bible!\n"
     ]
    }
   ],
   "source": [
    "# 8-2\n",
    "def favorite_book(title):\n",
    "    \"\"\"This will print your favorite book.\"\"\"\n",
    "    print(\"My favorite book is \" + title.title() + \"!\")\n",
    "    \n",
    "favorite_book('the holy bible')"
   ]
  },
  {
   "cell_type": "markdown",
   "metadata": {},
   "source": [
    "## Passing arguments"
   ]
  },
  {
   "cell_type": "code",
   "execution_count": 2,
   "metadata": {},
   "outputs": [
    {
     "name": "stdout",
     "output_type": "stream",
     "text": [
      "\n",
      "I have a hamster.\n",
      "My hamster's name is Harry.\n"
     ]
    }
   ],
   "source": [
    "def describe_pet(animal_type, pet_name):\n",
    "    \"\"\"Display information about a pet.\"\"\"\n",
    "    print(\"\\nI have a \" + animal_type + \".\")\n",
    "    print(\"My \" + animal_type + \"'s name is \" + pet_name.title() + \".\")\n",
    "    \n",
    "describe_pet('hamster', 'harry')"
   ]
  },
  {
   "cell_type": "markdown",
   "metadata": {},
   "source": [
    "* **postitional arguments**\n",
    "* writing arguments in order of the parameters\n",
    "* you can see it from the definition\n"
   ]
  },
  {
   "cell_type": "code",
   "execution_count": 3,
   "metadata": {},
   "outputs": [
    {
     "name": "stdout",
     "output_type": "stream",
     "text": [
      "\n",
      "I have a hamster.\n",
      "My hamster's name is Harry.\n",
      "\n",
      "I have a dog.\n",
      "My dog's name is Whillie.\n"
     ]
    }
   ],
   "source": [
    "def describe_pet(animal_type, pet_name):\n",
    "    \"\"\"Display information about a pet.\"\"\"\n",
    "    print(\"\\nI have a \" + animal_type + \".\")\n",
    "    print(\"My \" + animal_type + \"'s name is \" + pet_name.title() + \".\")\n",
    "    \n",
    "describe_pet('hamster', 'harry')\n",
    "describe_pet('dog', 'whillie')"
   ]
  },
  {
   "cell_type": "markdown",
   "metadata": {},
   "source": [
    "* **multiple function calls**\n",
    "* you can call a function as many times as needed\n",
    "* this is a efficient way because once the code is written you just have to call it"
   ]
  },
  {
   "cell_type": "code",
   "execution_count": 4,
   "metadata": {},
   "outputs": [
    {
     "name": "stdout",
     "output_type": "stream",
     "text": [
      "\n",
      "I have a harry.\n",
      "My harry's name is Hamster.\n"
     ]
    }
   ],
   "source": [
    "def describe_pet(animal_type, pet_name):\n",
    "    \"\"\"Display information about a pet.\"\"\"\n",
    "    print(\"\\nI have a \" + animal_type + \".\")\n",
    "    print(\"My \" + animal_type + \"'s name is \" + pet_name.title() + \".\")\n",
    "    \n",
    "describe_pet('harry', 'hamster')"
   ]
  },
  {
   "cell_type": "markdown",
   "metadata": {},
   "source": [
    "* **order matters in posisitional arguements**"
   ]
  },
  {
   "cell_type": "code",
   "execution_count": 5,
   "metadata": {},
   "outputs": [
    {
     "name": "stdout",
     "output_type": "stream",
     "text": [
      "\n",
      "I have a hamster.\n",
      "My hamster's name is Harry.\n"
     ]
    }
   ],
   "source": [
    "def describe_pet(animal_type, pet_name):\n",
    "    \"\"\"Display information about a pet.\"\"\"\n",
    "    print(\"\\nI have a \" + animal_type + \".\")\n",
    "    print(\"My \" + animal_type + \"'s name is \" + pet_name.title() + \".\")\n",
    "    \n",
    "describe_pet(animal_type='hamster', pet_name='harry')"
   ]
  },
  {
   "cell_type": "markdown",
   "metadata": {},
   "source": [
    "* **keywoard arguments**\n",
    "* you give the arguments as a pair (parameter='argument') within, when calling the function\n",
    "* when calling the function we explicitly tell which parameter each argument should be matched with\n",
    "* the order of the keyword arguments doesn't matter"
   ]
  },
  {
   "cell_type": "code",
   "execution_count": 8,
   "metadata": {},
   "outputs": [
    {
     "name": "stdout",
     "output_type": "stream",
     "text": [
      "\n",
      "I have a dog.\n",
      "My dog's name is Willie.\n"
     ]
    }
   ],
   "source": [
    "def describe_pet(pet_name, animal_type='dog'):\n",
    "    \"\"\"Display information about a pet.\"\"\"\n",
    "    print(\"\\nI have a \" + animal_type + \".\")\n",
    "    print(\"My \" + animal_type + \"'s name is \" + pet_name.title() + \".\")\n",
    "\n",
    "describe_pet(pet_name='willie')"
   ]
  },
  {
   "cell_type": "markdown",
   "metadata": {},
   "source": [
    "* **default values**\n",
    "* define a value for each parameter, this will be used, when no other argument is given\n",
    "* the order of the parameters in the def of the function has to be changed!!!\n",
    "* the default parameters has to be at the end"
   ]
  },
  {
   "cell_type": "code",
   "execution_count": 11,
   "metadata": {},
   "outputs": [
    {
     "name": "stdout",
     "output_type": "stream",
     "text": [
      "\n",
      "I have a dog.\n",
      "My dog's name is Willie.\n",
      "\n",
      "I have a dog.\n",
      "My dog's name is Willie.\n",
      "\n",
      "I have a hamster.\n",
      "My hamster's name is Harry.\n",
      "\n",
      "I have a hamster.\n",
      "My hamster's name is Harry.\n",
      "\n",
      "I have a hamster.\n",
      "My hamster's name is Harry.\n"
     ]
    }
   ],
   "source": [
    "def describe_pet(pet_name, animal_type='dog'):\n",
    "    \"\"\"Display information about a pet.\"\"\"\n",
    "    print(\"\\nI have a \" + animal_type + \".\")\n",
    "    print(\"My \" + animal_type + \"'s name is \" + pet_name.title() + \".\")\n",
    "    \n",
    "# A dog named Willie.\n",
    "describe_pet('willie')\n",
    "describe_pet(pet_name='willie')\n",
    "\n",
    "# A hasmter named Harry.\n",
    "describe_pet('harry', 'hamster')\n",
    "describe_pet(pet_name='harry', animal_type='hamster')\n",
    "describe_pet(animal_type='hamster', pet_name='harry')\n"
   ]
  },
  {
   "cell_type": "markdown",
   "metadata": {},
   "source": [
    "* **equivalent function calls**\n",
    "* each of this function calls would have the same output"
   ]
  },
  {
   "cell_type": "code",
   "execution_count": 12,
   "metadata": {},
   "outputs": [
    {
     "ename": "TypeError",
     "evalue": "describe_pet() missing 1 required positional argument: 'pet_name'",
     "output_type": "error",
     "traceback": [
      "\u001b[0;31m---------------------------------------------------------------------------\u001b[0m",
      "\u001b[0;31mTypeError\u001b[0m                                 Traceback (most recent call last)",
      "\u001b[0;32m<ipython-input-12-1b69b9cb9a9b>\u001b[0m in \u001b[0;36m<module>\u001b[0;34m\u001b[0m\n\u001b[1;32m      4\u001b[0m     \u001b[0mprint\u001b[0m\u001b[0;34m(\u001b[0m\u001b[0;34m\"My \"\u001b[0m \u001b[0;34m+\u001b[0m \u001b[0manimal_type\u001b[0m \u001b[0;34m+\u001b[0m \u001b[0;34m\"'s name is \"\u001b[0m \u001b[0;34m+\u001b[0m \u001b[0mpet_name\u001b[0m\u001b[0;34m.\u001b[0m\u001b[0mtitle\u001b[0m\u001b[0;34m(\u001b[0m\u001b[0;34m)\u001b[0m \u001b[0;34m+\u001b[0m \u001b[0;34m\".\"\u001b[0m\u001b[0;34m)\u001b[0m\u001b[0;34m\u001b[0m\u001b[0;34m\u001b[0m\u001b[0m\n\u001b[1;32m      5\u001b[0m \u001b[0;34m\u001b[0m\u001b[0m\n\u001b[0;32m----> 6\u001b[0;31m \u001b[0mdescribe_pet\u001b[0m\u001b[0;34m(\u001b[0m\u001b[0;34m)\u001b[0m\u001b[0;34m\u001b[0m\u001b[0;34m\u001b[0m\u001b[0m\n\u001b[0m",
      "\u001b[0;31mTypeError\u001b[0m: describe_pet() missing 1 required positional argument: 'pet_name'"
     ]
    }
   ],
   "source": [
    "def describe_pet(pet_name, animal_type='dog'):\n",
    "    \"\"\"Display information about a pet.\"\"\"\n",
    "    print(\"\\nI have a \" + animal_type + \".\")\n",
    "    print(\"My \" + animal_type + \"'s name is \" + pet_name.title() + \".\")\n",
    "    \n",
    "describe_pet()"
   ]
  },
  {
   "cell_type": "markdown",
   "metadata": {},
   "source": [
    "* **avoiding argument errors**\n",
    "* no argument, information is missing"
   ]
  },
  {
   "cell_type": "markdown",
   "metadata": {},
   "source": [
    "#### Tasks"
   ]
  },
  {
   "cell_type": "markdown",
   "metadata": {},
   "source": [
    "* 8-3. T-Shirt: Write a function called make_shirt() that accepts a size and the text of a message that should be printed on the shirt. The function should print a sentence summarizing the size of the shirt and the message printed on it. Call the function once using positional arguments to make a shirt. Call the function a second time using keyword arguments.\n",
    "* 8-4. Large Shirts: Modify the make_shirt() function so that shirts are large by default with a message that reads I love Python. Make a large shirt and a medium shirt with the default message, and a shirt of any size with a different message.\n",
    "* 8-5. Cities: Write a function called describe_city() that accepts the name of a city and its country. The function should print a simple sentence, such as Reykjavik is in Iceland. Give the parameter for the country a default value. Call your function for three different cities, at least one of which is not in the default country."
   ]
  },
  {
   "cell_type": "code",
   "execution_count": 55,
   "metadata": {},
   "outputs": [
    {
     "name": "stdout",
     "output_type": "stream",
     "text": [
      "The size of the t-shirt is l and the text should be looser!\n",
      "The size of the t-shirt is m and the text should be winner!\n"
     ]
    }
   ],
   "source": [
    "# 8-3\n",
    "def make_shirt(size='l', text='looser'):\n",
    "    \"\"\"This function will print the size and the text on the t-shirt.\"\"\"\n",
    "    print(\"The size of the t-shirt is \" + size + \" and the text should be \" + text + \"!\")\n",
    "    \n",
    "make_shirt()\n",
    "make_shirt('m', 'winner')"
   ]
  },
  {
   "cell_type": "code",
   "execution_count": 58,
   "metadata": {},
   "outputs": [
    {
     "name": "stdout",
     "output_type": "stream",
     "text": [
      "The size of the t-shirt is by default l and the text should be I Love Python!\n",
      "The size of the t-shirt is by default m and the text should be I Love Python!\n",
      "The size of the t-shirt is by default s and the text should be I Hate Python!\n"
     ]
    }
   ],
   "source": [
    "# 8-4\n",
    "def make_shirt(size='l', text='i love python'):\n",
    "    \"\"\"This function will print the size, which is default l and the text on the t-shirt.\"\"\"\n",
    "    print(\"The size of the t-shirt is by default \" + size + \" and the text should be \" + text.title() + \"!\")\n",
    "    \n",
    "make_shirt()\n",
    "make_shirt('m')\n",
    "make_shirt('s', 'i hate python')"
   ]
  },
  {
   "cell_type": "code",
   "execution_count": 61,
   "metadata": {},
   "outputs": [
    {
     "name": "stdout",
     "output_type": "stream",
     "text": [
      "The city of Stuttgart is in the country of Germany.\n",
      "The city of Berlin is in the country of Germany.\n",
      "The city of Amsterdam is in the country of Netherlands.\n"
     ]
    }
   ],
   "source": [
    "# 8-5\n",
    "def describe_city(city, country='germany'):\n",
    "    \"\"\"This function will print the city and the country!\"\"\"\n",
    "    print(\"The city of \" + city.title() + \" is in the country of \" + country.title() + \".\")\n",
    "    \n",
    "describe_city('stuttgart')\n",
    "describe_city('berlin')\n",
    "describe_city('amsterdam', 'netherlands')\n"
   ]
  },
  {
   "cell_type": "markdown",
   "metadata": {},
   "source": [
    "## Return Values"
   ]
  },
  {
   "cell_type": "code",
   "execution_count": 13,
   "metadata": {},
   "outputs": [
    {
     "name": "stdout",
     "output_type": "stream",
     "text": [
      "Jimmi Hendrix\n"
     ]
    }
   ],
   "source": [
    "def get_formatted_name(first_name, last_name):\n",
    "    \"\"\"Return a full name, neatly formatted.\"\"\"\n",
    "    full_name = first_name + ' ' + last_name\n",
    "    return full_name.title()\n",
    "\n",
    "musician = get_formatted_name('jimmi', 'hendrix')\n",
    "print(musician)"
   ]
  },
  {
   "cell_type": "markdown",
   "metadata": {},
   "source": [
    "* the function takes the two parameters / arguments and combines them inti a *full_name*\n",
    "* the formating is happening with the .title() method\n",
    "* this will be returned in the calling line\n",
    "* when you call a function you need a variable *musician* where the return value is stored"
   ]
  },
  {
   "cell_type": "code",
   "execution_count": 19,
   "metadata": {},
   "outputs": [
    {
     "name": "stdout",
     "output_type": "stream",
     "text": [
      "Jimi Hendrix\n",
      "John Lee Hooker\n"
     ]
    }
   ],
   "source": [
    "def get_formatted_name(first_name, last_name, middle_name=''):\n",
    "    \"\"\"Return a full name, neatly formatted.\"\"\"\n",
    "    if middle_name:\n",
    "        full_name = first_name + ' ' + middle_name + ' ' + last_name\n",
    "    else:\n",
    "        full_name = first_name + ' ' + last_name\n",
    "    return full_name.title()\n",
    "\n",
    "musician = get_formatted_name('jimi', 'hendrix')\n",
    "print(musician)\n",
    "\n",
    "musician = get_formatted_name('john', 'hooker', 'lee')\n",
    "print(musician)"
   ]
  },
  {
   "cell_type": "markdown",
   "metadata": {},
   "source": [
    "* **making an argument optional**\n",
    "* the middle_name is optional, so it gets a default value and it will be defined at the end\n",
    "* a non empty string is always True\n",
    "* so we check if the the string is true with a conditional test\n",
    "* the middle name has to be the last argument because it is also the last parameter"
   ]
  },
  {
   "cell_type": "code",
   "execution_count": 20,
   "metadata": {},
   "outputs": [
    {
     "name": "stdout",
     "output_type": "stream",
     "text": [
      "{'first': 'jimi', 'last': 'hendrix'}\n"
     ]
    }
   ],
   "source": [
    "def build_person(first_name, last_name):\n",
    "    \"\"\"Return a dictionary of information about a person.\"\"\"\n",
    "    person = {'first': first_name, 'last': last_name}\n",
    "    return person\n",
    "\n",
    "musician = build_person('jimi', 'hendrix')\n",
    "print(musician)"
   ]
  },
  {
   "cell_type": "markdown",
   "metadata": {},
   "source": [
    "* **return a dictionary**\n",
    "* a function can return any kind of information\n",
    "* this function takes simple textual information and puts it into a more meaningful data structure that lets you work with the information beyond just printing it\n",
    "* the strings *'jimi'* and *'hendrix'* are now labeled as a first name and last name\n",
    "* you can easily extend this function with other information like age, middle name"
   ]
  },
  {
   "cell_type": "code",
   "execution_count": 73,
   "metadata": {},
   "outputs": [
    {
     "name": "stdout",
     "output_type": "stream",
     "text": [
      "{'first': 'jimi', 'last': 'hendrix', 'age': 27}\n",
      "{'first': 'jimi', 'last': 'hendrix'}\n"
     ]
    }
   ],
   "source": [
    "def build_person(first_name, last_name, age=''):\n",
    "    \"\"\"Return a dictionary of information about a person.\"\"\"\n",
    "    person = {'first': first_name, 'last': last_name}\n",
    "    if age:\n",
    "        person['age'] = age\n",
    "    return person\n",
    "\n",
    "musician = build_person('jimi', 'hendrix', age=27)\n",
    "print(musician)\n",
    "\n",
    "musician = build_person('jimi', 'hendrix')\n",
    "print(musician)"
   ]
  },
  {
   "cell_type": "markdown",
   "metadata": {},
   "source": [
    "* we add a new optinal parameter *age* to the function definition and assign the parameter as empty \n",
    "* if the call of the function includes a value for this *age* parameter the value is stored in the dictionary"
   ]
  },
  {
   "cell_type": "code",
   "execution_count": 6,
   "metadata": {
    "scrolled": false
   },
   "outputs": [
    {
     "name": "stdout",
     "output_type": "stream",
     "text": [
      "\n",
      "Please tell me your name:\n"
     ]
    },
    {
     "ename": "KeyboardInterrupt",
     "evalue": "",
     "output_type": "error",
     "traceback": [
      "\u001b[0;31m---------------------------------------------------------------------------\u001b[0m",
      "\u001b[0;31mKeyboardInterrupt\u001b[0m                         Traceback (most recent call last)",
      "\u001b[0;32m/anaconda3/lib/python3.7/site-packages/ipykernel/kernelbase.py\u001b[0m in \u001b[0;36m_input_request\u001b[0;34m(self, prompt, ident, parent, password)\u001b[0m\n\u001b[1;32m    877\u001b[0m             \u001b[0;32mtry\u001b[0m\u001b[0;34m:\u001b[0m\u001b[0;34m\u001b[0m\u001b[0;34m\u001b[0m\u001b[0m\n\u001b[0;32m--> 878\u001b[0;31m                 \u001b[0mident\u001b[0m\u001b[0;34m,\u001b[0m \u001b[0mreply\u001b[0m \u001b[0;34m=\u001b[0m \u001b[0mself\u001b[0m\u001b[0;34m.\u001b[0m\u001b[0msession\u001b[0m\u001b[0;34m.\u001b[0m\u001b[0mrecv\u001b[0m\u001b[0;34m(\u001b[0m\u001b[0mself\u001b[0m\u001b[0;34m.\u001b[0m\u001b[0mstdin_socket\u001b[0m\u001b[0;34m,\u001b[0m \u001b[0;36m0\u001b[0m\u001b[0;34m)\u001b[0m\u001b[0;34m\u001b[0m\u001b[0;34m\u001b[0m\u001b[0m\n\u001b[0m\u001b[1;32m    879\u001b[0m             \u001b[0;32mexcept\u001b[0m \u001b[0mException\u001b[0m\u001b[0;34m:\u001b[0m\u001b[0;34m\u001b[0m\u001b[0;34m\u001b[0m\u001b[0m\n",
      "\u001b[0;32m/anaconda3/lib/python3.7/site-packages/jupyter_client/session.py\u001b[0m in \u001b[0;36mrecv\u001b[0;34m(self, socket, mode, content, copy)\u001b[0m\n\u001b[1;32m    802\u001b[0m         \u001b[0;32mtry\u001b[0m\u001b[0;34m:\u001b[0m\u001b[0;34m\u001b[0m\u001b[0;34m\u001b[0m\u001b[0m\n\u001b[0;32m--> 803\u001b[0;31m             \u001b[0mmsg_list\u001b[0m \u001b[0;34m=\u001b[0m \u001b[0msocket\u001b[0m\u001b[0;34m.\u001b[0m\u001b[0mrecv_multipart\u001b[0m\u001b[0;34m(\u001b[0m\u001b[0mmode\u001b[0m\u001b[0;34m,\u001b[0m \u001b[0mcopy\u001b[0m\u001b[0;34m=\u001b[0m\u001b[0mcopy\u001b[0m\u001b[0;34m)\u001b[0m\u001b[0;34m\u001b[0m\u001b[0;34m\u001b[0m\u001b[0m\n\u001b[0m\u001b[1;32m    804\u001b[0m         \u001b[0;32mexcept\u001b[0m \u001b[0mzmq\u001b[0m\u001b[0;34m.\u001b[0m\u001b[0mZMQError\u001b[0m \u001b[0;32mas\u001b[0m \u001b[0me\u001b[0m\u001b[0;34m:\u001b[0m\u001b[0;34m\u001b[0m\u001b[0;34m\u001b[0m\u001b[0m\n",
      "\u001b[0;32m/anaconda3/lib/python3.7/site-packages/zmq/sugar/socket.py\u001b[0m in \u001b[0;36mrecv_multipart\u001b[0;34m(self, flags, copy, track)\u001b[0m\n\u001b[1;32m    469\u001b[0m         \"\"\"\n\u001b[0;32m--> 470\u001b[0;31m         \u001b[0mparts\u001b[0m \u001b[0;34m=\u001b[0m \u001b[0;34m[\u001b[0m\u001b[0mself\u001b[0m\u001b[0;34m.\u001b[0m\u001b[0mrecv\u001b[0m\u001b[0;34m(\u001b[0m\u001b[0mflags\u001b[0m\u001b[0;34m,\u001b[0m \u001b[0mcopy\u001b[0m\u001b[0;34m=\u001b[0m\u001b[0mcopy\u001b[0m\u001b[0;34m,\u001b[0m \u001b[0mtrack\u001b[0m\u001b[0;34m=\u001b[0m\u001b[0mtrack\u001b[0m\u001b[0;34m)\u001b[0m\u001b[0;34m]\u001b[0m\u001b[0;34m\u001b[0m\u001b[0;34m\u001b[0m\u001b[0m\n\u001b[0m\u001b[1;32m    471\u001b[0m         \u001b[0;31m# have first part already, only loop while more to receive\u001b[0m\u001b[0;34m\u001b[0m\u001b[0;34m\u001b[0m\u001b[0;34m\u001b[0m\u001b[0m\n",
      "\u001b[0;32mzmq/backend/cython/socket.pyx\u001b[0m in \u001b[0;36mzmq.backend.cython.socket.Socket.recv\u001b[0;34m()\u001b[0m\n",
      "\u001b[0;32mzmq/backend/cython/socket.pyx\u001b[0m in \u001b[0;36mzmq.backend.cython.socket.Socket.recv\u001b[0;34m()\u001b[0m\n",
      "\u001b[0;32mzmq/backend/cython/socket.pyx\u001b[0m in \u001b[0;36mzmq.backend.cython.socket._recv_copy\u001b[0;34m()\u001b[0m\n",
      "\u001b[0;32m/anaconda3/lib/python3.7/site-packages/zmq/backend/cython/checkrc.pxd\u001b[0m in \u001b[0;36mzmq.backend.cython.checkrc._check_rc\u001b[0;34m()\u001b[0m\n",
      "\u001b[0;31mKeyboardInterrupt\u001b[0m: ",
      "\nDuring handling of the above exception, another exception occurred:\n",
      "\u001b[0;31mKeyboardInterrupt\u001b[0m                         Traceback (most recent call last)",
      "\u001b[0;32m<ipython-input-6-bb56ea58ad3c>\u001b[0m in \u001b[0;36m<module>\u001b[0;34m\u001b[0m\n\u001b[1;32m      7\u001b[0m \u001b[0;32mwhile\u001b[0m \u001b[0;32mTrue\u001b[0m\u001b[0;34m:\u001b[0m\u001b[0;34m\u001b[0m\u001b[0;34m\u001b[0m\u001b[0m\n\u001b[1;32m      8\u001b[0m     \u001b[0mprint\u001b[0m\u001b[0;34m(\u001b[0m\u001b[0;34m\"\\nPlease tell me your name:\"\u001b[0m\u001b[0;34m)\u001b[0m\u001b[0;34m\u001b[0m\u001b[0;34m\u001b[0m\u001b[0m\n\u001b[0;32m----> 9\u001b[0;31m     \u001b[0mf_name\u001b[0m \u001b[0;34m=\u001b[0m \u001b[0minput\u001b[0m\u001b[0;34m(\u001b[0m\u001b[0;34m\"First name: \"\u001b[0m\u001b[0;34m)\u001b[0m\u001b[0;34m\u001b[0m\u001b[0;34m\u001b[0m\u001b[0m\n\u001b[0m\u001b[1;32m     10\u001b[0m     \u001b[0ml_name\u001b[0m \u001b[0;34m=\u001b[0m \u001b[0minput\u001b[0m\u001b[0;34m(\u001b[0m\u001b[0;34m\"Last name: \"\u001b[0m\u001b[0;34m)\u001b[0m\u001b[0;34m\u001b[0m\u001b[0;34m\u001b[0m\u001b[0m\n\u001b[1;32m     11\u001b[0m \u001b[0;34m\u001b[0m\u001b[0m\n",
      "\u001b[0;32m/anaconda3/lib/python3.7/site-packages/ipykernel/kernelbase.py\u001b[0m in \u001b[0;36mraw_input\u001b[0;34m(self, prompt)\u001b[0m\n\u001b[1;32m    851\u001b[0m             \u001b[0mself\u001b[0m\u001b[0;34m.\u001b[0m\u001b[0m_parent_ident\u001b[0m\u001b[0;34m,\u001b[0m\u001b[0;34m\u001b[0m\u001b[0;34m\u001b[0m\u001b[0m\n\u001b[1;32m    852\u001b[0m             \u001b[0mself\u001b[0m\u001b[0;34m.\u001b[0m\u001b[0m_parent_header\u001b[0m\u001b[0;34m,\u001b[0m\u001b[0;34m\u001b[0m\u001b[0;34m\u001b[0m\u001b[0m\n\u001b[0;32m--> 853\u001b[0;31m             \u001b[0mpassword\u001b[0m\u001b[0;34m=\u001b[0m\u001b[0;32mFalse\u001b[0m\u001b[0;34m,\u001b[0m\u001b[0;34m\u001b[0m\u001b[0;34m\u001b[0m\u001b[0m\n\u001b[0m\u001b[1;32m    854\u001b[0m         )\n\u001b[1;32m    855\u001b[0m \u001b[0;34m\u001b[0m\u001b[0m\n",
      "\u001b[0;32m/anaconda3/lib/python3.7/site-packages/ipykernel/kernelbase.py\u001b[0m in \u001b[0;36m_input_request\u001b[0;34m(self, prompt, ident, parent, password)\u001b[0m\n\u001b[1;32m    881\u001b[0m             \u001b[0;32mexcept\u001b[0m \u001b[0mKeyboardInterrupt\u001b[0m\u001b[0;34m:\u001b[0m\u001b[0;34m\u001b[0m\u001b[0;34m\u001b[0m\u001b[0m\n\u001b[1;32m    882\u001b[0m                 \u001b[0;31m# re-raise KeyboardInterrupt, to truncate traceback\u001b[0m\u001b[0;34m\u001b[0m\u001b[0;34m\u001b[0m\u001b[0;34m\u001b[0m\u001b[0m\n\u001b[0;32m--> 883\u001b[0;31m                 \u001b[0;32mraise\u001b[0m \u001b[0mKeyboardInterrupt\u001b[0m\u001b[0;34m\u001b[0m\u001b[0;34m\u001b[0m\u001b[0m\n\u001b[0m\u001b[1;32m    884\u001b[0m             \u001b[0;32melse\u001b[0m\u001b[0;34m:\u001b[0m\u001b[0;34m\u001b[0m\u001b[0;34m\u001b[0m\u001b[0m\n\u001b[1;32m    885\u001b[0m                 \u001b[0;32mbreak\u001b[0m\u001b[0;34m\u001b[0m\u001b[0;34m\u001b[0m\u001b[0m\n",
      "\u001b[0;31mKeyboardInterrupt\u001b[0m: "
     ]
    }
   ],
   "source": [
    "def get_formatted_name(first_name, last_name):\n",
    "    \"\"\"Return a full name, neatly formatted.\"\"\"\n",
    "    full_name = first_name + ' ' + last_name\n",
    "    return full_name.title()\n",
    "\n",
    "# This is an infinite loop!\n",
    "while True:\n",
    "    print(\"\\nPlease tell me your name:\")\n",
    "    f_name = input(\"First name: \")\n",
    "    l_name = input(\"Last name: \")\n",
    "    \n",
    "    formatted_name = get_formatted_name(f_name, l_name)\n",
    "    print(\"\\Hello, \" + formatted_name + \"!\")\n",
    "    \n"
   ]
  },
  {
   "cell_type": "markdown",
   "metadata": {},
   "source": [
    "* here we didn't defined a quit condition\n",
    "* with a break statement we can do that\n",
    "* here we have a infitine loop which we want to avoid"
   ]
  },
  {
   "cell_type": "code",
   "execution_count": 7,
   "metadata": {},
   "outputs": [
    {
     "name": "stdout",
     "output_type": "stream",
     "text": [
      "\n",
      "Please tell me your name:\n",
      "(enter 'q' at any time to quit)\n",
      "First name: Ugur\n",
      "Last name: q\n"
     ]
    }
   ],
   "source": [
    "def get_formatted_name(first_name, last_name):\n",
    "    \"\"\"Return a full name, neatly formatted.\"\"\"\n",
    "    full_name = first_name + ' ' + last_name\n",
    "    return full_name.title()\n",
    "\n",
    "# This is an infinite loop!\n",
    "while True:\n",
    "    print(\"\\nPlease tell me your name:\")\n",
    "    print(\"(enter 'q' at any time to quit)\")\n",
    "    \n",
    "    f_name = input(\"First name: \")\n",
    "    if f_name == 'q':\n",
    "        break\n",
    "    \n",
    "    l_name = input(\"Last name: \")\n",
    "    if l_name == 'q':\n",
    "        break\n",
    "    \n",
    "    formatted_name = get_formatted_name(f_name, l_name)\n",
    "    print(\"\\Hello, \" + formatted_name + \"!\")\n",
    "    \n"
   ]
  },
  {
   "cell_type": "markdown",
   "metadata": {},
   "source": [
    "* the **break** statement offers a straightforward way to exit the loop\n",
    "* we add a message which informs the user how to quit"
   ]
  },
  {
   "cell_type": "markdown",
   "metadata": {},
   "source": [
    "#### Tasks"
   ]
  },
  {
   "cell_type": "markdown",
   "metadata": {},
   "source": [
    "* 8-6. City Names: Write a function called city_country() that takes in the name of a city and its country. The function should return a string formatted like this:\n",
    "     \"Santiago, Chile\"\n",
    "     Call your function with at least three city-country pairs, and print the value that’s returned.\n",
    "* 8-7. Album: Write a function called make_album() that builds a dictionary describing a music album. The function should take in an artist name and an album title, and it should return a dictionary containing these two pieces of information. Use the function to make three dictionaries representing different albums. Print each return value to show that the dictionaries are storing the album information correctly. Add an optional parameter to make_album() that allows you to store the number of tracks on an album. If the calling line includes a value for the number of tracks, add that value to the album’s dictionary. Make at least one new function call that includes the number of tracks on an album.\n",
    "* 8-8. User Albums: Start with your program from Exercise 8-7. Write a while loop that allows users to enter an album’s artist and title. Once you have that information, call make_album() with the user’s input and print the dictionary that’s created. Be sure to include a quit value in the while loop."
   ]
  },
  {
   "cell_type": "code",
   "execution_count": 64,
   "metadata": {},
   "outputs": [
    {
     "name": "stdout",
     "output_type": "stream",
     "text": [
      "Brussels, Belgium\n",
      "Berlin, Germany\n",
      "Istanbul, Turkey\n"
     ]
    }
   ],
   "source": [
    "# 8-6\n",
    "def city_country(city, country):\n",
    "    \"\"\"Returns city-country pairs.\"\"\"\n",
    "    pair_name = city + ', ' + country\n",
    "    return pair_name.title()\n",
    "\n",
    "formatted_pair = city_country\n",
    "\n",
    "pair = city_country('brussels', 'belgium')\n",
    "print(pair)\n",
    "\n",
    "pair = city_country('berlin', 'germany')\n",
    "print(pair)\n",
    "\n",
    "pair = city_country('istanbul', 'turkey')\n",
    "print(pair)"
   ]
  },
  {
   "cell_type": "code",
   "execution_count": 76,
   "metadata": {},
   "outputs": [
    {
     "name": "stdout",
     "output_type": "stream",
     "text": [
      "{'artist': 'savas', 'album title': 'beste tag meines lebens'}\n",
      "{'artist': 'azad', 'album title': 'leben', 'tracks': 7}\n",
      "{'artist': 'jeff mills', 'album title': 'best of'}\n"
     ]
    }
   ],
   "source": [
    "# 8-7\n",
    "def make_album(artist_name, album_title, tracks=''):\n",
    "    \"\"\"Return a dictionary of information about an album.\"\"\"\n",
    "    information = {'artist': artist_name, 'album title': album_title}\n",
    "    if tracks:\n",
    "        information['tracks'] = tracks\n",
    "    return information\n",
    "\n",
    "album = make_album('savas', 'beste tag meines lebens')\n",
    "print(album)\n",
    "\n",
    "album = make_album('azad', 'leben', 7)\n",
    "print(album)\n",
    "\n",
    "album = make_album('jeff mills', 'best of')\n",
    "print(album)"
   ]
  },
  {
   "cell_type": "code",
   "execution_count": 98,
   "metadata": {},
   "outputs": [
    {
     "name": "stdout",
     "output_type": "stream",
     "text": [
      "\n",
      "Please tell me the information:\n",
      "(enter 'q' at any time to quit)\n",
      "Artist name: azad\n",
      "Album title: leben\n",
      "{'artist': 'azad', 'album title': 'leben'}\n",
      "\n",
      "Please tell me the information:\n",
      "(enter 'q' at any time to quit)\n",
      "Artist name: q\n"
     ]
    }
   ],
   "source": [
    "# 8-8\n",
    "# This is an infinite loop!\n",
    "def make_album(artist_name, album_title, tracks=''):\n",
    "    \"\"\"Return a dictionary of information about an album.\"\"\"\n",
    "    information = {'artist': artist_name, 'album title': album_title}\n",
    "    if tracks:\n",
    "        information['tracks'] = tracks\n",
    "    return information\n",
    "\n",
    "while True:\n",
    "    print(\"\\nPlease tell me the information:\")\n",
    "    print(\"(enter 'q' at any time to quit)\")\n",
    "    \n",
    "    artist_name = input(\"Artist name: \")\n",
    "    if artist_name == 'q':\n",
    "        break\n",
    "    \n",
    "    album_title = input(\"Album title: \")\n",
    "    if album_title == 'q':\n",
    "        break\n",
    "    album = make_album(artist_name, album_title)\n",
    "    print(album)\n",
    "    \n"
   ]
  },
  {
   "cell_type": "markdown",
   "metadata": {},
   "source": [
    "## Passing a list"
   ]
  },
  {
   "cell_type": "code",
   "execution_count": 8,
   "metadata": {},
   "outputs": [
    {
     "name": "stdout",
     "output_type": "stream",
     "text": [
      "Hello, Hannah!\n",
      "Hello, Ty!\n",
      "Hello, Margot!\n"
     ]
    }
   ],
   "source": [
    "def greet_users(names):\n",
    "    \"\"\"Print a simple greeting to each user in the list.\"\"\"\n",
    "    for name in names:\n",
    "        msg = \"Hello, \" + name.title() + \"!\"\n",
    "        print(msg)\n",
    "        \n",
    "usernames = ['hannah', 'ty', 'margot']\n",
    "greet_users(usernames)"
   ]
  },
  {
   "cell_type": "markdown",
   "metadata": {},
   "source": [
    "* we pass a list to a function\n",
    "* the function gets direct access to the contents of the list\n",
    "* list of users will be eachwise printed with the greeting\n",
    "* we degine **greet_users()** so it expects a list of names which it stores in the parameter **names**\n",
    "* the function loops through the list of users and then pass the list usernames to **greet_users()**\n",
    "* we are passing the list to the function "
   ]
  },
  {
   "cell_type": "code",
   "execution_count": 9,
   "metadata": {},
   "outputs": [
    {
     "name": "stdout",
     "output_type": "stream",
     "text": [
      "Printing model: dodecahedron\n",
      "Printing model: robot pendant\n",
      "Printing model: iphone case\n",
      "\n",
      "The following models have been printed:\n",
      "dodecahedron\n",
      "robot pendant\n",
      "iphone case\n"
     ]
    }
   ],
   "source": [
    "# Start with some designs that need to be printed.\n",
    "unprinted_designs = ['iphone case', 'robot pendant', 'dodecahedron'] \n",
    "completed_models = []\n",
    "\n",
    "# Simulate printing each design, until none are left.\n",
    "# Move each design to completed_models after printing.\n",
    "while unprinted_designs:\n",
    "    current_design = unprinted_designs.pop()\n",
    "    \n",
    "    # Simulate printing each design, until none are left.\n",
    "    print(\"Printing model: \" + current_design)\n",
    "    completed_models.append(current_design)\n",
    "    \n",
    "# Display all completed models.\n",
    "print(\"\\nThe following models have been printed:\")\n",
    "for completed_model in completed_models:\n",
    "    print(completed_model)"
   ]
  },
  {
   "cell_type": "markdown",
   "metadata": {},
   "source": [
    "* **modifying a list in a function**\n",
    "* this program starts with a list of designs that need to be printed and an empty list **completed_models**\n",
    "* after each design is printed it will be moved to the empty list\n",
    "* with **pop()** and **append()** we move each design from the **unprinted_design** list to the **completed_models** list"
   ]
  },
  {
   "cell_type": "code",
   "execution_count": 10,
   "metadata": {},
   "outputs": [
    {
     "name": "stdout",
     "output_type": "stream",
     "text": [
      "Printing model: dodecahedron\n",
      "Printing model: robot pendant\n",
      "Printing model: iphone case\n",
      "\n",
      "The following models have been printed:\n",
      "dodecahedron\n",
      "robot pendant\n",
      "iphone case\n"
     ]
    }
   ],
   "source": [
    "def print_models(unprinted_designs, completed_models):\n",
    "    \"\"\"\n",
    "    Simulate printing each design, until none are left.\n",
    "    Move each design to completed_models after printing.\n",
    "    \"\"\"\n",
    "    while unprinted_designs:\n",
    "        current_design = unprinted_designs.pop()\n",
    "        \n",
    "        # Simulate creating a 3D print from the design.\n",
    "        print(\"Printing model: \" +  current_design)\n",
    "        completed_models.append(current_design)\n",
    "        \n",
    "def show_completed_models(completed_models):\n",
    "    \"\"\"Show all the models that were printed.\"\"\"\n",
    "    print(\"\\nThe following models have been printed:\")\n",
    "    for completed_model in completed_models:\n",
    "        print(completed_model)\n",
    "        \n",
    "\n",
    "        "
   ]
  },
  {
   "cell_type": "markdown",
   "metadata": {},
   "source": [
    "* we reorganize the code above with two functions\n",
    "* each of them has a specific job\n",
    "* the first function **print_models** works with two lists\n",
    "* it pop()s from the last item of the list and append()s it to the empty one\n",
    "* the second function though has just one parameter, the list of completed models\n",
    "* it prints each name from the completed models list\n",
    "* this program has the same output like the one above, but the code is **much more organized** because we have 2 seperate functions which makes the main part of the program **easier to understand**"
   ]
  },
  {
   "cell_type": "code",
   "execution_count": 11,
   "metadata": {},
   "outputs": [
    {
     "name": "stdout",
     "output_type": "stream",
     "text": [
      "Printing model: dodecahedron\n",
      "Printing model: robot pendant\n",
      "Printing model: iphone case\n",
      "\n",
      "The following models have been printed:\n",
      "dodecahedron\n",
      "robot pendant\n",
      "iphone case\n"
     ]
    }
   ],
   "source": [
    "unprinted_designs = ['iphone case', 'robot pendant', 'dodecahedron'] \n",
    "completed_models = []\n",
    "\n",
    "print_models(unprinted_designs, completed_models)\n",
    "show_completed_models(completed_models)"
   ]
  },
  {
   "cell_type": "markdown",
   "metadata": {},
   "source": [
    "* the main of the program is much easier to read\n",
    "* we just have two functions \n",
    "* the first one needs just two arguments (the two lists)\n",
    "* the second one need just one argument (the completed models list)\n",
    "* if we need to print the designs we just call the function again\n",
    "* if we want to modify the function we do it once \n",
    "* this technique is more efficient then having to update the code seperately in several places in the program\n",
    "* **every function should have one specific job**"
   ]
  },
  {
   "cell_type": "code",
   "execution_count": 17,
   "metadata": {},
   "outputs": [
    {
     "name": "stdout",
     "output_type": "stream",
     "text": [
      "Printing model: dodecahedron\n",
      "Printing model: robot pendant\n",
      "Printing model: iphone case\n",
      "\n",
      "The following models have been printed:\n",
      "dodecahedron\n",
      "robot pendant\n",
      "iphone case\n"
     ]
    }
   ],
   "source": [
    "unprinted_designs = ['iphone case', 'robot pendant', 'dodecahedron'] \n",
    "completed_models = []\n",
    "\n",
    "print_models(unprinted_designs[:], completed_models)\n",
    "show_completed_models(completed_models)"
   ]
  },
  {
   "cell_type": "markdown",
   "metadata": {},
   "source": [
    "* **preventing a Function from Modifying a List**\n",
    "* passing a function a copy of the list, to prevent the function modifying the original list\n",
    "* function_name(list_name[:])\n",
    "    * like this you can prevent\n",
    "    * the slice notation makes a copy of the list\n",
    "* the function print_models can work with the **copy of the list_name**"
   ]
  },
  {
   "cell_type": "code",
   "execution_count": 101,
   "metadata": {},
   "outputs": [
    {
     "name": "stdout",
     "output_type": "stream",
     "text": [
      "('pepperoni',)\n",
      "('mushrooms', 'green peppers', 'extra cheese')\n"
     ]
    }
   ],
   "source": [
    "def make_pizza(*toppings):\n",
    "    \"\"\"Print the list of toppings that have been requested.\"\"\"\n",
    "    print(toppings)\n",
    "    \n",
    "make_pizza('pepperoni')\n",
    "make_pizza('mushrooms', 'green peppers', 'extra cheese')"
   ]
  },
  {
   "cell_type": "markdown",
   "metadata": {},
   "source": [
    "* 8-9. Magicians: Make a list of magician’s names. Pass the list to a function called show_magicians(), which prints the name of each magician in the list.\n",
    "* 8-10. Great Magicians: Start with a copy of your program from Exercise 8-9. Write a function called make_great() that modifies the list of magicians by adding the phrase the Great to each magician’s name. Call show_magicians() to see that the list has actually been modified.\n",
    "* 8-11. Unchanged Magicians: Start with your work from Exercise 8-10. Call the function make_great() with a copy of the list of magicians’ names. Because the original list will be unchanged, return the new list and store it in a separate list. Call show_magicians() with each list to show that you have one list of the original names and one list with the Great added to each magician’s name."
   ]
  },
  {
   "cell_type": "code",
   "execution_count": 104,
   "metadata": {},
   "outputs": [
    {
     "name": "stdout",
     "output_type": "stream",
     "text": [
      "Hello, Abra!\n",
      "Hello, Kadabra!\n",
      "Hello, Simsala!\n",
      "Hello, Bim!\n"
     ]
    }
   ],
   "source": [
    "# 8-9\n",
    "\n",
    "def show_magicians(magician_names):\n",
    "    \"\"\"Print each magicians name in the list.\"\"\"\n",
    "    for name in magician_names:\n",
    "        msg = \"Hello, \" + name.title() + \"!\"\n",
    "        print(msg)\n",
    "\n",
    "magician_names = ['abra', 'kadabra', 'simsala', 'bim']\n",
    "show_magicians(magician_names)"
   ]
  },
  {
   "cell_type": "code",
   "execution_count": 34,
   "metadata": {},
   "outputs": [
    {
     "name": "stdout",
     "output_type": "stream",
     "text": [
      "Abra\n",
      "Kadabra\n",
      "Simsala\n",
      "Bim\n",
      "\n",
      "\n",
      "Bim the Great\n",
      "Simsala the Great\n",
      "Kadabra the Great\n",
      "Abra the Great\n"
     ]
    }
   ],
   "source": [
    "# 8-10\n",
    "\n",
    "def show_magicians(magicians):\n",
    "    \"\"\"Print the name of each magician in the list.\"\"\"\n",
    "    for magician in magicians:\n",
    "        print(magician)\n",
    "        \n",
    "def make_great(magicians):\n",
    "    \"\"\"Add 'the Great!' to each magician's name.\"\"\"\n",
    "    # Build a new list to holf the freat magicians.\n",
    "    great_magicians = []\n",
    "    \n",
    "    # Make each magician great, and add it to great_magicians.\n",
    "    while magicians:\n",
    "        magician = magicians.pop()\n",
    "        great_magician = magician + ' the Great'\n",
    "        great_magicians.append(great_magician)\n",
    "        \n",
    "    # Add the great magician back into magicians.\n",
    "    for great_magician in great_magicians:\n",
    "        magicians.append(great_magician)\n",
    "        \n",
    "magicians = ['Abra', 'Kadabra', 'Simsala', 'Bim']\n",
    "show_magicians(magicians)\n",
    "\n",
    "print(\"\\n\")\n",
    "make_great(magicians)\n",
    "show_magicians(magicians)"
   ]
  },
  {
   "cell_type": "code",
   "execution_count": 44,
   "metadata": {},
   "outputs": [
    {
     "name": "stdout",
     "output_type": "stream",
     "text": [
      "Abra\n",
      "Kadabra\n",
      "Simsala\n",
      "Bim\n",
      "\n",
      "Great magicians:\n",
      "Bim the Great\n",
      "Simsala the Great\n",
      "Kadabra the Great\n",
      "Abra the Great\n",
      "\n",
      "Original magicians:\n",
      "Abra\n",
      "Kadabra\n",
      "Simsala\n",
      "Bim\n"
     ]
    }
   ],
   "source": [
    "# 8-11\n",
    "\n",
    "def show_magicians(magicians):\n",
    "    \"\"\"Print the name of each magician in the list.\"\"\"\n",
    "    for magician in magicians:\n",
    "        print(magician)\n",
    "        \n",
    "def make_great(magicians):\n",
    "    \"\"\"Add 'the Great!' to each magician's name.\"\"\"\n",
    "    # Build a new list to hold the great magicians.\n",
    "    great_magicians = []\n",
    "    \n",
    "    # Make each magician great, and add it to great_magicians.\n",
    "    while magicians:\n",
    "        magician = magicians.pop()\n",
    "        great_magician = magician + ' the Great'\n",
    "        great_magicians.append(great_magician)\n",
    "        \n",
    "    # Add the great magician back into magicians.\n",
    "    for great_magician in great_magicians:\n",
    "        magicians.append(great_magician)\n",
    "    \n",
    "    return magicians\n",
    "        \n",
    "magicians = ['Abra', 'Kadabra', 'Simsala', 'Bim']\n",
    "show_magicians(magicians)\n",
    "\n",
    "print(\"\\nGreat magicians:\")\n",
    "great_magicians = make_great(magicians[:])\n",
    "show_magicians(great_magicians)\n",
    "\n",
    "\n",
    "print(\"\\nOriginal magicians:\")\n",
    "show_magicians(magicians)\n"
   ]
  },
  {
   "cell_type": "markdown",
   "metadata": {},
   "source": [
    "## Passing an arbitrary number of arguments"
   ]
  },
  {
   "cell_type": "markdown",
   "metadata": {},
   "source": [
    "* if you won't know how many arguments a function will need you can give the function an arbitrary number of arguments with the asterisk in the parameter\n",
    "* the arguments will be packed into a tuple\n",
    "* even if you have just one argument, it will be packed into a tuple"
   ]
  },
  {
   "cell_type": "code",
   "execution_count": 20,
   "metadata": {},
   "outputs": [
    {
     "name": "stdout",
     "output_type": "stream",
     "text": [
      "\n",
      "Making a pizza with the following toppings:\n",
      "- pepperoni\n",
      "\n",
      "Making a pizza with the following toppings:\n",
      "- mushrooms\n",
      "- green peppers\n",
      "- extra cheese\n"
     ]
    }
   ],
   "source": [
    "def make_pizza(*toppings):\n",
    "    \"\"\"Summarize the pizza we are about to make.\"\"\"\n",
    "    print(\"\\nMaking a pizza with the following toppings:\")\n",
    "    for topping in toppings: \n",
    "        print(\"- \" + topping)\n",
    "\n",
    "make_pizza('pepperoni')\n",
    "make_pizza('mushrooms', 'green peppers', 'extra cheese')"
   ]
  },
  {
   "cell_type": "markdown",
   "metadata": {},
   "source": [
    "* we replace the print statement with a loop that runs through the list of toppings and describe the pizza which is ordered\n",
    "* the function responds, whether it receives one value or three"
   ]
  },
  {
   "cell_type": "code",
   "execution_count": 21,
   "metadata": {},
   "outputs": [
    {
     "name": "stdout",
     "output_type": "stream",
     "text": [
      "\n",
      "Making a 16-inch pizza with the following toppings:\n",
      "- pepperoni\n",
      "\n",
      "Making a 12-inch pizza with the following toppings:\n",
      "- mushrooms\n",
      "- green peppers\n",
      "- extra cheese\n"
     ]
    }
   ],
   "source": [
    "def make_pizza(size, *toppings):\n",
    "    \"\"\"Summarize the pizza we are about to make.\"\"\"\n",
    "    print(\"\\nMaking a \" + str(size) + \n",
    "         \"-inch pizza with the following toppings:\")\n",
    "    for topping in toppings:\n",
    "        print(\"- \" + topping)\n",
    "        \n",
    "make_pizza(16, 'pepperoni')\n",
    "make_pizza(12, 'mushrooms', 'green peppers', 'extra cheese')"
   ]
  },
  {
   "cell_type": "markdown",
   "metadata": {},
   "source": [
    "* **mixing positional and arbitrary arguments**\n",
    "* positional arguments first, remaining arguments in the final parameter\n",
    "* in the definition of the function the first value is size\n",
    "* all values coming after stored in the tuple toppings\n",
    "* now each piece of information is printed in the proper place showing size first and topping after"
   ]
  },
  {
   "cell_type": "code",
   "execution_count": 23,
   "metadata": {},
   "outputs": [
    {
     "name": "stdout",
     "output_type": "stream",
     "text": [
      "{'first_name': 'albert', 'last_name': 'einstein', 'location': 'princeton', 'field': 'pysics'}\n"
     ]
    }
   ],
   "source": [
    "def build_profile(first, last, **user_info):\n",
    "    \"\"\"Build a dictionary containing everything we know \n",
    "    about a user.\"\"\"\n",
    "    profile = {}\n",
    "    profile['first_name'] = first\n",
    "    profile['last_name'] = last\n",
    "    for key, value in user_info.items():\n",
    "        profile[key] = value\n",
    "    return profile\n",
    "\n",
    "user_profile = build_profile('albert', 'einstein', \n",
    "                             location='princeton', \n",
    "                             field='pysics')\n",
    "print(user_profile)\n",
    "    "
   ]
  },
  {
   "cell_type": "markdown",
   "metadata": {},
   "source": [
    "* **using arbitrary keyword arguments**\n",
    "* if you won't know ahead of time what kind of information will be passed to the function\n",
    "* you know you'll get information about a user, but you are not sure what kind of information you'll receive\n",
    "* this function always takes a first and last name\n",
    "* but it accepts an arbitrary number of keyword arguments as well\n",
    "* the definition of the function expects a first an last name\n",
    "* **the double asterisks** before the parameter ****user_info** cause to create an empty dictionary calles user_info and pack whatever name-value pairs it receive into a dictionary\n",
    "* in the body of our function we make an empty dictionary called profile to hold the user's profile\n",
    "* we add the first and last names to the dictionary because we alleways receive those kind of information\n",
    "* we loop through the key value pairs in the dictionary **user_info** and add each pair to the profile dictionary\n",
    "* finally we return the profile dictionary to the function call line\n",
    "* we call build_profile, pass it the first name and last name and two key-value paors *location= 'princeton* and *field= 'physics'*\n",
    "* we store the returned profile in user_profile and print user_profile"
   ]
  },
  {
   "cell_type": "markdown",
   "metadata": {},
   "source": [
    "#### Tasks"
   ]
  },
  {
   "cell_type": "markdown",
   "metadata": {},
   "source": [
    "* 8-12. Sandwiches: Write a function that accepts a list of items a person wants on a sandwich. The function should have one parameter that collects as many items as the function call provides, and it should print a summary of the sandwich that is being ordered. Call the function three times, using a different number of arguments each time.\n",
    "* 8-13. User Profile: Start with a copy of user_profile.py from page 153. Build a profile of yourself by calling build_profile(), using your first and last names and three other key-value pairs that describe you.\n",
    "* 8-14. Cars: Write a function that stores information about a car in a dictionary . The function should always receive a manufacturer and a model name. It should then accept an arbitrary number of keyword arguments. Call the function with the required information and two other name-value pairs, such as a color or an optional feature. Your function should work for a call like this one:\n",
    "                  car = make_car('subaru', 'outback', color='blue', tow_package=True)\n",
    "    Print the dictionary that’s returned to make sure all the information was stored correctly."
   ]
  },
  {
   "cell_type": "code",
   "execution_count": 48,
   "metadata": {},
   "outputs": [
    {
     "name": "stdout",
     "output_type": "stream",
     "text": [
      "\n",
      "Making a sandwich with the following items:\n",
      "- salat\n",
      "\n",
      "Making a sandwich with the following items:\n",
      "- cheese\n",
      "- green peppers\n",
      "- eggs\n",
      "\n",
      "Making a sandwich with the following items:\n",
      "- fish\n"
     ]
    }
   ],
   "source": [
    "# 8-12\n",
    "def make_sandwich(*items):\n",
    "    \"\"\"Summarize the sandwich we are about to make.\"\"\"\n",
    "    print(\"\\nMaking a sandwich with the following items:\")\n",
    "    for item in items: \n",
    "        print(\"- \" + item)\n",
    "\n",
    "make_sandwich('salat')\n",
    "make_sandwich('cheese', 'green peppers', 'eggs')\n",
    "make_sandwich('fish')"
   ]
  },
  {
   "cell_type": "code",
   "execution_count": 52,
   "metadata": {},
   "outputs": [
    {
     "name": "stdout",
     "output_type": "stream",
     "text": [
      "{'first_name': 'ugur', 'last_name': 'tigu', 'location': 'aachen', 'field': 'data science', 'job': 'jobless', 'sex': 'male'}\n"
     ]
    }
   ],
   "source": [
    "# 8-13\n",
    "def build_profile(first, last, **user_info):\n",
    "    \"\"\"Build a dictionary containing everything we know \n",
    "    about a user.\"\"\"\n",
    "    profile = {}\n",
    "    profile['first_name'] = first\n",
    "    profile['last_name'] = last\n",
    "    for key, value in user_info.items():\n",
    "        profile[key] = value\n",
    "    return profile\n",
    "\n",
    "user_profile = build_profile('ugur', 'tigu', \n",
    "                             location='aachen', \n",
    "                             field='data science',\n",
    "                            job='jobless',\n",
    "                            sex='male')\n",
    "print(user_profile)\n",
    "    "
   ]
  },
  {
   "cell_type": "markdown",
   "metadata": {},
   "source": [
    "* 8-14. Cars: Write a function that stores information about a car in a dictionary . The function should always receive a manufacturer and a model name. It should then accept an arbitrary number of keyword arguments. Call the function with the required information and two other name-value pairs, such as a color or an optional feature. Your function should work for a call like this one:\n",
    "                  car = make_car('subaru', 'outback', color='blue', tow_package=True)\n",
    "    Print the dictionary that’s returned to make sure all the information was stored correctly."
   ]
  },
  {
   "cell_type": "code",
   "execution_count": 53,
   "metadata": {},
   "outputs": [
    {
     "name": "stdout",
     "output_type": "stream",
     "text": [
      "{'manufacturer': 'audi', 'model name': 'a4', 'model_type': 'sport', 'production': 'germany'}\n"
     ]
    }
   ],
   "source": [
    "def make_car(manufacturer, model_name, **car_info):\n",
    "    \"\"\"Build a dictionary containing everything we know about a car.\"\"\"\n",
    "    car = {}\n",
    "    car['manufacturer'] = manufacturer\n",
    "    car['model name'] = model_name\n",
    "    for key, value in car_info.items():\n",
    "        car[key] = value\n",
    "    return car\n",
    "\n",
    "car_profile = make_car('audi', 'a4', model_type='sport', production='germany')\n",
    "\n",
    "print(car_profile)"
   ]
  },
  {
   "cell_type": "markdown",
   "metadata": {},
   "source": [
    "## Storing Your Functions in Modules"
   ]
  },
  {
   "cell_type": "code",
   "execution_count": 36,
   "metadata": {},
   "outputs": [
    {
     "name": "stdout",
     "output_type": "stream",
     "text": [
      "Overwriting pizza.py\n"
     ]
    }
   ],
   "source": [
    "%%writefile pizza.py\n",
    "def make_pizza(size, *toppings):\n",
    "    \"\"\"Sumarize the pizza we are about to make.\"\"\"\n",
    "    print(\"\\nMaking a \" + str(size) + \n",
    "         \"-inch pizza with the following toppings:\")\n",
    "    for topping in toppings:\n",
    "        print(\"- \" + topping)"
   ]
  },
  {
   "cell_type": "code",
   "execution_count": 38,
   "metadata": {},
   "outputs": [
    {
     "name": "stdout",
     "output_type": "stream",
     "text": [
      "\n",
      "Making a 16-inch pizza with the following toppings:\n",
      "- pepperoni\n",
      "\n",
      "Making a 12-inch pizza with the following toppings:\n",
      "- mushrooms\n",
      "- green peppers\n",
      "- extra cheese\n"
     ]
    }
   ],
   "source": [
    "import pizza\n",
    "pizza.make_pizza(16, 'pepperoni')\n",
    "pizza.make_pizza(12, 'mushrooms', 'green peppers', 'extra cheese')"
   ]
  },
  {
   "cell_type": "markdown",
   "metadata": {},
   "source": [
    "* **importing an entire module**\n",
    "* we first write a file with the name ***pizza.py***\n",
    "* this file is our function\n",
    "* now we can use it from anywhere just by importing it\n",
    "* the module is imported \n",
    "* the line import pizza tells, to open the file and copy all the functions from it into this program\n",
    "* you don't actually see the code copied\n",
    "* **to call the function from an imported module, enter the name of the module you imported followed by tha dot**\n",
    "* this produces the same output as the imported one\n",
    "    * like this: **module_name.function_name()**\n"
   ]
  },
  {
   "cell_type": "code",
   "execution_count": 41,
   "metadata": {},
   "outputs": [
    {
     "name": "stdout",
     "output_type": "stream",
     "text": [
      "\n",
      "Making a 16-inch pizza with the following toppings:\n",
      "- pepperoni\n",
      "\n",
      "Making a 12-inch pizza with the following toppings:\n",
      "- mushrooms\n",
      "- green peppers\n",
      "- extra cheese\n"
     ]
    }
   ],
   "source": [
    "from pizza import make_pizza\n",
    "\n",
    "make_pizza(16, 'pepperoni')\n",
    "make_pizza(12, 'mushrooms', 'green peppers', 'extra cheese')"
   ]
  },
  {
   "cell_type": "markdown",
   "metadata": {},
   "source": [
    "* **importing specific functions**\n",
    "* you can also import just a specific function from a module\n",
    "    * from module_name import function_0, function_1\n",
    "* you can import as many functions you like\n",
    "* with this syntax, you don't need to use the dot notation, because we declared the function once in the beginning"
   ]
  },
  {
   "cell_type": "code",
   "execution_count": 42,
   "metadata": {},
   "outputs": [
    {
     "name": "stdout",
     "output_type": "stream",
     "text": [
      "\n",
      "Making a 16-inch pizza with the following toppings:\n",
      "- pepperoni\n",
      "\n",
      "Making a 12-inch pizza with the following toppings:\n",
      "- mushrooms\n",
      "- green peppers\n",
      "- extra cheese\n"
     ]
    }
   ],
   "source": [
    "from pizza import make_pizza as mp\n",
    "\n",
    "mp(16, 'pepperoni')\n",
    "mp(12, 'mushrooms', 'green peppers', 'extra cheese')"
   ]
  },
  {
   "cell_type": "markdown",
   "metadata": {},
   "source": [
    "* **using 'as' to give a function an alias**\n",
    "* we change the function make_pizza as mp\n",
    "* this alias makes it simpler\n",
    "* the import renames make_pizza to mp and we can use it like mp()\n",
    "    * from module_name import function_name as fn\n",
    "    * this is the general syntax"
   ]
  },
  {
   "cell_type": "code",
   "execution_count": 43,
   "metadata": {},
   "outputs": [
    {
     "name": "stdout",
     "output_type": "stream",
     "text": [
      "\n",
      "Making a 16-inch pizza with the following toppings:\n",
      "- pepperoni\n",
      "\n",
      "Making a 12-inch pizza with the following toppings:\n",
      "- mushrooms\n",
      "- green peppers\n",
      "- extra cheese\n"
     ]
    }
   ],
   "source": [
    "import pizza as p\n",
    "\n",
    "p.make_pizza(16, 'pepperoni')\n",
    "p.make_pizza(12, 'mushrooms', 'green peppers', 'extra cheese')"
   ]
  },
  {
   "cell_type": "markdown",
   "metadata": {},
   "source": [
    "* **using 'as' to give a module an alias**\n",
    "* you can also do the same for a module\n",
    "    * import module_name as mn\n",
    "    * this is the general syntax"
   ]
  },
  {
   "cell_type": "code",
   "execution_count": 44,
   "metadata": {},
   "outputs": [
    {
     "name": "stdout",
     "output_type": "stream",
     "text": [
      "\n",
      "Making a 16-inch pizza with the following toppings:\n",
      "- pepperoni\n",
      "\n",
      "Making a 12-inch pizza with the following toppings:\n",
      "- mushrooms\n",
      "- green peppers\n",
      "- extra cheese\n"
     ]
    }
   ],
   "source": [
    "from pizza import *\n",
    "\n",
    "make_pizza(16, 'pepperoni')\n",
    "make_pizza(12, 'mushrooms', 'green peppers', 'extra cheese')"
   ]
  },
  {
   "cell_type": "markdown",
   "metadata": {},
   "source": [
    "* **importing all functions in a module**\n",
    "* just use the astersk in the import statement\n",
    "* because every function is imported you can  call each function by name, without to use the dot\n",
    "* **however the best approach is to import the function(s) you want or import the entire module and use the dot**\n",
    "    * from module_name import *\n",
    "    * this is the general syntax"
   ]
  },
  {
   "cell_type": "markdown",
   "metadata": {},
   "source": [
    "## Styling Functions"
   ]
  },
  {
   "cell_type": "markdown",
   "metadata": {},
   "source": [
    "* functions should've descriptive names\n",
    "* this names should use lowercase letters and underscores\n",
    "* use comments what the function does\n",
    "* def function_name(parameter_0, parameter_1='default value')\n",
    "    * if you use default values no whitespace after and before the equal sign"
   ]
  },
  {
   "cell_type": "markdown",
   "metadata": {},
   "source": [
    "#### Tasks"
   ]
  },
  {
   "cell_type": "markdown",
   "metadata": {},
   "source": [
    "* 8-15. Printing Models: Put the functions for the example print_models.py in a separate file called printing_functions.py. Write an import statement at the top of print_models.py, and modify the file to use the imported functions.\n",
    "* 8-16. Imports: Using a program you wrote that has one function in it, store that function in a separate file . Import the function into your main program file, and call the function using each of these approaches: \n",
    "    import module_name\n",
    "    from module_name import function_name\n",
    "    from module_name import function_name as fn import module_name as mn\n",
    "    from module_name import *\n",
    "* 8-17. Styling Functions: Choose any three programs you wrote for this chapter, and make sure they follow the styling guidelines described in this section."
   ]
  },
  {
   "cell_type": "code",
   "execution_count": 62,
   "metadata": {},
   "outputs": [
    {
     "name": "stdout",
     "output_type": "stream",
     "text": [
      "Overwriting printing_functions.py\n"
     ]
    }
   ],
   "source": [
    "%%writefile printing_functions.py\n",
    "\n",
    "# 8-15\n",
    "\n",
    "def print_models(unprinted_designs, completed_models):\n",
    "    \"\"\"\n",
    "    Simulate printing each design, until none are left.\n",
    "    Move each design to completed_models after printing.\n",
    "    \"\"\"\n",
    "    while unprinted_designs:\n",
    "        current_design = unprinted_designs.pop()\n",
    "        \n",
    "        # Simulate creating a 3D print from the design.\n",
    "        print(\"Printing model: \" +  current_design)\n",
    "        completed_models.append(current_design)\n",
    "        \n",
    "def show_completed_models(completed_models):\n",
    "    \"\"\"Show all the models that were printed.\"\"\"\n",
    "    print(\"\\nThe following models have been printed:\")\n",
    "    for completed_model in completed_models:\n",
    "        print(completed_model)\n",
    "\n",
    "\n"
   ]
  },
  {
   "cell_type": "code",
   "execution_count": 65,
   "metadata": {},
   "outputs": [
    {
     "name": "stdout",
     "output_type": "stream",
     "text": [
      "Overwriting sandwich.py\n"
     ]
    }
   ],
   "source": [
    "%%writefile sandwich.py\n",
    "# 8-16\n",
    "\n",
    "def make_sandwich(*items):\n",
    "    \"\"\"Summarize the sandwich we are about to make.\"\"\"\n",
    "    print(\"\\nMaking a sandwich with the following items:\")\n",
    "    for item in items: \n",
    "        print(\"- \" + item)"
   ]
  },
  {
   "cell_type": "code",
   "execution_count": 68,
   "metadata": {},
   "outputs": [
    {
     "name": "stdout",
     "output_type": "stream",
     "text": [
      "\n",
      "Making a sandwich with the following items:\n",
      "- eggs\n",
      "- fish\n"
     ]
    }
   ],
   "source": [
    "import sandwich\n",
    "sandwich.make_sandwich('eggs', 'fish')"
   ]
  },
  {
   "cell_type": "code",
   "execution_count": 69,
   "metadata": {},
   "outputs": [
    {
     "name": "stdout",
     "output_type": "stream",
     "text": [
      "\n",
      "Making a sandwich with the following items:\n",
      "- eggs\n",
      "- fish\n"
     ]
    }
   ],
   "source": [
    "from sandwich import make_sandwich\n",
    "make_sandwich('eggs', 'fish')"
   ]
  },
  {
   "cell_type": "code",
   "execution_count": 70,
   "metadata": {},
   "outputs": [
    {
     "name": "stdout",
     "output_type": "stream",
     "text": [
      "\n",
      "Making a sandwich with the following items:\n",
      "- eggs\n",
      "- fish\n"
     ]
    }
   ],
   "source": [
    "import sandwich as s\n",
    "s.make_sandwich('eggs', 'fish')"
   ]
  }
 ],
 "metadata": {
  "kernelspec": {
   "display_name": "Python 3",
   "language": "python",
   "name": "python3"
  },
  "language_info": {
   "codemirror_mode": {
    "name": "ipython",
    "version": 3
   },
   "file_extension": ".py",
   "mimetype": "text/x-python",
   "name": "python",
   "nbconvert_exporter": "python",
   "pygments_lexer": "ipython3",
   "version": "3.7.3"
  }
 },
 "nbformat": 4,
 "nbformat_minor": 2
}
