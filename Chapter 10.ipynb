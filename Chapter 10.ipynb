{
 "cells": [
  {
   "cell_type": "markdown",
   "metadata": {},
   "source": [
    "# 10. Files and Exceptions"
   ]
  },
  {
   "cell_type": "markdown",
   "metadata": {},
   "source": [
    "## Reading from a File"
   ]
  },
  {
   "cell_type": "code",
   "execution_count": 4,
   "metadata": {},
   "outputs": [
    {
     "name": "stdout",
     "output_type": "stream",
     "text": [
      "3.\n",
      "1415926535\n",
      "8979323846\n",
      "2643383279\n"
     ]
    }
   ],
   "source": [
    "with open('pi_digits.txt') as file_object:\n",
    "        contents = file_object.read()\n",
    "        print(contents.rstrip())"
   ]
  },
  {
   "cell_type": "markdown",
   "metadata": {},
   "source": [
    "* **Reading an Entire File**\n",
    "* the first line has an *open()* function\n",
    "* to do something with a file first you have to open it with this function\n",
    "* the open function needs one argument\n",
    "    * the name of the file you want to open\n",
    "* we get a return of this object\n",
    "* we store this object in *file_object*\n",
    "* the keyword *with* closes the file once acces to it is no longer needed\n",
    "* you could simply open and close the file with *open()* and *close()* but this would give some errors (the file may never close)\n",
    "* once we have a file object representing the text file we can use *read()*\n",
    "    * this method reads the entire txt file and stores that in contents\n",
    "    * when we print *contents* we get the txt file "
   ]
  },
  {
   "cell_type": "code",
   "execution_count": 5,
   "metadata": {},
   "outputs": [
    {
     "name": "stdout",
     "output_type": "stream",
     "text": [
      "3.\n",
      "1415926535\n",
      "8979323846\n",
      "2643383279\n"
     ]
    }
   ],
   "source": [
    "with open('files/pi_digits.txt') as file_object:\n",
    "    contents = file_object.read()\n",
    "    print(contents.rstrip())"
   ]
  },
  {
   "cell_type": "markdown",
   "metadata": {},
   "source": [
    "* **File paths**\n",
    "* you can also reach the file from another place\n",
    "* also absolute paths also possible"
   ]
  },
  {
   "cell_type": "code",
   "execution_count": 7,
   "metadata": {},
   "outputs": [
    {
     "name": "stdout",
     "output_type": "stream",
     "text": [
      "3.\n",
      "1415926535\n",
      "8979323846\n",
      "2643383279\n"
     ]
    }
   ],
   "source": [
    "filename = 'pi_digits.txt'\n",
    "\n",
    "with open(filename) as file_object:\n",
    "    for line in file_object:\n",
    "        print(line.rstrip())"
   ]
  },
  {
   "cell_type": "markdown",
   "metadata": {},
   "source": [
    "* **Reading line by line**\n",
    "* first we store the name of the file we are reading from in a variable\n",
    "* **this is a commin convention when working with files**\n",
    "* this is just represents where the file is\n",
    "* after calling open we store that object in file_object\n",
    "* we print now each line with the for loop"
   ]
  },
  {
   "cell_type": "code",
   "execution_count": 8,
   "metadata": {},
   "outputs": [
    {
     "name": "stdout",
     "output_type": "stream",
     "text": [
      "3.\n",
      "1415926535\n",
      "8979323846\n",
      "2643383279\n"
     ]
    }
   ],
   "source": [
    "filename = 'pi_digits.txt'\n",
    "\n",
    "with open(filename) as file_object:\n",
    "    lines = file_object.readlines()\n",
    "    \n",
    "for line in lines:\n",
    "    print(line.rstrip())"
   ]
  },
  {
   "cell_type": "markdown",
   "metadata": {},
   "source": [
    "* **Making a List of Lines from a File**\n",
    "* the *readlines()* method takes ech line from the file and stores it in alist\n",
    "* we can work with that data later\n",
    "* for now we print each line of our new list lines"
   ]
  },
  {
   "cell_type": "code",
   "execution_count": 15,
   "metadata": {},
   "outputs": [
    {
     "name": "stdout",
     "output_type": "stream",
     "text": [
      "3.141592653589793238462643383279\n",
      "32\n"
     ]
    }
   ],
   "source": [
    "filename = 'pi_digits.txt'\n",
    "\n",
    "with open(filename) as file_object:\n",
    "    lines = file_object.readlines()\n",
    "    \n",
    "pi_string = ''\n",
    "for line in lines:\n",
    "    pi_string += line.strip()\n",
    "\n",
    "print(pi_string)\n",
    "print(len(pi_string))"
   ]
  },
  {
   "cell_type": "markdown",
   "metadata": {},
   "source": [
    "* **Working with t a File's Contents**\n",
    "* we create a variable pi_string to hold the pi_string\n",
    "* then we create a loop that adds each line of digits to pi_string and removes the newline character from each line\n",
    "* we print the string and also show how long the string is"
   ]
  },
  {
   "cell_type": "code",
   "execution_count": 92,
   "metadata": {
    "scrolled": true
   },
   "outputs": [
    {
     "name": "stdout",
     "output_type": "stream",
     "text": [
      "Enter your birthday, in the form mmddyy: 041089\n",
      "Your birthday appears in the first million digits of pi!\n"
     ]
    }
   ],
   "source": [
    "filename = 'files/million_digits.txt'\n",
    "\n",
    "with open(filename) as file_object:\n",
    "    lines = file_object.readlines()\n",
    "    \n",
    "pi_string = ''\n",
    "for line in lines:\n",
    "    pi_string += line.rstrip()\n",
    "    \n",
    "birthday = input(\"Enter your birthday, in the form mmddyy: \")\n",
    "if birthday in pi_string:\n",
    "    print(\"Your birthday appears in the first million digits of pi!\")\n",
    "else: \n",
    "    print(\"Your birthday does not appear in the first million digits of pi.\")"
   ]
  },
  {
   "cell_type": "markdown",
   "metadata": {},
   "source": [
    "#### Tasks"
   ]
  },
  {
   "cell_type": "markdown",
   "metadata": {},
   "source": [
    "* 10-1. Learning Python: Open a blank file in your text editor and write a few lines summarizing what you’ve learned about Python so far. Start each line with the phrase In Python you can.... Save the file as learning_python.txt in the same directory as your exercises from this chapter. Write a program that reads the file and prints what you wrote three times. Print the contents once by reading in the entire file, once by looping over the file object, and once by storing the lines in a list and then working with them outside the with block.\n",
    "* 10-2. Learning C: You can use the replace() method to replace any word in a string with a different word. Here’s a quick example showing how to replace 'dog' with 'cat' in a sentence: >>> message = \"I really like dogs.\" >>> message.replace('dog', 'cat') 'I really like cats.' Read in each line from the file you just created, learning_python.txt, and replace the word Python with the name of another language, such as C. Print each modified line to the screen."
   ]
  },
  {
   "cell_type": "code",
   "execution_count": 95,
   "metadata": {},
   "outputs": [
    {
     "name": "stdout",
     "output_type": "stream",
     "text": [
      "--- Reading in the entire file:\n",
      "In Python you can write files.\n",
      "In Python you can load files.\n",
      "In Python you can make tests.\n",
      "In Python you can make random numbers.\n",
      "\n",
      "--- Looping over the lines:\n",
      "In Python you can write files.\n",
      "In Python you can load files.\n",
      "In Python you can make tests.\n",
      "In Python you can make random numbers.\n",
      "\n",
      "--- Storing the lines in a list:\n",
      "In Python you can write files.\n",
      "In Python you can load files.\n",
      "In Python you can make tests.\n",
      "In Python you can make random numbers.\n"
     ]
    }
   ],
   "source": [
    "# 10-1\n",
    "filename = 'learning_python.txt'\n",
    "\n",
    "print(\"--- Reading in the entire file:\")\n",
    "with open(filename) as f:\n",
    "    contents = f.read()\n",
    "print(contents)\n",
    "\n",
    "print(\"\\n--- Looping over the lines:\")\n",
    "with open(filename) as f:\n",
    "    for line in f:\n",
    "        print(line.rstrip())\n",
    "\n",
    "print(\"\\n--- Storing the lines in a list:\")\n",
    "with open(filename) as f:\n",
    "    lines = f.readlines()\n",
    "\n",
    "for line in lines:\n",
    "    print(line.rstrip())"
   ]
  },
  {
   "cell_type": "code",
   "execution_count": 102,
   "metadata": {},
   "outputs": [
    {
     "name": "stdout",
     "output_type": "stream",
     "text": [
      "In C you can write files.\n",
      "In C you can load files.\n",
      "In C you can make tests.\n",
      "In C you can make random numbers.\n"
     ]
    }
   ],
   "source": [
    "# 10-2\n",
    "# the replace.() method replaces any word in a string.\n",
    "# an example:\n",
    "# message = \"I really like dogs.\"\n",
    "# message.replace('dog', 'cat')\n",
    "# I really like cats.\n",
    "\n",
    "filename = 'learning_python.txt'\n",
    "\n",
    "with open(filename) as f:\n",
    "    lines = f.readlines()\n",
    "        \n",
    "for line in lines:\n",
    "    # Get rid of newline, then replace Python with C.\n",
    "    line = line.rstrip()\n",
    "    print(line.replace('Python', 'C'))"
   ]
  },
  {
   "cell_type": "markdown",
   "metadata": {},
   "source": [
    "## Writing to  a File"
   ]
  },
  {
   "cell_type": "code",
   "execution_count": 45,
   "metadata": {},
   "outputs": [],
   "source": [
    "filename = 'programming.txt'\n",
    "\n",
    "with open(filename, 'w') as file_object:\n",
    "    file_object.write(\"I love programming.\")"
   ]
  },
  {
   "cell_type": "markdown",
   "metadata": {},
   "source": [
    "* **Writing to an empty file**\n",
    "* we use the *open()* method with a second argument telling, that you want to write to a file\n",
    "    * the first argument is the name of the file\n",
    "    * the second argument 'w' tells, that we are in the *write mode*\n",
    "    * you can open a file:\n",
    "        * with the read mode *'r'*\n",
    "        * with the write mode *'w'*\n",
    "        * and with the append mode *'a'*\n",
    "        * or with the read plus mode *'r+'* which allows you to read and write the file\n",
    "* we use the write() method on the file object to write a string to the file\n",
    "* you can just write strings to a txt file, if you want to write numerical data use the str() function"
   ]
  },
  {
   "cell_type": "code",
   "execution_count": 46,
   "metadata": {},
   "outputs": [],
   "source": [
    "filename = 'programming.txt'\n",
    "\n",
    "with open(filename, 'a') as file_object:\n",
    "    file_object.write(\"I also love finding meaning in large datasets.\\n\")\n",
    "    file_object.write(\"I love creating apps that can run in a browser.\\n\")"
   ]
  },
  {
   "cell_type": "code",
   "execution_count": 104,
   "metadata": {},
   "outputs": [],
   "source": [
    "filename = 'programming.txt'\n",
    "\n",
    "with open(filename, 'a') as file_object:\n",
    "    file_object.write(\"I also love finding meaning in large datasets.\\n\")\n",
    "    file_object.write(\"I love creating apps that can run in a browser.\\n\")"
   ]
  },
  {
   "cell_type": "markdown",
   "metadata": {},
   "source": [
    "#### Tasks"
   ]
  },
  {
   "cell_type": "markdown",
   "metadata": {},
   "source": [
    "* 10-3. Guest: Write a program that prompts the user for their name. When they respond, write their name to a file called guest.txt.\n",
    "* 10-4. Guest Book: Write a while loop that prompts users for their name. When they enter their name, print a greeting to the screen and add a line recording their visit in a file called guest_book.txt . Make sure each entry appears on a new line in the file.\n",
    "* 10-5. Programming Poll: Write a while loop that asks people why they like programming. Each time someone enters a reason, add their reason to a file that stores all the responses."
   ]
  },
  {
   "cell_type": "code",
   "execution_count": 115,
   "metadata": {},
   "outputs": [
    {
     "name": "stdout",
     "output_type": "stream",
     "text": [
      "Enter your username: Ugur\n"
     ]
    }
   ],
   "source": [
    "# 10-3\n",
    "filename = 'username.txt'\n",
    "username = input(\"Enter your username: \")\n",
    "\n",
    "with open(filename, 'a') as f_obj:\n",
    "    f_obj.write(\"The username is: \" + username + \"\\n\")"
   ]
  },
  {
   "cell_type": "code",
   "execution_count": 125,
   "metadata": {},
   "outputs": [
    {
     "name": "stdout",
     "output_type": "stream",
     "text": [
      "Enter your username: Ugur\n",
      "Hi, Ugur!\n",
      "Enter your username: Tigu\n",
      "Hi, Tigu!\n",
      "Enter your username: q\n"
     ]
    }
   ],
   "source": [
    "# 10-4\n",
    "\n",
    "filename = 'names.txt'\n",
    "\n",
    "while True:\n",
    "    usernames = input(\"Enter your username: \")\n",
    "    if usernames == 'q':\n",
    "        break\n",
    "    else:\n",
    "        with open(filename, 'a') as f_obj:\n",
    "            f_obj.write(usernames + \"\\n\")\n",
    "        print(\"Hi, \" + usernames + \"!\")"
   ]
  },
  {
   "cell_type": "code",
   "execution_count": 160,
   "metadata": {},
   "outputs": [
    {
     "name": "stdout",
     "output_type": "stream",
     "text": [
      "Why do you like programming? Job\n",
      "Do you like to answer more questions? (y/n)y\n",
      "Why do you like programming? hobby\n",
      "Do you like to answer more questions? (y/n)n\n",
      "Your list of reasons contains this answers: \n",
      "\tJob\n",
      "\thobby\n"
     ]
    }
   ],
   "source": [
    "# 10-5\n",
    "\n",
    "filename = \"poll.txt\"\n",
    "reasons = []\n",
    "\n",
    "while True:\n",
    "    reason = input(\"Why do you like programming? \")\n",
    "    reasons.append(reason) \n",
    "    continue_poll = input(\"Do you like to answer more questions? (y/n)\")\n",
    "    if continue_poll != 'y':\n",
    "        break\n",
    "\n",
    "with open(filename, 'a') as f_obj:\n",
    "    for reason in reasons:\n",
    "        f_obj.write(reason + \"\\n\")\n",
    "        \n",
    "with open(filename, 'r') as f_obj:\n",
    "    print(\"Your list of reasons contains this answers: \")\n",
    "    for reason in reasons:\n",
    "        print(\"\\t\" + str(reason))"
   ]
  },
  {
   "cell_type": "markdown",
   "metadata": {},
   "source": [
    "## Exceptions"
   ]
  },
  {
   "cell_type": "code",
   "execution_count": 49,
   "metadata": {},
   "outputs": [
    {
     "ename": "ZeroDivisionError",
     "evalue": "division by zero",
     "output_type": "error",
     "traceback": [
      "\u001b[0;31m---------------------------------------------------------------------------\u001b[0m",
      "\u001b[0;31mZeroDivisionError\u001b[0m                         Traceback (most recent call last)",
      "\u001b[0;32m<ipython-input-49-fad870a50e27>\u001b[0m in \u001b[0;36m<module>\u001b[0;34m\u001b[0m\n\u001b[0;32m----> 1\u001b[0;31m \u001b[0mprint\u001b[0m\u001b[0;34m(\u001b[0m\u001b[0;36m5\u001b[0m\u001b[0;34m/\u001b[0m\u001b[0;36m0\u001b[0m\u001b[0;34m)\u001b[0m\u001b[0;34m\u001b[0m\u001b[0;34m\u001b[0m\u001b[0m\n\u001b[0m",
      "\u001b[0;31mZeroDivisionError\u001b[0m: division by zero"
     ]
    }
   ],
   "source": [
    "print(5/0)"
   ]
  },
  {
   "cell_type": "markdown",
   "metadata": {},
   "source": [
    "* **Handling the ZeroDevisionError Exception**"
   ]
  },
  {
   "cell_type": "code",
   "execution_count": 50,
   "metadata": {},
   "outputs": [
    {
     "name": "stdout",
     "output_type": "stream",
     "text": [
      "You can't divide by zero!\n"
     ]
    }
   ],
   "source": [
    "try: \n",
    "    print(5/0)\n",
    "except ZeroDivisionError:\n",
    "    print(\"You can't divide by zero!\")"
   ]
  },
  {
   "cell_type": "markdown",
   "metadata": {},
   "source": [
    "* we put the line of code which is reponsible for the error inside the try block\n",
    "* if the code in the block runs, python skips over the except block\n",
    "* if the code in the try block causes an error python looks for an except block whose error matches the one that was raised and runs the code in that block\n",
    "* we get an friendly message instead of an error which stops the program"
   ]
  },
  {
   "cell_type": "code",
   "execution_count": 52,
   "metadata": {},
   "outputs": [
    {
     "name": "stdout",
     "output_type": "stream",
     "text": [
      "Give me two numbers, and I'll divide them.\n",
      "Enter 'q' to quit.\n",
      "\n",
      "First number: 3\n",
      "Second number: 0\n"
     ]
    },
    {
     "ename": "ZeroDivisionError",
     "evalue": "division by zero",
     "output_type": "error",
     "traceback": [
      "\u001b[0;31m---------------------------------------------------------------------------\u001b[0m",
      "\u001b[0;31mZeroDivisionError\u001b[0m                         Traceback (most recent call last)",
      "\u001b[0;32m<ipython-input-52-c518059aa6de>\u001b[0m in \u001b[0;36m<module>\u001b[0;34m\u001b[0m\n\u001b[1;32m      9\u001b[0m     \u001b[0;32mif\u001b[0m \u001b[0msecond_number\u001b[0m \u001b[0;34m==\u001b[0m \u001b[0;34m'q'\u001b[0m\u001b[0;34m:\u001b[0m\u001b[0;34m\u001b[0m\u001b[0;34m\u001b[0m\u001b[0m\n\u001b[1;32m     10\u001b[0m         \u001b[0;32mbreak\u001b[0m\u001b[0;34m\u001b[0m\u001b[0;34m\u001b[0m\u001b[0m\n\u001b[0;32m---> 11\u001b[0;31m     \u001b[0manswer\u001b[0m \u001b[0;34m=\u001b[0m \u001b[0mint\u001b[0m\u001b[0;34m(\u001b[0m\u001b[0mfirst_number\u001b[0m\u001b[0;34m)\u001b[0m \u001b[0;34m/\u001b[0m \u001b[0mint\u001b[0m\u001b[0;34m(\u001b[0m\u001b[0msecond_number\u001b[0m\u001b[0;34m)\u001b[0m\u001b[0;34m\u001b[0m\u001b[0;34m\u001b[0m\u001b[0m\n\u001b[0m\u001b[1;32m     12\u001b[0m     \u001b[0mprint\u001b[0m\u001b[0;34m(\u001b[0m\u001b[0manswer\u001b[0m\u001b[0;34m)\u001b[0m\u001b[0;34m\u001b[0m\u001b[0;34m\u001b[0m\u001b[0m\n",
      "\u001b[0;31mZeroDivisionError\u001b[0m: division by zero"
     ]
    }
   ],
   "source": [
    "print(\"Give me two numbers, and I'll divide them.\")\n",
    "print(\"Enter 'q' to quit.\")\n",
    "\n",
    "while True:\n",
    "    first_number = input(\"\\nFirst number: \")\n",
    "    if first_number == 'q':\n",
    "        break\n",
    "    second_number = input(\"Second number: \")\n",
    "    if second_number == 'q':\n",
    "        break\n",
    "    answer = int(first_number) / int(second_number)\n",
    "    print(answer)"
   ]
  },
  {
   "cell_type": "markdown",
   "metadata": {},
   "source": [
    "* **Using Exceptions to Prevent Craches**\n",
    "* this program prompts the user to input a first and second number and divides tham\n",
    "* unfortunately you can't divide by zero, so you'll get an error"
   ]
  },
  {
   "cell_type": "code",
   "execution_count": 54,
   "metadata": {},
   "outputs": [
    {
     "name": "stdout",
     "output_type": "stream",
     "text": [
      "Give me two numbers, and I'll divide them.\n",
      "Enter 'q' to quit.\n",
      "\n",
      "First number: 12\n",
      "Second number: 12\n",
      "1.0\n",
      "\n",
      "First number: 0\n",
      "Second number: 1\n",
      "0.0\n",
      "\n",
      "First number: 2\n",
      "Second number: 0\n",
      "You can't divide b 0!\n",
      "\n",
      "First number: q\n"
     ]
    }
   ],
   "source": [
    "print(\"Give me two numbers, and I'll divide them.\")\n",
    "print(\"Enter 'q' to quit.\")\n",
    "\n",
    "while True:\n",
    "    first_number = input(\"\\nFirst number: \")\n",
    "    if first_number == 'q':\n",
    "        break\n",
    "    second_number = input(\"Second number: \")\n",
    "    try:\n",
    "        answer = int(first_number) / int(second_number)\n",
    "    except ZeroDivisionError:\n",
    "        print(\"You can't divide by 0!\")\n",
    "    else:\n",
    "        print(answer)"
   ]
  },
  {
   "cell_type": "markdown",
   "metadata": {},
   "source": [
    "* **The else Block**\n",
    "* wrapping the line that might produce errors in a try-except block\n",
    "* any code that depends on the try block executing successfully goes in the else block\n",
    "* we ask to try to complete the division operation in a try block\n",
    "* this code, the only code might be responsible for the error is in that block\n",
    "* we then have a ZeroDivisionError which we handle by printing our error message\n",
    "* if the try statement does not succeed we have no division by zero so our code is running normal"
   ]
  },
  {
   "cell_type": "code",
   "execution_count": 55,
   "metadata": {},
   "outputs": [
    {
     "ename": "FileNotFoundError",
     "evalue": "[Errno 2] No such file or directory: 'alice.txt'",
     "output_type": "error",
     "traceback": [
      "\u001b[0;31m---------------------------------------------------------------------------\u001b[0m",
      "\u001b[0;31mFileNotFoundError\u001b[0m                         Traceback (most recent call last)",
      "\u001b[0;32m<ipython-input-55-afc69c46d931>\u001b[0m in \u001b[0;36m<module>\u001b[0;34m\u001b[0m\n\u001b[1;32m      1\u001b[0m \u001b[0mfilename\u001b[0m \u001b[0;34m=\u001b[0m \u001b[0;34m'alice.txt'\u001b[0m\u001b[0;34m\u001b[0m\u001b[0;34m\u001b[0m\u001b[0m\n\u001b[1;32m      2\u001b[0m \u001b[0;34m\u001b[0m\u001b[0m\n\u001b[0;32m----> 3\u001b[0;31m \u001b[0;32mwith\u001b[0m \u001b[0mopen\u001b[0m\u001b[0;34m(\u001b[0m\u001b[0mfilename\u001b[0m\u001b[0;34m)\u001b[0m \u001b[0;32mas\u001b[0m \u001b[0mf_obj\u001b[0m\u001b[0;34m:\u001b[0m\u001b[0;34m\u001b[0m\u001b[0;34m\u001b[0m\u001b[0m\n\u001b[0m\u001b[1;32m      4\u001b[0m     \u001b[0mcontents\u001b[0m \u001b[0;34m=\u001b[0m \u001b[0mf_obj\u001b[0m\u001b[0;34m.\u001b[0m\u001b[0mread\u001b[0m\u001b[0;34m(\u001b[0m\u001b[0;34m)\u001b[0m\u001b[0;34m\u001b[0m\u001b[0;34m\u001b[0m\u001b[0m\n",
      "\u001b[0;31mFileNotFoundError\u001b[0m: [Errno 2] No such file or directory: 'alice.txt'"
     ]
    }
   ],
   "source": [
    "filename = 'alice.txt'\n",
    "\n",
    "with open(filename) as f_obj:\n",
    "    contents = f_obj.read()"
   ]
  },
  {
   "cell_type": "markdown",
   "metadata": {},
   "source": [
    "* **Handling the FIleNotFoundError Exception**\n",
    "* we can't read from a missing file so we need an exception"
   ]
  },
  {
   "cell_type": "code",
   "execution_count": 57,
   "metadata": {},
   "outputs": [
    {
     "name": "stdout",
     "output_type": "stream",
     "text": [
      "Sorry, the file alice.txt does not exist.\n"
     ]
    }
   ],
   "source": [
    "filename = 'alice.txt'\n",
    "\n",
    "try:\n",
    "    with open(filename) as f_obj:\n",
    "        contents = f_obj.read()\n",
    "except FileNotFoundError:\n",
    "    msg = \"Sorry, the file \" + filename + \" does not exist.\"\n",
    "    print(msg)"
   ]
  },
  {
   "cell_type": "markdown",
   "metadata": {},
   "source": [
    "* we can read from the error message python gave us that we have a FileNotFoundError \n",
    "* we can see that the *open()* function is responsible for that\n",
    "* we use a try block and put that open function into that block\n",
    "* we use a except block, wich we know that was originally a FileNotFoundError and print a message instead of the error"
   ]
  },
  {
   "cell_type": "code",
   "execution_count": 61,
   "metadata": {},
   "outputs": [
    {
     "name": "stdout",
     "output_type": "stream",
     "text": [
      "The file alice.txt has about 17842 words.\n"
     ]
    }
   ],
   "source": [
    "filename = 'alice.txt'\n",
    "\n",
    "try:\n",
    "    with open(filename) as f_obj:\n",
    "        contents = f_obj.read()\n",
    "except FileNotFoundError:\n",
    "    msg = \"Sorry, the file \" + \" does not exist.\"\n",
    "    print(msg)\n",
    "else:\n",
    "    # Count the approximate number of words in the file.\n",
    "    words = contents.split()\n",
    "    num_words = len(words)\n",
    "    print(\"The file \" + filename + \" has about \" + str(num_words) + \" words.\")"
   ]
  },
  {
   "cell_type": "markdown",
   "metadata": {},
   "source": [
    "* **Analyzing text**\n",
    "* we use the *split()* method\n",
    "    * title = \"Alice in Wonderland\"\n",
    "    * title.split()\n",
    "    * ['Alice', 'in', 'Wonderland']\n",
    "    * split() will split the string into elemnts and store it in a list of words\n",
    "* this time the FileNotFoundError will not occur\n",
    "* we go into the else block which does:\n",
    "    * using a split method and storing the list into 'words'\n",
    "    * measure the lenght of the list with the len() method\n",
    "    * printing the output"
   ]
  },
  {
   "cell_type": "code",
   "execution_count": 63,
   "metadata": {},
   "outputs": [
    {
     "name": "stdout",
     "output_type": "stream",
     "text": [
      "The file alice.txt has about 17842 words.\n"
     ]
    }
   ],
   "source": [
    "def count_words(filename):\n",
    "    \"\"\"Coun the approximate number of word in a file.\"\"\"\n",
    "    try:\n",
    "        with open(filename) as f_obj:\n",
    "            contents = f_obj.read()\n",
    "    except FileNotFoundError:\n",
    "        msg = \"Sorry, the file \" + \" does not exist.\"\n",
    "        print(msg)\n",
    "    else:\n",
    "        # Count the approximate number of words in the file.\n",
    "        words = contents.split()\n",
    "        num_words = len(words)\n",
    "        print(\"The file \" + filename + \" has about \" + str(num_words) + \" words.\")\n",
    "\n",
    "filename = 'alice.txt'\n",
    "count_words(filename)\n",
    "    "
   ]
  },
  {
   "cell_type": "markdown",
   "metadata": {},
   "source": [
    "* **Working with Multiple Files**\n",
    "* first we put the bulk of our counting program into a function so we can call it later again "
   ]
  },
  {
   "cell_type": "code",
   "execution_count": 65,
   "metadata": {},
   "outputs": [
    {
     "name": "stdout",
     "output_type": "stream",
     "text": [
      "Sorry, the file  does not exist.\n",
      "The file alice.txt has about 17842 words.\n",
      "The file siddhartha.txt has about 46296 words.\n"
     ]
    }
   ],
   "source": [
    "filenames = ['missing_book.txt', 'alice.txt', 'siddhartha.txt']\n",
    "for filename in filenames:\n",
    "    count_words(filename)"
   ]
  },
  {
   "cell_type": "markdown",
   "metadata": {},
   "source": [
    "* We included two new txt files in our directory\n",
    "* we have a list of files, the last one is intentionally not in the same directory\n",
    "* we make a for loop which uses our function for each file in the list\n",
    "* we can see the exception error, when the file is missing\n",
    "* the advantage of the exception is:\n",
    "    * we don't get an error which stops the program from running\n",
    "    * means the other two files would not be scanned, if the error happens\n",
    "    * and the user is getting informed about an error \n",
    "    * no one can see the report (safety reasons)"
   ]
  },
  {
   "cell_type": "code",
   "execution_count": 66,
   "metadata": {},
   "outputs": [
    {
     "name": "stdout",
     "output_type": "stream",
     "text": [
      "The file alice.txt has about 17842 words.\n",
      "The file siddhartha.txt has about 46296 words.\n"
     ]
    }
   ],
   "source": [
    "def count_words(filename):\n",
    "    \"\"\"Coun the approximate number of word in a file.\"\"\"\n",
    "    try:\n",
    "        with open(filename) as f_obj:\n",
    "            contents = f_obj.read()\n",
    "    except FileNotFoundError:\n",
    "        pass\n",
    "    else:\n",
    "        # Count the approximate number of words in the file.\n",
    "        words = contents.split()\n",
    "        num_words = len(words)\n",
    "        print(\"The file \" + filename + \" has about \" + str(num_words) + \" words.\")\n",
    "\n",
    "filenames = ['missing_book.txt', 'alice.txt', 'siddhartha.txt']\n",
    "for filename in filenames:\n",
    "    count_words(filename)"
   ]
  },
  {
   "cell_type": "markdown",
   "metadata": {},
   "source": [
    "* **Failing Silently**\n",
    "* we use a pass statement instead of a print, that some error is happening\n",
    "* the user will not see any error\n",
    "* the pass statement acts like a placeholder\n",
    "* it is a reminder that you're choosing to do nothing a a specific place\n",
    "* for example we want to write any missing file in a *missing_files.txt* the user has to see nothing"
   ]
  },
  {
   "cell_type": "markdown",
   "metadata": {},
   "source": [
    "#### Tasks"
   ]
  },
  {
   "cell_type": "markdown",
   "metadata": {},
   "source": [
    "* 10-6. Addition: One common problem when prompting for numerical input occurs when people provide text instead of numbers. When you try to convert the input to an int, you’ll get a TypeError. Write a program that prompts for two numbers. Add them together and print the result. Catch the TypeError if either input value is not a number, and print a friendly error message. Test your program by entering two numbers and then by entering some text instead of a number.\n",
    "* 10-7. Addition Calculator: Wrap your code from Exercise 10-6 in a while loop so the user can continue entering numbers even if they make a mistake and enter text instead of a number.\n",
    "* 10-8. Cats and Dogs: Make two files, cats.txt and dogs.txt. Store at least three names of cats in the first file and three names of dogs in the second file. Write a program that tries to read these files and print the contents of the file to the screen. Wrap your code in a try-except block to catch the FileNotFound error, and print a friendly message if a file is missing. Move one of the files to a different location on your system, and make sure the code in the except block executes properly.\n",
    "* 10-9. Silent Cats and Dogs: Modify your except block in Exercise * 10-8 to fail silently if either file is missing.\n",
    "* 10-10. Common Words: Visit Project Gutenberg (http://gutenberg.org/ ) and find a few texts you’d like to analyze. Download the text files for these works, or copy the raw text from your browser into a text file on your computer. You can use the count() method to find out how many times a word or phrase appears in a string. For example, the following code counts the number of times 'row' appears in a string:\n",
    "    * line = \"Row, row, row your boat\" \n",
    "    * line.count('row')\n",
    "    * 2\n",
    "    * line.lower().count('row')\n",
    "    * 3\n",
    "    * Notice that converting the string to lowercase using lower() catches all appearances of the word you’re looking for, regardless of how it’s formatted.\n",
    "    * Write a program that reads the files you found at Project Gutenberg and determines how many times the word 'the' appears in each text."
   ]
  },
  {
   "cell_type": "code",
   "execution_count": 171,
   "metadata": {},
   "outputs": [
    {
     "name": "stdout",
     "output_type": "stream",
     "text": [
      "Give me two numbers, and I'll add them together.\n",
      "Enter 'q' to quit.\n",
      "\n",
      "First number: 12\n",
      "Second number: 12\n",
      "24\n",
      "\n",
      "First number: 12\n",
      "Second number: we\n",
      "You have to give some number!\n",
      "\n",
      "First number: 12\n",
      "Second number: 34\n",
      "46\n",
      "\n",
      "First number: q\n"
     ]
    }
   ],
   "source": [
    "# 10-6 + 10-7\n",
    "\n",
    "print(\"Give me two numbers, and I'll add them together.\")\n",
    "print(\"Enter 'q' to quit.\")\n",
    "\n",
    "while True:\n",
    "    first_number = input(\"\\nFirst number: \")\n",
    "    if first_number == 'q':\n",
    "        break\n",
    "    second_number = input(\"Second number: \")\n",
    "    try:\n",
    "        answer = int(first_number) + int(second_number)\n",
    "    except ValueError:\n",
    "        print(\"You have to give some number!\")\n",
    "    else:\n",
    "        print(answer)"
   ]
  },
  {
   "cell_type": "code",
   "execution_count": 200,
   "metadata": {},
   "outputs": [
    {
     "name": "stdout",
     "output_type": "stream",
     "text": [
      "The name of the cat is:  \n",
      "- einstein!\n",
      "The name of the cat is:  \n",
      "- diva!\n",
      "The name of the cat is:  \n",
      "- garfield!\n"
     ]
    }
   ],
   "source": [
    "# 10-8\n",
    "\n",
    "filenames = ['cats.txt', 'dogs.txt']\n",
    "cat_names = ['einstein', 'diva', 'garfield']\n",
    "dog_names = ['wullf', 'kurdi', 'köpek']\n",
    "\n",
    "# Please select the filename!\n",
    "filename = 'cats.txt'\n",
    "# Please select the filename!\n",
    "\n",
    "# writing the cat_names into the cats.txt\n",
    "with open(filenames[0], 'w') as f_obj:\n",
    "    for cat_name in cat_names:\n",
    "        f_obj.write(cat_name + \"\\n\")\n",
    "        \n",
    "# writing the dog_names into the dogs.txt\n",
    "with open(filenames[1], 'w') as f_obj:\n",
    "    for dog_name in dog_names:\n",
    "        f_obj.write(dog_name + \"\\n\")\n",
    "\n",
    "# a function that reads the files of a certain file.\n",
    "# if the file is missing the user gets an alert.\n",
    "def read_files(filenames):\n",
    "    \"\"\"Read the names in the files and prints the content.\"\"\"\n",
    "    try:\n",
    "        with open(filenames) as f_obj:\n",
    "            contents = f_obj.read()\n",
    "    except FileNotFoundError:\n",
    "        msg = \"Sorry, the file \" + \" does not exist.\"\n",
    "        print(msg)\n",
    "    else:\n",
    "        # Print the content of the file.\n",
    "        words = contents.split()\n",
    "        # checking what kind of file is used, editing the message!\n",
    "        if filename == 'cats.txt':\n",
    "            for word in words:\n",
    "                print(\"The name of the cat is: \" + \" \\n- \" + word + \"!\")\n",
    "        elif filename == 'dogs.txt':\n",
    "            for word in words:\n",
    "                print(\"The name of the dog is: \" + \" \\n- \" + word + \"!\")\n",
    "\n",
    "# call the function to read the content of the file!\n",
    "read_files(filename)"
   ]
  },
  {
   "cell_type": "code",
   "execution_count": 227,
   "metadata": {},
   "outputs": [
    {
     "name": "stdout",
     "output_type": "stream",
     "text": [
      "The name of the dog is:  \n",
      "- wullf!\n",
      "The name of the dog is:  \n",
      "- kurdi!\n",
      "The name of the dog is:  \n",
      "- köpek!\n"
     ]
    }
   ],
   "source": [
    "# 10-9\n",
    "\n",
    "filenames = ['cats.txt', 'dogs.txt']\n",
    "dog_names = ['wullf', 'kurdi', 'köpek']\n",
    "\n",
    "# writing the dog_names into the dogs.txt\n",
    "with open(filenames[1], 'w') as f_obj:\n",
    "    for dog_name in dog_names:\n",
    "        f_obj.write(dog_name + \"\\n\")\n",
    "\n",
    "# the cats.txt is missing this time!\n",
    "\n",
    "# a function that reads the files of a certain file.\n",
    "# if the file is missing the user gets an alert.\n",
    "def read_files(filenames):\n",
    "    \"\"\"Read the names in the files and prints the content.\"\"\"\n",
    "    try:\n",
    "        with open(filenames) as f_obj:\n",
    "            contents = f_obj.read()\n",
    "    except FileNotFoundError:\n",
    "        pass\n",
    "    # cats.txt is missing, we just go on with the dogs.txt instead of giving an alert!!!\n",
    "    else:\n",
    "        # Print the content of the file.\n",
    "        words = contents.split()\n",
    "        # checking what kind of file is used, editing the message!\n",
    "        if filename == 'cats.txt':\n",
    "            for word in words:\n",
    "                print(\"The name of the cat is: \" + \" \\n- \" + word + \"!\")\n",
    "        elif filename == 'dogs.txt':\n",
    "            for word in words:\n",
    "                print(\"The name of the dog is: \" + \" \\n- \" + word + \"!\")\n",
    "\n",
    "# call the function to read the content of the file!\n",
    "for filename in filenames:\n",
    "    read_files(filename)"
   ]
  },
  {
   "cell_type": "code",
   "execution_count": 238,
   "metadata": {},
   "outputs": [
    {
     "name": "stdout",
     "output_type": "stream",
     "text": [
      "The file girls_paper.txt has about 1417 'the's'.\n",
      "The file alice.txt has about 833 'the's'.\n",
      "The file siddhartha.txt has about 2395 'the's'.\n"
     ]
    }
   ],
   "source": [
    "filenames = ['girls_paper.txt', 'alice.txt', 'siddhartha.txt']\n",
    "\n",
    "def count_the(filename):\n",
    "    \"\"\"Count the number of the word 'the' in a file.\"\"\"\n",
    "    try:\n",
    "        with open(filename) as f_obj:\n",
    "            contents = f_obj.read()\n",
    "    except FileNotFoundError:\n",
    "        msg = \"Sorry, the file \" + \" does not exist.\"\n",
    "        print(msg)\n",
    "    else:\n",
    "        # Count how many times the word 'the' is in the text.\n",
    "        words = contents.lower().split()\n",
    "        the_words = words.count('the')\n",
    "        print(\"The file \" + filename + \" has about \" + str(the_words) + \" 'the's'.\")\n",
    "\n",
    "for filename in filenames:\n",
    "    count_the(filename)"
   ]
  },
  {
   "cell_type": "markdown",
   "metadata": {},
   "source": [
    "## Storing Data"
   ]
  },
  {
   "cell_type": "code",
   "execution_count": 67,
   "metadata": {},
   "outputs": [],
   "source": [
    "import json\n",
    "\n",
    "numbers = [2, 3, 5, 7, 11, 13]\n",
    "\n",
    "filename = 'numbers.json'\n",
    "with open(filename, 'w') as f_obj:\n",
    "    json.dump(numbers, f_obj)"
   ]
  },
  {
   "cell_type": "markdown",
   "metadata": {},
   "source": [
    "* **Using json.dump() and json.load()**\n",
    "* we import the json module\n",
    "* we build a list of numbers and store them\n",
    "* we chose a filename 'numbers.json' and store it into filename\n",
    "* we open a file, the second argument is 'w', we write that line \n",
    "* the json.dump() takes two arguments:\n",
    "    * our list which contains the numbers\n",
    "    * the file, which we created as f_obj\n",
    "* this program has no output but we can check the file, which is correct"
   ]
  },
  {
   "cell_type": "code",
   "execution_count": 68,
   "metadata": {},
   "outputs": [
    {
     "name": "stdout",
     "output_type": "stream",
     "text": [
      "[2, 3, 5, 7, 11, 13]\n"
     ]
    }
   ],
   "source": [
    "import json\n",
    "\n",
    "filename = 'numbers.json'\n",
    "with open(filename) as f_obj:\n",
    "    numbers = json.load(f_obj)\n",
    "    \n",
    "print(numbers)"
   ]
  },
  {
   "cell_type": "markdown",
   "metadata": {},
   "source": [
    "* this time we open the file in read mode, we just need to read the file\n",
    "* we use the json.load() function to load the json file into a variable 'numbers'\n",
    "* we simply print this variable, so we get our numbers"
   ]
  },
  {
   "cell_type": "code",
   "execution_count": 69,
   "metadata": {},
   "outputs": [
    {
     "name": "stdout",
     "output_type": "stream",
     "text": [
      "What is your name? Ugur\n",
      "We'll remember you when you come back, Ugur!\n"
     ]
    }
   ],
   "source": [
    "import json\n",
    "\n",
    "username = input(\"What is your name? \")\n",
    "\n",
    "filename = 'username.json'\n",
    "with open(filename, 'w') as f_obj:\n",
    "    json.dump(username, f_obj)\n",
    "    print(\"We'll remember you when you come back, \" + username + \"!\")\n",
    "    "
   ]
  },
  {
   "cell_type": "markdown",
   "metadata": {},
   "source": [
    "* **Saving an Reading User-Generated Data**\n",
    "* we prompt an username and store it into username\n",
    "* we use the dump and pass the username (which is an input stored in that variable 'username') and the file (which is f_obj)"
   ]
  },
  {
   "cell_type": "code",
   "execution_count": 71,
   "metadata": {},
   "outputs": [
    {
     "name": "stdout",
     "output_type": "stream",
     "text": [
      "Welcome back, Ugur!\n"
     ]
    }
   ],
   "source": [
    "import json\n",
    "\n",
    "filename = 'username.json'\n",
    "\n",
    "with open(filename) as f_obj:\n",
    "    username = json.load(f_obj)\n",
    "    print(\"Welcome back, \" + username + \"!\")"
   ]
  },
  {
   "cell_type": "markdown",
   "metadata": {},
   "source": [
    "* we load the data with the json.load() function from the file whih is f_obj\n",
    "* we print the loaded json with our message"
   ]
  },
  {
   "cell_type": "code",
   "execution_count": 76,
   "metadata": {},
   "outputs": [
    {
     "name": "stdout",
     "output_type": "stream",
     "text": [
      "Welcome back, Ugur!\n"
     ]
    }
   ],
   "source": [
    "import json\n",
    "\n",
    "# Load the username, if it has been stored previously.\n",
    "# Otherwise, prompt for the username and store it.\n",
    "\n",
    "filename = 'username.json'\n",
    "try: \n",
    "    with open(filename) as f_obj:\n",
    "        username = json.load(f_obj)\n",
    "except FileNotFoundError:\n",
    "    username = input(\"What is your name? \")\n",
    "    with open(filename, 'w') as f_obj:\n",
    "        json.dump(username, f_obj)\n",
    "        print(\"We'll remember you when you come bnack, \" +  username + \"!\")\n",
    "else:\n",
    "    print(\"Welcome back, \" + username + \"!\")"
   ]
  },
  {
   "cell_type": "markdown",
   "metadata": {},
   "source": [
    "* we put both into one\n",
    "* first we try to open the file username.json with the json.load() function\n",
    "* if the file exists we do the else block\n",
    "* if we get an FileNotFoundError we ask the user for input and we use therefore the json.dump() method"
   ]
  },
  {
   "cell_type": "code",
   "execution_count": 81,
   "metadata": {},
   "outputs": [
    {
     "name": "stdout",
     "output_type": "stream",
     "text": [
      "Welcome back, Ugur!\n"
     ]
    }
   ],
   "source": [
    "import json\n",
    "\n",
    "def get_stored_username():\n",
    "    \"\"\"Get stored username if aviable.\"\"\"\n",
    "    filename = 'username.json'\n",
    "    try: \n",
    "        with open(filename) as f_obj:\n",
    "            username = json.load(f_obj)\n",
    "    except FileNotFoundError:\n",
    "        return None\n",
    "    else:\n",
    "        return username\n",
    "\n",
    "def greet_user():\n",
    "    \"\"\"Greet the user by name.\"\"\"\n",
    "    username = get_stored_username()\n",
    "    if username:\n",
    "        print(\"Welcome back, \" + username + \"!\")\n",
    "    else:\n",
    "        username = input(\"What is your name? \")\n",
    "        filename = 'username.json'\n",
    "        with open(filename, 'w') as f_obj:\n",
    "            json.dump(username, f_obj)\n",
    "            print(\"We'll remember you when you come back, \" +  username + \"!\")\n",
    "        \n",
    "greet_user()"
   ]
  },
  {
   "cell_type": "markdown",
   "metadata": {},
   "source": [
    "* **Refactoring**\n",
    "* breaking the code into a series of functions "
   ]
  },
  {
   "cell_type": "markdown",
   "metadata": {},
   "source": [
    "* the new function *get_stored_username* has a clear purpose\n",
    "* this function retreives the username\n",
    "* if the file is missing it returns nothing\n",
    "* a function should either return a value or None\n",
    "* the *greet_user()* function takes the username from the function above and stores it into 'username'\n",
    "* we check if the username is stored or not\n",
    "* in case we don't have an username we ask the user for input\n",
    "* we store that \n",
    "* we write it into the file via json.dump() method and print a message "
   ]
  },
  {
   "cell_type": "markdown",
   "metadata": {},
   "source": [
    "#### Tasks"
   ]
  },
  {
   "cell_type": "markdown",
   "metadata": {},
   "source": [
    "* 10-11. Favorite Number: Write a program that prompts for the user’s favorite number. Use json.dump() to store this number in a file. Write a separate pro- gram that reads in this value and prints the message, “I know your favorite number! It’s _____ .”\n",
    "* 10-12. Favorite Number Remembered: Combine the two programs from Exercise 10-11 into one file. If the number is already stored, report the favorite number to the user. If not, prompt for the user’s favorite number and store it in a file. Run the program twice to see that it works.\n",
    "* 10-13. Verify User: The final listing for remember_me.py assumes either that the user has already entered their username or that the program is running for the first time. We should modify it in case the current user is not the person who last used the program. Before printing a welcome back message in greet_user(), ask the user if this is the correct username. If it’s not, call get_new_username() to get the correct username."
   ]
  },
  {
   "cell_type": "code",
   "execution_count": 288,
   "metadata": {},
   "outputs": [
    {
     "name": "stdout",
     "output_type": "stream",
     "text": [
      "What is your favorite number? 12\n",
      "What is your favorite number? 12\n",
      "The number is the same!\n"
     ]
    }
   ],
   "source": [
    "# 10-11 & 10-12\n",
    "\n",
    "import json\n",
    "\n",
    "# initialization\n",
    "filename = 'favorite_number_user.json'\n",
    "\n",
    "# function to get the number and store it\n",
    "def get_number():\n",
    "    \"\"\"Gets the number of the user and stores it in a variable.\"\"\"\n",
    "    number = input(\"What is your favorite number? \")\n",
    "    with open(filename, 'w') as f_obj:\n",
    "        json.dump(number, f_obj)\n",
    "    return int(number)\n",
    "    \n",
    "# function to prompt the number from the .json file\n",
    "def prompt_number():\n",
    "    \"\"\"Reads and prints the number.\"\"\"\n",
    "    number = get_number()\n",
    "    if number == get_number():\n",
    "        print(\"The number is the same!\")\n",
    "    else:\n",
    "        with open(filename) as f_obj:\n",
    "            json.load(f_obj)\n",
    "            print(\"The number before was: \" + str(number) + \"!\")\n",
    "    \n",
    "prompt_number()"
   ]
  },
  {
   "cell_type": "code",
   "execution_count": 296,
   "metadata": {},
   "outputs": [
    {
     "name": "stdout",
     "output_type": "stream",
     "text": [
      "Are you Ugur? (y/n)n\n",
      "What is your name? Heino\n",
      "We will remember you when you come back Heino!\n"
     ]
    }
   ],
   "source": [
    "# 10-13\n",
    "\n",
    "import json\n",
    "\n",
    "def get_stored_username():\n",
    "    \"\"\"Get stored username if aviable.\"\"\"\n",
    "    filename = 'username.json'\n",
    "    try: \n",
    "        with open(filename) as f_obj:\n",
    "            username = json.load(f_obj)\n",
    "    except FileNotFoundError:\n",
    "        return None\n",
    "    else:\n",
    "        return username\n",
    "\n",
    "def get_new_username():\n",
    "    \"\"\"Prompt for a username.\"\"\"\n",
    "    username = input(\"What is your name? \")\n",
    "    filename = 'username.json'\n",
    "    with open(filename, 'w') as f_obj:\n",
    "        json.dump(username, f_obj)\n",
    "    return username\n",
    "        \n",
    "def greet_user():\n",
    "    \"\"\"Greet the user by name.\"\"\"\n",
    "    username = get_stored_username()\n",
    "    if username:\n",
    "        correct = input(\"Are you \" + username + \"? (y/n)\")\n",
    "        if correct == 'y':\n",
    "            print(\"Welcome back \" + username + \"!\")\n",
    "        else:\n",
    "            username = get_new_username()\n",
    "            print(\"We will remember you when you come back \" + username + \"!\")\n",
    "    else:\n",
    "        username = get_new_username()\n",
    "        print(\"We will remember you when you come back \" + username + \"!\")\n",
    "        \n",
    "greet_user()"
   ]
  }
 ],
 "metadata": {
  "kernelspec": {
   "display_name": "Python 3",
   "language": "python",
   "name": "python3"
  },
  "language_info": {
   "codemirror_mode": {
    "name": "ipython",
    "version": 3
   },
   "file_extension": ".py",
   "mimetype": "text/x-python",
   "name": "python",
   "nbconvert_exporter": "python",
   "pygments_lexer": "ipython3",
   "version": "3.7.3"
  }
 },
 "nbformat": 4,
 "nbformat_minor": 2
}
